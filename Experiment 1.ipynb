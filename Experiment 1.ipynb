{
 "cells": [
  {
   "cell_type": "code",
   "execution_count": 4,
   "id": "8b49fb77",
   "metadata": {},
   "outputs": [
    {
     "name": "stdout",
     "output_type": "stream",
     "text": [
      "Enter the celcius value = 5\n",
      "41.0\n"
     ]
    }
   ],
   "source": [
    "celcius = float(input(\"Enter the celcius value = \"))\n",
    "fahrenheit = (celcius*1.8)+32\n",
    "print(fahrenheit)"
   ]
  },
  {
   "cell_type": "code",
   "execution_count": 1,
   "id": "c04de582",
   "metadata": {},
   "outputs": [
    {
     "name": "stdout",
     "output_type": "stream",
     "text": [
      "Enter principal amount = 100\n",
      "Enter rate of interest = 5\n",
      "Enter time of simple interest = 1\n",
      "5.0\n",
      "105.0\n"
     ]
    }
   ],
   "source": [
    "principal = float(input(\"Enter principal amount = \"))\n",
    "interest = float(input(\"Enter rate of interest = \"))\n",
    "time = float(input(\"Enter time of simple interest = \"))\n",
    "si = (principal*interest*time)/100\n",
    "cp = principal + si\n",
    "print(si)\n",
    "print(cp)"
   ]
  },
  {
   "cell_type": "code",
   "execution_count": null,
   "id": "d6aa47a0",
   "metadata": {},
   "outputs": [],
   "source": []
  },
  {
   "cell_type": "code",
   "execution_count": null,
   "id": "a5ee8e3e",
   "metadata": {},
   "outputs": [],
   "source": [
    "principal = float(input(\"Enter principal amount = \"))\n",
    "interest = float(input(\"Enter rate of interest = \"))\n",
    "time = float(input(\"Enter time of simple interest = \"))\n",
    "si = principal*interest*time\n",
    "cp = principal + si\n",
    "print(si)\n",
    "print(cp)"
   ]
  },
  {
   "cell_type": "code",
   "execution_count": null,
   "id": "84337feb",
   "metadata": {},
   "outputs": [],
   "source": []
  }
 ],
 "metadata": {
  "kernelspec": {
   "display_name": "Python 3 (ipykernel)",
   "language": "python",
   "name": "python3"
  },
  "language_info": {
   "codemirror_mode": {
    "name": "ipython",
    "version": 3
   },
   "file_extension": ".py",
   "mimetype": "text/x-python",
   "name": "python",
   "nbconvert_exporter": "python",
   "pygments_lexer": "ipython3",
   "version": "3.10.0"
  }
 },
 "nbformat": 4,
 "nbformat_minor": 5
}
