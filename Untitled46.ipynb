{
 "cells": [
  {
   "cell_type": "code",
   "execution_count": 1,
   "id": "24fd596a",
   "metadata": {},
   "outputs": [
    {
     "name": "stdout",
     "output_type": "stream",
     "text": [
      "129\n"
     ]
    }
   ],
   "source": [
    "print(2**3+(5+6)**(1+1))"
   ]
  },
  {
   "cell_type": "code",
   "execution_count": 2,
   "id": "991a128b",
   "metadata": {},
   "outputs": [
    {
     "name": "stdout",
     "output_type": "stream",
     "text": [
      "('p', 'y', 't', 'h', 'o', 'n')\n"
     ]
    }
   ],
   "source": [
    "A = tuple(\"python\")\n",
    "print(A)"
   ]
  },
  {
   "cell_type": "code",
   "execution_count": 4,
   "id": "f4049976",
   "metadata": {},
   "outputs": [
    {
     "name": "stdout",
     "output_type": "stream",
     "text": [
      "n global universit\n",
      " c v raman global university\n"
     ]
    }
   ],
   "source": [
    "s1 = \" i study at c v raman global university\"\n",
    "str1 = s1[20:38:1]\n",
    "print(str1)\n",
    "\n",
    "str2 = s1[11: :1]\n",
    "print(str2)"
   ]
  },
  {
   "cell_type": "code",
   "execution_count": 5,
   "id": "8b9c0eda",
   "metadata": {},
   "outputs": [
    {
     "name": "stdout",
     "output_type": "stream",
     "text": [
      "<class 'set'>\n",
      "<class 'dict'>\n"
     ]
    }
   ],
   "source": [
    "s1 = {10,20,30}\n",
    "p1 = type(s1)\n",
    "print(p1)\n",
    "\n",
    "s2 = {}\n",
    "p2 = type(s2)\n",
    "print(p2)"
   ]
  },
  {
   "cell_type": "code",
   "execution_count": 6,
   "id": "6e5d2a05",
   "metadata": {},
   "outputs": [
    {
     "name": "stdout",
     "output_type": "stream",
     "text": [
      "[5, 10, 7, 4, 15, 3]\n",
      "{3, 4, 5, 7, 10, 15}\n"
     ]
    }
   ],
   "source": [
    "x = [5,10,7,4,15,3]\n",
    "print(x)\n",
    "y = set(x)\n",
    "print(y)"
   ]
  },
  {
   "cell_type": "code",
   "execution_count": null,
   "id": "86b92117",
   "metadata": {},
   "outputs": [],
   "source": []
  }
 ],
 "metadata": {
  "kernelspec": {
   "display_name": "Python 3 (ipykernel)",
   "language": "python",
   "name": "python3"
  },
  "language_info": {
   "codemirror_mode": {
    "name": "ipython",
    "version": 3
   },
   "file_extension": ".py",
   "mimetype": "text/x-python",
   "name": "python",
   "nbconvert_exporter": "python",
   "pygments_lexer": "ipython3",
   "version": "3.10.0"
  }
 },
 "nbformat": 4,
 "nbformat_minor": 5
}
