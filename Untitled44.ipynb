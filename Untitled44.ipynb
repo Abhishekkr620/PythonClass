{
 "cells": [
  {
   "cell_type": "code",
   "execution_count": 8,
   "id": "e4480f18",
   "metadata": {},
   "outputs": [
    {
     "name": "stdout",
     "output_type": "stream",
     "text": [
      "enter lower limit1\n",
      "enter upper limit4\n",
      "3\n",
      "sum of numbers is 2\n"
     ]
    }
   ],
   "source": [
    "low=int(input(\"enter lower limit\"))\n",
    "up=int(input(\"enter upper limit\"))\n",
    "sum=0\n",
    "for num in range(low,up+1):\n",
    "   if num > 1:\n",
    "       for i in range(2, num):\n",
    "           if (num % i) == 0:\n",
    "               break\n",
    "           else:\n",
    "            print(num)\n",
    "sum=sum+i\n",
    "print(\"sum of numbers is\",sum)\n",
    " "
   ]
  },
  {
   "cell_type": "code",
   "execution_count": 9,
   "id": "8285dcd0",
   "metadata": {},
   "outputs": [
    {
     "name": "stdout",
     "output_type": "stream",
     "text": [
      "Enter a lowercase string: abcd\n",
      "Uppercase string: ABCD\n"
     ]
    }
   ],
   "source": [
    "# Taking input from the user\n",
    "lowercase_str = input(\"Enter a lowercase string: \")\n",
    "\n",
    "# Converting the string to uppercase\n",
    "uppercase_str = \"\"\n",
    "for char in lowercase_str:\n",
    "    # Checking if the character is lowercase and converting it to uppercase\n",
    "    if ord(char) >= 97 and ord(char) <= 122:\n",
    "        uppercase_str += chr(ord(char) - 32)\n",
    "    else:\n",
    "        uppercase_str += char\n",
    "\n",
    "# Displaying the uppercase string\n",
    "print(\"Uppercase string:\", uppercase_str)"
   ]
  },
  {
   "cell_type": "code",
   "execution_count": null,
   "id": "ee37c3cd",
   "metadata": {},
   "outputs": [],
   "source": []
  }
 ],
 "metadata": {
  "kernelspec": {
   "display_name": "Python 3 (ipykernel)",
   "language": "python",
   "name": "python3"
  },
  "language_info": {
   "codemirror_mode": {
    "name": "ipython",
    "version": 3
   },
   "file_extension": ".py",
   "mimetype": "text/x-python",
   "name": "python",
   "nbconvert_exporter": "python",
   "pygments_lexer": "ipython3",
   "version": "3.10.0"
  }
 },
 "nbformat": 4,
 "nbformat_minor": 5
}
