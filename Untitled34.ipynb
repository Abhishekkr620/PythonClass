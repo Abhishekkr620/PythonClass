{
 "cells": [
  {
   "cell_type": "code",
   "execution_count": 6,
   "id": "670bc8f1",
   "metadata": {},
   "outputs": [
    {
     "name": "stdout",
     "output_type": "stream",
     "text": [
      "Ragh\n",
      "fg\n"
     ]
    }
   ],
   "source": [
    "string1 = \"Ragh\\nfg\"\n",
    "print(string1)"
   ]
  },
  {
   "cell_type": "code",
   "execution_count": 7,
   "id": "04315945",
   "metadata": {},
   "outputs": [
    {
     "name": "stdout",
     "output_type": "stream",
     "text": [
      "Ragh\\nfg\n"
     ]
    }
   ],
   "source": [
    "string2 = r\"Ragh\\nfg\"\n",
    "print(string2)"
   ]
  },
  {
   "cell_type": "code",
   "execution_count": null,
   "id": "6abcda63",
   "metadata": {},
   "outputs": [],
   "source": [
    "string3 = \"Ragh\\\\nfg\"\n",
    "print(string3)"
   ]
  },
  {
   "cell_type": "code",
   "execution_count": null,
   "id": "86e3c253",
   "metadata": {},
   "outputs": [],
   "source": []
  },
  {
   "cell_type": "code",
   "execution_count": 3,
   "id": "5293f826",
   "metadata": {},
   "outputs": [
    {
     "name": "stdout",
     "output_type": "stream",
     "text": [
      "Enter the number23\n",
      "The Number Inputted  23  is Odd \n"
     ]
    }
   ],
   "source": [
    "#Example 2\n",
    "#To check if a number is even or odd\n",
    "#with IF and Else bith\n",
    "a = int(input(\"Enter the number\"))\n",
    "if (a % 2 == 0):\n",
    "    print(\"The Number Inputted \",a,\" is Even \")\n",
    "else:\n",
    "    print(\"The Number Inputted \",a,\" is Odd \")"
   ]
  },
  {
   "cell_type": "code",
   "execution_count": 8,
   "id": "4853430b",
   "metadata": {},
   "outputs": [
    {
     "name": "stdout",
     "output_type": "stream",
     "text": [
      "Enter the number 0\n",
      "Dont know \n"
     ]
    }
   ],
   "source": [
    "#Example 3\n",
    "#To check if a number is even or odd\n",
    "#with IF and Else bith\n",
    "a = int(input(\"Enter the number \"))\n",
    "if (a == 0):\n",
    "    print(\"Dont know \")\n",
    "elif (a % 2 == 0):\n",
    "    print(\"The Number Inputted \",a,\" is Even \")\n",
    "else:\n",
    "    print(\"The Number Inputted \",a,\" is Odd \")"
   ]
  },
  {
   "cell_type": "code",
   "execution_count": 1,
   "id": "2fd72dce",
   "metadata": {},
   "outputs": [
    {
     "name": "stdout",
     "output_type": "stream",
     "text": [
      "Enter the number-2\n",
      "The Number Inputted  -2  is Negative \n"
     ]
    }
   ],
   "source": [
    "# WAP  to find out if an inputted no is positive or Negative\n",
    "a = int(input(\"Enter the number \"))\n",
    "if (a>0):\n",
    "     print(\"The Number Inputted \",a,\" is Positive \")\n",
    "else:\n",
    "    print(\"The Number Inputted \",a,\" is Negative \")"
   ]
  },
  {
   "cell_type": "code",
   "execution_count": 2,
   "id": "0b78b289",
   "metadata": {},
   "outputs": [
    {
     "name": "stdout",
     "output_type": "stream",
     "text": [
      "Enter the number 4\n",
      "The Number Inputted  4  is Positive \n"
     ]
    }
   ],
   "source": [
    "# Now is zero a postive or a negative no\n",
    "# now to combat such conditions, we use ELIF\n",
    "# ELIF -- is a way to indroduce more than 2 conditions in if-else conditions\n",
    "a = int(input(\"Enter the number \"))\n",
    "if (a>0):\n",
    "     print(\"The Number Inputted \",a,\" is Positive \")\n",
    "elif (a == 0):\n",
    "    print(\"The Number Inputted \",a,\" is Zero \")\n",
    "else:\n",
    "    print(\"The Number Inputted \",a,\" is Negative \")"
   ]
  },
  {
   "cell_type": "code",
   "execution_count": 6,
   "id": "60528b03",
   "metadata": {},
   "outputs": [
    {
     "name": "stdout",
     "output_type": "stream",
     "text": [
      "Enter the 1st number 2\n",
      "Enter the 2nd number 2\n",
      "Enter the 3rd number 3\n",
      "greatest 3\n",
      "smallest  3\n"
     ]
    }
   ],
   "source": [
    "a = int(input(\"Enter the 1st number \"))\n",
    "b = int(input(\"Enter the 2nd number \"))\n",
    "c = int(input(\"Enter the 3rd number \"))\n",
    "if ((a>b)&(a>c)):\n",
    "    print(\"greatest\",a)\n",
    "elif ((b>a)&(b>c)):\n",
    "    print(\"greatest\",b)\n",
    "else:\n",
    "    print(\"greatest\",c)\n",
    "if ((a<b)&(a<c)):\n",
    "    print(\"smallest \",a)\n",
    "elif ((b<a)&(b<c)):\n",
    "    print(\"smallest \",b)\n",
    "else:\n",
    "    print(\"smallest \",c)\n",
    "   "
   ]
  },
  {
   "cell_type": "code",
   "execution_count": 1,
   "id": "25e2b0d0",
   "metadata": {},
   "outputs": [
    {
     "name": "stdout",
     "output_type": "stream",
     "text": [
      "Enter a 4\n",
      "Enter b 4\n",
      "4 is equal to  4\n"
     ]
    }
   ],
   "source": [
    "a = int(input(\"Enter a \"))\n",
    "b = int(input(\"Enter b \"))\n",
    "if (a>b):\n",
    "    print(a,\"is greater than \",b)\n",
    "elif (a==b):\n",
    "    print(a,\"is equal to \",b)\n",
    "else:\n",
    "    print(a,\"is greater than \",b)"
   ]
  },
  {
   "cell_type": "code",
   "execution_count": 5,
   "id": "c5fc5888",
   "metadata": {},
   "outputs": [
    {
     "ename": "IndentationError",
     "evalue": "expected an indented block after 'if' statement on line 8 (2106989675.py, line 8)",
     "output_type": "error",
     "traceback": [
      "\u001b[1;36m  Cell \u001b[1;32mIn[5], line 8\u001b[1;36m\u001b[0m\n\u001b[1;33m    if a==b>c:\u001b[0m\n\u001b[1;37m              ^\u001b[0m\n\u001b[1;31mIndentationError\u001b[0m\u001b[1;31m:\u001b[0m expected an indented block after 'if' statement on line 8\n"
     ]
    }
   ],
   "source": [
    "# case 1: inputted nos will be different and any one of them will be greatest.\n",
    "# case 2: amongst Inputted nos, 2 nos will be same and\n",
    "# case 2a: same nos will be greater than the third no.\n",
    "# case 2b: same nos will be smaller than the third no.\n",
    "#case 3:All the inputted nos are equal/same.\n",
    "    \n",
    "a = int(input(\"Enter 1st number \"))\n",
    "b = int(input(\"Enter 2nd number \"))\n",
    "c = int(input(\"Enter 3rd number \"))\n",
    "if a>b>c:\n",
    "    print(\"a is greatest\")\n",
    "elif b==c<a:\n",
    "    print(\"a is greatest\")\n",
    "if a==b>c:\n",
    "    print(\"a&b is greatest\")\n",
    "    # b is greatest\n",
    "elif b>a>c:\n",
    "    print(\"b is greatest\")\n",
    "elif b>a==c:\n",
    "    print(\"b is greatest\")\n",
    "elif b==a>c:\n",
    "    print(\"a&b is greatest\")\n",
    "elif b==c>a:\n",
    "    print(\"b&c is greatest\")\n",
    "\n",
    "\n",
    "    \n",
    "    "
   ]
  },
  {
   "cell_type": "code",
   "execution_count": null,
   "id": "195ac5b5",
   "metadata": {},
   "outputs": [],
   "source": []
  }
 ],
 "metadata": {
  "kernelspec": {
   "display_name": "Python 3 (ipykernel)",
   "language": "python",
   "name": "python3"
  },
  "language_info": {
   "codemirror_mode": {
    "name": "ipython",
    "version": 3
   },
   "file_extension": ".py",
   "mimetype": "text/x-python",
   "name": "python",
   "nbconvert_exporter": "python",
   "pygments_lexer": "ipython3",
   "version": "3.10.0"
  }
 },
 "nbformat": 4,
 "nbformat_minor": 5
}
