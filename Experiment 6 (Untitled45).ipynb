{
 "cells": [
  {
   "cell_type": "code",
   "execution_count": 23,
   "id": "26724599",
   "metadata": {},
   "outputs": [
    {
     "name": "stdout",
     "output_type": "stream",
     "text": [
      "Enter value of n1\n",
      "Enter value of P2\n",
      "P : 306\n",
      "n : 304\n",
      "k : 2\n",
      "P : 34\n",
      "n : 30\n",
      "k : 4\n",
      "P : 3\n",
      "n : 3\n",
      "k : 0\n",
      "P : 3\n",
      "n : 0\n",
      "k : 3\n"
     ]
    }
   ],
   "source": [
    "#Q1\n",
    "n = int(input(\"Enter value of n\"))\n",
    "P = int(input(\"Enter value of P\"))\n",
    "def foo(n,p):\n",
    "  if n == 0:\n",
    "    return 0\n",
    "  else :\n",
    "    P = 0\n",
    "    k = n%10\n",
    "    n= n//10\n",
    "    P= P+k+n\n",
    "    print(\"P :\",P)\n",
    "    print(\"n :\",n)\n",
    "    print(\"k :\",k)\n",
    "    foo(n,P)\n",
    "foo(3042,0)"
   ]
  },
  {
   "cell_type": "code",
   "execution_count": 2,
   "id": "a5cb2c74",
   "metadata": {},
   "outputs": [
    {
     "name": "stdout",
     "output_type": "stream",
     "text": [
      "Select operation.\n",
      "1. Add\n",
      "2. Subtract\n",
      "3. Multiply\n",
      "4. Divide\n",
      "Enter choice(1/2/3/4): 4\n",
      "Enter first number: 3\n",
      "Enter second number: 4\n",
      "3.0 / 4.0 = 0.75\n"
     ]
    }
   ],
   "source": [
    "#Q2\n",
    "def add(x, y):\n",
    "    return x + y\n",
    "def subtract(x, y):\n",
    "    return x - y\n",
    "def multiply(x, y):\n",
    "    return x * y\n",
    "def divide(x, y):\n",
    "    if y == 0:\n",
    "        raise ValueError(\"Cannot divide by zero\")\n",
    "    return x / y\n",
    "print(\"Select operation.\")\n",
    "print(\"1. Add\")\n",
    "print(\"2. Subtract\")\n",
    "print(\"3. Multiply\")\n",
    "print(\"4. Divide\")\n",
    "while True:\n",
    "    \n",
    "    choice = input(\"Enter choice(1/2/3/4): \")\n",
    "    \n",
    "    if choice in ('1', '2', '3', '4'):\n",
    "        num1 = float(input(\"Enter first number: \"))\n",
    "        num2 = float(input(\"Enter second number: \"))\n",
    "\n",
    "        if choice == '1':\n",
    "            print(num1, \"+\", num2, \"=\", add(num1, num2))\n",
    "\n",
    "        elif choice == '2':\n",
    "            print(num1, \"-\", num2, \"=\", subtract(num1, num2))\n",
    "\n",
    "        elif choice == '3':\n",
    "            print(num1, \"*\", num2, \"=\", multiply(num1, num2))\n",
    "\n",
    "        elif choice == '4':\n",
    "            try:\n",
    "                print(num1, \"/\", num2, \"=\", divide(num1, num2))\n",
    "            except ValueError as e:\n",
    "                print(e)\n",
    "        break\n",
    "    else:\n",
    "        print(\"Invalid Input\")"
   ]
  },
  {
   "cell_type": "code",
   "execution_count": 4,
   "id": "31f72822",
   "metadata": {},
   "outputs": [
    {
     "name": "stdout",
     "output_type": "stream",
     "text": [
      "Sum : 5\n",
      "Subtraction : -1\n",
      "Multiplication : 6\n",
      "Division : 0.6666666666666666\n"
     ]
    }
   ],
   "source": [
    "#Q2\n",
    "def cal(a,b):\n",
    "    c = a+b\n",
    "    d = a-b\n",
    "    e = a*b\n",
    "    f = a/b\n",
    "    \n",
    "    print(\"Sum :\",c)\n",
    "    print(\"Subtraction :\",d)\n",
    "    print(\"Multiplication :\",e)\n",
    "    print(\"Division :\",f)\n",
    "\n",
    "\n",
    "cal(2,3)\n",
    "    "
   ]
  },
  {
   "cell_type": "code",
   "execution_count": null,
   "id": "e20cab12",
   "metadata": {},
   "outputs": [],
   "source": []
  },
  {
   "cell_type": "code",
   "execution_count": 17,
   "id": "ce91d32c",
   "metadata": {},
   "outputs": [
    {
     "name": "stdout",
     "output_type": "stream",
     "text": [
      "27\n"
     ]
    }
   ],
   "source": [
    "#Q3\n",
    "def multiply(a,b):\n",
    "    for i in b:\n",
    "        a=a*i\n",
    "        print(a)\n",
    "def add(a):\n",
    "    s=0\n",
    "    for i in a:\n",
    "        s=s+i\n",
    "    print(s)\n",
    "tup = (2,3,4,5,6,7)\n",
    "l_temp = list(tup)\n",
    "add(l_temp)\n",
    "    "
   ]
  },
  {
   "cell_type": "code",
   "execution_count": 18,
   "id": "ebbb43cf",
   "metadata": {},
   "outputs": [
    {
     "name": "stdout",
     "output_type": "stream",
     "text": [
      "2\n",
      "(3, 4, 5, 6, 7)\n",
      "<class 'int'>\n",
      "<class 'tuple'>\n",
      "5040\n"
     ]
    }
   ],
   "source": [
    "#Q3\n",
    "def multiply(a,*b):\n",
    "  print(a)\n",
    "  print(b)\n",
    "  print(type(a))\n",
    "  print(type(b))\n",
    "  a=a\n",
    "  for i in b:\n",
    "    a= a*i\n",
    "  print(a)\n",
    "multiply(2,3,4,5,6,7)"
   ]
  },
  {
   "cell_type": "code",
   "execution_count": 5,
   "id": "15670758",
   "metadata": {},
   "outputs": [
    {
     "name": "stdout",
     "output_type": "stream",
     "text": [
      "Enter a stringabba\n",
      "String : abba\n",
      "Reverse : abba\n",
      "it is palindrome\n"
     ]
    }
   ],
   "source": [
    "#Q4\n",
    "def check(st):\n",
    "    rev=st[::-1]\n",
    "    print(\"String :\",st)\n",
    "    print(\"Reverse :\",rev)\n",
    "    if(st==rev):\n",
    "        return True\n",
    "    else:\n",
    "        return false\n",
    "x = input(\"Enter a string\")\n",
    "if check(x):\n",
    "    print(\"it is palindrome\")\n",
    "else:\n",
    "    print(\"Not a palindrome\")"
   ]
  },
  {
   "cell_type": "code",
   "execution_count": null,
   "id": "d4aec636",
   "metadata": {},
   "outputs": [],
   "source": []
  },
  {
   "cell_type": "code",
   "execution_count": null,
   "id": "f4603964",
   "metadata": {},
   "outputs": [],
   "source": []
  }
 ],
 "metadata": {
  "kernelspec": {
   "display_name": "Python 3 (ipykernel)",
   "language": "python",
   "name": "python3"
  },
  "language_info": {
   "codemirror_mode": {
    "name": "ipython",
    "version": 3
   },
   "file_extension": ".py",
   "mimetype": "text/x-python",
   "name": "python",
   "nbconvert_exporter": "python",
   "pygments_lexer": "ipython3",
   "version": "3.10.0"
  }
 },
 "nbformat": 4,
 "nbformat_minor": 5
}
