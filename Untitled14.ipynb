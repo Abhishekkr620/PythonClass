{
 "cells": [
  {
   "cell_type": "code",
   "execution_count": 5,
   "id": "4241b88e",
   "metadata": {},
   "outputs": [
    {
     "name": "stdout",
     "output_type": "stream",
     "text": [
      "Enter principal amount = 1000\n",
      "Enter rate of interest = 5\n",
      "Enter time of simple interest = 1\n",
      "5000.0\n",
      "6000.0\n"
     ]
    }
   ],
   "source": [
    "principal = float(input(\"Enter principal amount = \"))\n",
    "interest = float(input(\"Enter rate of interest = \"))\n",
    "time = float(input(\"Enter time of simple interest = \"))\n",
    "si = principal*interest*time\n",
    "cp = principal + si\n",
    "print(si)\n",
    "print(cp)"
   ]
  },
  {
   "cell_type": "code",
   "execution_count": 6,
   "id": "c3491eb0",
   "metadata": {},
   "outputs": [
    {
     "name": "stdout",
     "output_type": "stream",
     "text": [
      "Enter principal amount = 1000\n",
      "Enter simple interest = 5\n",
      "Enter time of simple interest = 5\n",
      "0.001\n"
     ]
    }
   ],
   "source": [
    "principal = float(input(\"Enter principal amount = \"))\n",
    "simpleinterest = float(input(\"Enter simple interest = \"))\n",
    "time = float(input(\"Enter time of simple interest = \"))\n",
    "interest = simpleinterest/(principal*time)\n",
    "print(interest)"
   ]
  },
  {
   "cell_type": "code",
   "execution_count": 8,
   "id": "433954af",
   "metadata": {},
   "outputs": [
    {
     "name": "stdout",
     "output_type": "stream",
     "text": [
      "Enter principal amount = 1000\n",
      "Enter rate of interest = 2\n",
      "Enter simple interest = 100\n",
      "0.05\n"
     ]
    }
   ],
   "source": [
    "principal = float(input(\"Enter principal amount = \"))\n",
    "interest = float(input(\"Enter rate of interest = \"))\n",
    "simpleinterest = float(input(\"Enter simple interest = \"))\n",
    "time = simpleinterest/(principal*interest)\n",
    "print(time)"
   ]
  },
  {
   "cell_type": "code",
   "execution_count": null,
   "id": "f63c4557",
   "metadata": {},
   "outputs": [],
   "source": [
    "a = int(input(\"Enter 1st number = \"))\n",
    "b = int (input(\"Enter 2nd number = \"))\n",
    "t = a\n",
    "a = b\n",
    "b = t\n",
    "print(a)\n",
    "print(b)"
   ]
  },
  {
   "cell_type": "code",
   "execution_count": null,
   "id": "b966d415",
   "metadata": {},
   "outputs": [],
   "source": [
    "1\n",
    "2\n",
    "2\n",
    "4\n"
   ]
  },
  {
   "cell_type": "code",
   "execution_count": null,
   "id": "95ba15f1",
   "metadata": {},
   "outputs": [],
   "source": []
  },
  {
   "cell_type": "code",
   "execution_count": null,
   "id": "2636cf4f",
   "metadata": {},
   "outputs": [],
   "source": []
  },
  {
   "cell_type": "code",
   "execution_count": null,
   "id": "0d5b14e5",
   "metadata": {},
   "outputs": [],
   "source": []
  },
  {
   "cell_type": "code",
   "execution_count": null,
   "id": "4fa6c9dc",
   "metadata": {},
   "outputs": [],
   "source": []
  },
  {
   "cell_type": "code",
   "execution_count": null,
   "id": "0c963279",
   "metadata": {},
   "outputs": [],
   "source": []
  },
  {
   "cell_type": "code",
   "execution_count": null,
   "id": "3cf42dc6",
   "metadata": {},
   "outputs": [],
   "source": []
  },
  {
   "cell_type": "code",
   "execution_count": null,
   "id": "9bc9cac7",
   "metadata": {},
   "outputs": [],
   "source": []
  },
  {
   "cell_type": "code",
   "execution_count": null,
   "id": "ffba2c5d",
   "metadata": {},
   "outputs": [],
   "source": []
  }
 ],
 "metadata": {
  "kernelspec": {
   "display_name": "Python 3 (ipykernel)",
   "language": "python",
   "name": "python3"
  },
  "language_info": {
   "codemirror_mode": {
    "name": "ipython",
    "version": 3
   },
   "file_extension": ".py",
   "mimetype": "text/x-python",
   "name": "python",
   "nbconvert_exporter": "python",
   "pygments_lexer": "ipython3",
   "version": "3.10.0"
  }
 },
 "nbformat": 4,
 "nbformat_minor": 5
}
