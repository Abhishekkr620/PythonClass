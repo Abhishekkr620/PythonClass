{
 "cells": [
  {
   "cell_type": "code",
   "execution_count": 15,
   "id": "c6c018e7",
   "metadata": {},
   "outputs": [],
   "source": [
    "for i in range(0,21):\n",
    "    if i%5 == 0:\n",
    "        break\n",
    "    print(i)"
   ]
  },
  {
   "cell_type": "code",
   "execution_count": 16,
   "id": "10f6da25",
   "metadata": {},
   "outputs": [
    {
     "name": "stdout",
     "output_type": "stream",
     "text": [
      "1\n",
      "2\n",
      "3\n",
      "4\n",
      "6\n",
      "7\n",
      "8\n",
      "9\n",
      "11\n",
      "12\n",
      "13\n",
      "14\n",
      "16\n",
      "17\n",
      "18\n",
      "19\n",
      "21\n",
      "22\n",
      "23\n",
      "24\n",
      "26\n",
      "27\n",
      "28\n",
      "29\n",
      "31\n",
      "32\n",
      "33\n",
      "34\n",
      "36\n",
      "37\n",
      "38\n",
      "39\n",
      "41\n",
      "42\n",
      "43\n",
      "44\n",
      "46\n",
      "47\n",
      "48\n",
      "49\n"
     ]
    }
   ],
   "source": [
    "for i in range(1,50):\n",
    "    if i%5 == 0:\n",
    "        continue\n",
    "    print(i)"
   ]
  },
  {
   "cell_type": "code",
   "execution_count": 17,
   "id": "59e06114",
   "metadata": {},
   "outputs": [
    {
     "name": "stdout",
     "output_type": "stream",
     "text": [
      "1\n",
      "2\n",
      "4\n",
      "5\n",
      "7\n",
      "8\n",
      "10\n",
      "11\n",
      "13\n",
      "14\n",
      "16\n",
      "17\n",
      "19\n",
      "20\n"
     ]
    }
   ],
   "source": [
    "for i in range(0,21):\n",
    "    if i%3 == 0:\n",
    "        continue\n",
    "    print(i)"
   ]
  },
  {
   "cell_type": "code",
   "execution_count": 30,
   "id": "a4baec27",
   "metadata": {},
   "outputs": [
    {
     "name": "stdout",
     "output_type": "stream",
     "text": [
      "PYTHONS ROCKS\n",
      "not applicable\n",
      "not applicable\n",
      "PYTHON\n",
      "not applicable\n",
      "not applicable\n",
      "PYTHON\n",
      "ROCKS\n",
      "not applicable\n",
      "PYTHON\n",
      "not applicable\n",
      "not applicable\n",
      "PYTHON\n",
      "not applicable\n",
      "ROCKS\n",
      "PYTHON\n",
      "not applicable\n",
      "not applicable\n",
      "PYTHON\n",
      "not applicable\n",
      "not applicable\n",
      "PYTHONS ROCKS\n",
      "not applicable\n",
      "not applicable\n",
      "PYTHON\n",
      "not applicable\n",
      "not applicable\n",
      "PYTHON\n",
      "ROCKS\n",
      "not applicable\n",
      "PYTHON\n",
      "not applicable\n",
      "not applicable\n",
      "PYTHON\n",
      "not applicable\n",
      "ROCKS\n",
      "PYTHON\n",
      "not applicable\n",
      "not applicable\n",
      "PYTHON\n",
      "not applicable\n",
      "not applicable\n",
      "PYTHONS ROCKS\n",
      "not applicable\n",
      "not applicable\n",
      "PYTHON\n",
      "not applicable\n",
      "not applicable\n",
      "PYTHON\n",
      "ROCKS\n",
      "not applicable\n",
      "PYTHON\n",
      "not applicable\n",
      "not applicable\n",
      "PYTHON\n",
      "not applicable\n",
      "ROCKS\n",
      "PYTHON\n",
      "not applicable\n",
      "not applicable\n",
      "PYTHON\n",
      "not applicable\n",
      "not applicable\n",
      "PYTHONS ROCKS\n",
      "not applicable\n",
      "not applicable\n",
      "PYTHON\n",
      "not applicable\n",
      "not applicable\n",
      "PYTHON\n",
      "ROCKS\n"
     ]
    }
   ],
   "source": [
    "for i in range(0,71):\n",
    "    if ((i%3==0)and(i%7==0)):\n",
    "        print(\"PYTHONS ROCKS\")\n",
    "    elif(i%3==0):\n",
    "        print(\"PYTHON\")\n",
    "    elif(i%7==0):\n",
    "        print(\"ROCKS\")\n",
    "    else:\n",
    "        print(\"not applicable\")\n",
    "        \n",
    "    "
   ]
  },
  {
   "cell_type": "code",
   "execution_count": 29,
   "id": "ac180652",
   "metadata": {},
   "outputs": [
    {
     "name": "stdout",
     "output_type": "stream",
     "text": [
      "PYTHON ROCKS\n",
      "1\n",
      "2\n",
      "PYTHON\n",
      "4\n",
      "5\n",
      "PYTHON\n",
      "ROCKS\n",
      "8\n",
      "PYTHON\n",
      "10\n",
      "11\n",
      "PYTHON\n",
      "13\n",
      "ROCKS\n",
      "PYTHON\n",
      "16\n",
      "17\n",
      "PYTHON\n",
      "19\n",
      "20\n",
      "PYTHON ROCKS\n",
      "22\n",
      "23\n",
      "PYTHON\n",
      "25\n",
      "26\n",
      "PYTHON\n",
      "ROCKS\n",
      "29\n",
      "PYTHON\n",
      "31\n",
      "32\n",
      "PYTHON\n",
      "34\n",
      "ROCKS\n",
      "PYTHON\n",
      "37\n",
      "38\n",
      "PYTHON\n",
      "40\n",
      "41\n",
      "PYTHON ROCKS\n",
      "43\n",
      "44\n",
      "PYTHON\n",
      "46\n",
      "47\n",
      "PYTHON\n",
      "ROCKS\n",
      "50\n",
      "PYTHON\n",
      "52\n",
      "53\n",
      "PYTHON\n",
      "55\n",
      "ROCKS\n",
      "PYTHON\n",
      "58\n",
      "59\n",
      "PYTHON\n",
      "61\n",
      "62\n",
      "PYTHON ROCKS\n",
      "64\n",
      "65\n",
      "PYTHON\n",
      "67\n",
      "68\n",
      "PYTHON\n",
      "ROCKS\n"
     ]
    }
   ],
   "source": [
    "for i in range(1,71):\n",
    "    if (i%3==0 and i%7==0):\n",
    "        print(\"PYTHON ROCKS\")\n",
    "        continue\n",
    "    elif i%3 == 0:\n",
    "        print(\"PYTHON\")\n",
    "        continue\n",
    "    elif i %7 == 0:\n",
    "        print(\"ROCKS\")\n",
    "        continue\n",
    "    print(i)"
   ]
  },
  {
   "cell_type": "code",
   "execution_count": 36,
   "id": "edf05d60",
   "metadata": {},
   "outputs": [
    {
     "name": "stdout",
     "output_type": "stream",
     "text": [
      "Enter the No to be checked for Prime: 51\n"
     ]
    }
   ],
   "source": [
    "n = int(input(\"Enter the No to be checked for Prime: \"))\n",
    "\n",
    "for i in range(2,n):\n",
    "    if(n%i== 0:\n",
    "        count=0\n",
    "        count=count+1\n",
    "        i = i+1\n",
    "if(count==2):\n",
    "    print(i)"
   ]
  },
  {
   "cell_type": "code",
   "execution_count": 37,
   "id": "c5c03dbf",
   "metadata": {},
   "outputs": [
    {
     "name": "stdout",
     "output_type": "stream",
     "text": [
      "Enter the No to be checked for Prime: 31\n",
      "Inputted number 31  is a Prime number\n"
     ]
    }
   ],
   "source": [
    "n = int(input(\"Enter the No to be checked for Prime: \"))\n",
    "if n == 1:\n",
    "    print(\"Enter value greater than 1\")\n",
    "elif n>1:\n",
    "    for i in range(2,n):\n",
    "        if n % i == 0:\n",
    "            print(n,\" is not a prime no\")\n",
    "            print(i,\"*\",n//1,\"=\",n)\n",
    "            break\n",
    "    else:\n",
    "        print(\"Inputted number\",n,\" is a Prime number\")\n",
    "else:\n",
    "     print(\"Inputted number\",n,\" is a Prime number\")"
   ]
  },
  {
   "cell_type": "code",
   "execution_count": null,
   "id": "7c7b3433",
   "metadata": {},
   "outputs": [],
   "source": []
  }
 ],
 "metadata": {
  "kernelspec": {
   "display_name": "Python 3 (ipykernel)",
   "language": "python",
   "name": "python3"
  },
  "language_info": {
   "codemirror_mode": {
    "name": "ipython",
    "version": 3
   },
   "file_extension": ".py",
   "mimetype": "text/x-python",
   "name": "python",
   "nbconvert_exporter": "python",
   "pygments_lexer": "ipython3",
   "version": "3.10.0"
  }
 },
 "nbformat": 4,
 "nbformat_minor": 5
}
