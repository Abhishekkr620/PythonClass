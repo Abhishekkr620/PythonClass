{
 "cells": [
  {
   "cell_type": "code",
   "execution_count": 1,
   "id": "4075155f",
   "metadata": {},
   "outputs": [
    {
     "name": "stdout",
     "output_type": "stream",
     "text": [
      "coversion of temperature\n",
      "Temperature in fahrenheit is:  75.2\n"
     ]
    }
   ],
   "source": [
    "print(\"coversion of temperature\")\n",
    "c = 24\n",
    "f = (9/5)*c + 32\n",
    "print(\"Temperature in fahrenheit is: \",f)"
   ]
  },
  {
   "cell_type": "code",
   "execution_count": 5,
   "id": "2a43ee0d",
   "metadata": {},
   "outputs": [
    {
     "name": "stdout",
     "output_type": "stream",
     "text": [
      "Enter the principal amount: 10000\n",
      "Enter rate of interest: 5\n",
      "Enter time period: 4\n",
      "Simple interest is : 2000.0\n",
      "Cumulative interest is : 12000.0\n"
     ]
    }
   ],
   "source": [
    "p = int(input(\"Enter the principal amount: \"))\n",
    "r = int(input(\"Enter rate of interest: \"))\n",
    "t = int(input(\"Enter time period: \"))\n",
    "si = (p*r*t)/100\n",
    "ci = p + si\n",
    "print(\"Simple interest is :\",si)\n",
    "print(\"Cumulative interest is :\",ci)"
   ]
  },
  {
   "cell_type": "code",
   "execution_count": 8,
   "id": "6c286642",
   "metadata": {},
   "outputs": [
    {
     "name": "stdout",
     "output_type": "stream",
     "text": [
      "Enter the principal amount: 1000\n",
      "Enter interest: 300\n",
      "Enter time period: 2\n",
      "Rate of interest is : 15.0\n"
     ]
    }
   ],
   "source": [
    "p = int(input(\"Enter the principal amount: \"))\n",
    "si = int(input(\"Enter interest: \"))\n",
    "t = int(input(\"Enter time period: \"))\n",
    "roi = (si*100)/(p*t)\n",
    "print(\"Rate of interest is :\",roi)"
   ]
  },
  {
   "cell_type": "code",
   "execution_count": 10,
   "id": "d88cf429",
   "metadata": {},
   "outputs": [
    {
     "name": "stdout",
     "output_type": "stream",
     "text": [
      "Enter the principal amount: 1000\n",
      "Enter rate of interest: 15\n",
      "Enter interest: 300\n",
      "Time is  2.0\n"
     ]
    }
   ],
   "source": [
    "p = int(input(\"Enter the principal amount: \"))\n",
    "r = int(input(\"Enter rate of interest: \"))\n",
    "si = int(input(\"Enter interest: \"))\n",
    "t = (si*100)/(p*r)\n",
    "print(\"Time is \",t)"
   ]
  },
  {
   "cell_type": "code",
   "execution_count": 15,
   "id": "7fa606e2",
   "metadata": {},
   "outputs": [
    {
     "name": "stdout",
     "output_type": "stream",
     "text": [
      "After swap values of a and b  20 10\n"
     ]
    }
   ],
   "source": [
    "a = 10\n",
    "b = 20\n",
    "temp = a\n",
    "a = b\n",
    "b = temp\n",
    "print(\"After swap values of a and b \",a,b)"
   ]
  },
  {
   "cell_type": "code",
   "execution_count": 13,
   "id": "7e6871a5",
   "metadata": {},
   "outputs": [
    {
     "name": "stdout",
     "output_type": "stream",
     "text": [
      "After  swap value of a and b 20 10\n"
     ]
    }
   ],
   "source": [
    "a = 10\n",
    "b = 20\n",
    "a,b = b,a\n",
    "print(\"After  swap value of a and b\",a,b)"
   ]
  },
  {
   "cell_type": "code",
   "execution_count": 16,
   "id": "5875e1e8",
   "metadata": {},
   "outputs": [
    {
     "name": "stdout",
     "output_type": "stream",
     "text": [
      "After swap a and b Abhishek Kumar\n"
     ]
    }
   ],
   "source": [
    "a = \"Kumar\"\n",
    "b = \"Abhishek\"\n",
    "temp = a\n",
    "a = b\n",
    "b = temp\n",
    "print(\"After swap a and b\",a,b)"
   ]
  },
  {
   "cell_type": "code",
   "execution_count": 17,
   "id": "172ace9a",
   "metadata": {},
   "outputs": [
    {
     "name": "stdout",
     "output_type": "stream",
     "text": [
      "After  swap value of a and b Abhishek Kumar\n"
     ]
    }
   ],
   "source": [
    "a = \"Kumar\"\n",
    "b = \"Abhishek\"\n",
    "a,b = b,a\n",
    "print(\"After  swap value of a and b\",a,b)"
   ]
  },
  {
   "cell_type": "code",
   "execution_count": 21,
   "id": "2bbd3839",
   "metadata": {},
   "outputs": [
    {
     "name": "stdout",
     "output_type": "stream",
     "text": [
      "Area of triangle : 60.0\n",
      "Area of rectangle : 300\n",
      "Area of circle : 153.86\n",
      "Area of sphere : 615.44\n"
     ]
    }
   ],
   "source": [
    "t_b = 10\n",
    "t_h = 12\n",
    "r_a = 15\n",
    "r_b = 20\n",
    "r = 7\n",
    "pi = 3.14\n",
    "at = 1/2*t_b*t_h\n",
    "ar = r_a*r_b\n",
    "ac = pi*r*r\n",
    "a_s = 4*pi*r*r\n",
    "print(\"Area of triangle :\",at)\n",
    "print(\"Area of rectangle :\",ar)\n",
    "print(\"Area of circle :\",ac)\n",
    "print(\"Area of sphere :\",a_s)\n"
   ]
  },
  {
   "cell_type": "code",
   "execution_count": 32,
   "id": "ee3e1d48",
   "metadata": {},
   "outputs": [
    {
     "name": "stdout",
     "output_type": "stream",
     "text": [
      "know , paragraph\n"
     ]
    }
   ],
   "source": [
    "str = \"As we all know , paragraph is group of sentence that are connected and make absolute sense\"\n",
    "print(str[10:26])"
   ]
  },
  {
   "cell_type": "code",
   "execution_count": 34,
   "id": "17819e79",
   "metadata": {},
   "outputs": [
    {
     "name": "stdout",
     "output_type": "stream",
     "text": [
      "New name is  bhishek kuma\n"
     ]
    }
   ],
   "source": [
    "str = \"Abhishek kumar\"\n",
    "print(\"New name is \",str[1:13])"
   ]
  },
  {
   "cell_type": "code",
   "execution_count": 43,
   "id": "b3b856dc",
   "metadata": {},
   "outputs": [
    {
     "name": "stdout",
     "output_type": "stream",
     "text": [
      "value of expression is  1.371002901615163e-09\n"
     ]
    }
   ],
   "source": [
    "x = 2\n",
    "y = 2\n",
    "n = 3\n",
    "a =(((x**2+x**3)/(y/4+y/3+y**8))**(2*n))*((y**6+y**2)/x**9)\n",
    "print(\"value of expression is \",a)"
   ]
  },
  {
   "cell_type": "code",
   "execution_count": 44,
   "id": "963af324",
   "metadata": {},
   "outputs": [
    {
     "name": "stdout",
     "output_type": "stream",
     "text": [
      "a in upper  ABHISHEK KUMAR\n",
      "b in lower  abhishek kumar\n"
     ]
    }
   ],
   "source": [
    "a = \"abhishek kumar\"\n",
    "b = \"ABHISHEK KUMAR\"\n",
    "a1 = a.upper()\n",
    "b1 = b.lower()\n",
    "print(\"a in upper \",a1)\n",
    "print(\"b in lower \",b1)"
   ]
  },
  {
   "cell_type": "code",
   "execution_count": 1,
   "id": "0c1f5e65",
   "metadata": {},
   "outputs": [
    {
     "data": {
      "text/plain": [
       "'Abcd'"
      ]
     },
     "execution_count": 1,
     "metadata": {},
     "output_type": "execute_result"
    }
   ],
   "source": [
    "str = 'Abcd'\n",
    "str[0:]"
   ]
  },
  {
   "cell_type": "code",
   "execution_count": null,
   "id": "1d60c926",
   "metadata": {},
   "outputs": [],
   "source": []
  }
 ],
 "metadata": {
  "kernelspec": {
   "display_name": "Python 3 (ipykernel)",
   "language": "python",
   "name": "python3"
  },
  "language_info": {
   "codemirror_mode": {
    "name": "ipython",
    "version": 3
   },
   "file_extension": ".py",
   "mimetype": "text/x-python",
   "name": "python",
   "nbconvert_exporter": "python",
   "pygments_lexer": "ipython3",
   "version": "3.10.0"
  }
 },
 "nbformat": 4,
 "nbformat_minor": 5
}
