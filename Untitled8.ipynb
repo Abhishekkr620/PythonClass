{
 "cells": [
  {
   "cell_type": "code",
   "execution_count": 1,
   "id": "a1a34464",
   "metadata": {},
   "outputs": [
    {
     "data": {
      "text/plain": [
       "'RAGHAV GOEL'"
      ]
     },
     "execution_count": 1,
     "metadata": {},
     "output_type": "execute_result"
    }
   ],
   "source": [
    "a5 = \"RAGHaV Goel\"\n",
    "a5.upper()"
   ]
  },
  {
   "cell_type": "code",
   "execution_count": null,
   "id": "b96e472c",
   "metadata": {},
   "outputs": [],
   "source": [
    "a1 = \"Raghav Goel\"\n",
    "a2 = \"RAGHAV Goel\"\n",
    "a3 = \"raghav Goel\"\n",
    "a4 = \"RagHaV Goel\"\n",
    "a5 = \"RAGH\""
   ]
  }
 ],
 "metadata": {
  "kernelspec": {
   "display_name": "Python 3 (ipykernel)",
   "language": "python",
   "name": "python3"
  },
  "language_info": {
   "codemirror_mode": {
    "name": "ipython",
    "version": 3
   },
   "file_extension": ".py",
   "mimetype": "text/x-python",
   "name": "python",
   "nbconvert_exporter": "python",
   "pygments_lexer": "ipython3",
   "version": "3.10.0"
  }
 },
 "nbformat": 4,
 "nbformat_minor": 5
}
