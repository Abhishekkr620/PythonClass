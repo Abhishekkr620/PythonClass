{
 "cells": [
  {
   "cell_type": "code",
   "execution_count": 5,
   "id": "439bb42e",
   "metadata": {},
   "outputs": [
    {
     "name": "stdout",
     "output_type": "stream",
     "text": [
      "Enter number9474\n",
      "Armstrong\n"
     ]
    }
   ],
   "source": [
    "n = int(input(\"Enter number\"))\n",
    "h = len(str(n))\n",
    "s = 0\n",
    "i = n\n",
    "while i > 0:\n",
    "    mod= i%10\n",
    "    s = s + mod**h\n",
    "    i = i//10\n",
    "if (s == n):\n",
    "    print(\"Armstrong\")\n",
    "else:\n",
    "    print(\"not Armstrong\")"
   ]
  },
  {
   "cell_type": "code",
   "execution_count": null,
   "id": "b61b3ca9",
   "metadata": {},
   "outputs": [],
   "source": []
  }
 ],
 "metadata": {
  "kernelspec": {
   "display_name": "Python 3 (ipykernel)",
   "language": "python",
   "name": "python3"
  },
  "language_info": {
   "codemirror_mode": {
    "name": "ipython",
    "version": 3
   },
   "file_extension": ".py",
   "mimetype": "text/x-python",
   "name": "python",
   "nbconvert_exporter": "python",
   "pygments_lexer": "ipython3",
   "version": "3.10.0"
  }
 },
 "nbformat": 4,
 "nbformat_minor": 5
}
