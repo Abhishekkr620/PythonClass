{
 "cells": [
  {
   "cell_type": "code",
   "execution_count": 1,
   "id": "7792088e",
   "metadata": {},
   "outputs": [
    {
     "name": "stdout",
     "output_type": "stream",
     "text": [
      "[9, 5, 2, 12]\n"
     ]
    }
   ],
   "source": [
    "def group_and_multiply(lst):\n",
    "    result = []\n",
    "    i = 0\n",
    "    while i < len(lst):\n",
    "        j = i + 1\n",
    "        while j < len(lst) and lst[j] == lst[i]:\n",
    "            j += 1\n",
    "        result.append(lst[i] * (j - i))\n",
    "        i = j\n",
    "    return result\n",
    "input_lst = [3, 3, 3, 5, 2, 4, 4, 4]\n",
    "output_lst = group_and_multiply(input_lst)\n",
    "print(output_lst)"
   ]
  },
  {
   "cell_type": "code",
   "execution_count": 7,
   "id": "dc5686d7",
   "metadata": {},
   "outputs": [
    {
     "name": "stdout",
     "output_type": "stream",
     "text": [
      "[9, 5, 2, 12]\n"
     ]
    }
   ],
   "source": [
    "def group_andmultiplicity(lst):\n",
    "    result = []\n",
    "    i = 0\n",
    "    while i < len(lst):\n",
    "        j = i + 1\n",
    "        while j < len(lst) and lst[j] == lst[i]:\n",
    "            j += 1\n",
    "        result.append(lst[i] * (j - i))\n",
    "        i = j\n",
    "    return result\n",
    "input_lst = [3,3,3,5,2,4,4,4]\n",
    "output_lst = group_andmultiplicity(input_lst)\n",
    "print(output_lst)"
   ]
  },
  {
   "cell_type": "code",
   "execution_count": 8,
   "id": "cf250e30",
   "metadata": {},
   "outputs": [
    {
     "name": "stdout",
     "output_type": "stream",
     "text": [
      "The original list is : [3, 4, 6, 6, 3, 2, 3, 5, 6, 3, 4, 5, 5, 3, 6]\n",
      "Next different element : 2\n"
     ]
    }
   ],
   "source": [
    "# Python3 code to demonstrate working of\n",
    "# Next different element in list\n",
    "# Using set() + sorted() + index()\n",
    "\n",
    "# initializing list\n",
    "test_list = [3, 4, 6, 6, 3, 2, 3, 5, 6, 3, 4, 5, 5, 3, 6]\n",
    "\n",
    "# printing original list\n",
    "print(\"The original list is : \" + str(test_list))\n",
    "\n",
    "# initializing element\n",
    "nex_to_ele = 6\n",
    "\n",
    "# sorting removing duplicated keeping order\n",
    "temp = sorted(set(test_list), key=lambda sub: test_list.index(sub))\n",
    "\n",
    "# getting next index\n",
    "num_idx = temp.index(nex_to_ele)\n",
    "\n",
    "# checking for last index for overflow\n",
    "if num_idx == len(temp) - 1:\n",
    "\tres = None\n",
    "\n",
    "# getting next index as result\n",
    "else:\n",
    "\tres = temp[num_idx + 1]\n",
    "\n",
    "# printing result\n",
    "print(\"Next different element : \" + str(res))"
   ]
  },
  {
   "cell_type": "code",
   "execution_count": null,
   "id": "7e5c3e6d",
   "metadata": {},
   "outputs": [],
   "source": []
  }
 ],
 "metadata": {
  "kernelspec": {
   "display_name": "Python 3 (ipykernel)",
   "language": "python",
   "name": "python3"
  },
  "language_info": {
   "codemirror_mode": {
    "name": "ipython",
    "version": 3
   },
   "file_extension": ".py",
   "mimetype": "text/x-python",
   "name": "python",
   "nbconvert_exporter": "python",
   "pygments_lexer": "ipython3",
   "version": "3.10.0"
  }
 },
 "nbformat": 4,
 "nbformat_minor": 5
}
