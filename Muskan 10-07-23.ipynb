{
 "cells": [
  {
   "cell_type": "code",
   "execution_count": 1,
   "id": "9572f853",
   "metadata": {},
   "outputs": [
    {
     "name": "stdout",
     "output_type": "stream",
     "text": [
      "Enter name: anniket\n",
      "anniket\n"
     ]
    }
   ],
   "source": [
    "t = input(\"Enter name: \")\n",
    "print(t)"
   ]
  },
  {
   "cell_type": "code",
   "execution_count": 2,
   "id": "d1c22e29",
   "metadata": {},
   "outputs": [
    {
     "name": "stdout",
     "output_type": "stream",
     "text": [
      "Enter name: muskan\n",
      "muskan\n"
     ]
    }
   ],
   "source": [
    "t=input(\"Enter name: \")\n",
    "print(t)"
   ]
  },
  {
   "cell_type": "code",
   "execution_count": 10,
   "id": "135a9748",
   "metadata": {},
   "outputs": [
    {
     "name": "stdout",
     "output_type": "stream",
     "text": [
      "enter b 2\n",
      "enter h 4\n",
      "Area is  4.0\n"
     ]
    }
   ],
   "source": [
    "b=int(input(\"enter b \"))\n",
    "h=int(input(\"enter h \"))\n",
    "A=0.5*b*h\n",
    "print(\"Area is \",A)\n"
   ]
  },
  {
   "cell_type": "code",
   "execution_count": 11,
   "id": "01ffe90e",
   "metadata": {},
   "outputs": [
    {
     "name": "stdout",
     "output_type": "stream",
     "text": [
      "enter l 2\n",
      "enter b 4\n",
      "enter h 6\n",
      "Area is  48\n"
     ]
    }
   ],
   "source": [
    "l=int(input(\"enter l \"))\n",
    "b=int(input(\"enter b \"))\n",
    "h=int(input(\"enter h \"))\n",
    "A=l*b*h\n",
    "print(\"Area is \",A)"
   ]
  },
  {
   "cell_type": "code",
   "execution_count": null,
   "id": "a6c97e86",
   "metadata": {},
   "outputs": [],
   "source": []
  }
 ],
 "metadata": {
  "kernelspec": {
   "display_name": "Python 3 (ipykernel)",
   "language": "python",
   "name": "python3"
  },
  "language_info": {
   "codemirror_mode": {
    "name": "ipython",
    "version": 3
   },
   "file_extension": ".py",
   "mimetype": "text/x-python",
   "name": "python",
   "nbconvert_exporter": "python",
   "pygments_lexer": "ipython3",
   "version": "3.10.0"
  }
 },
 "nbformat": 4,
 "nbformat_minor": 5
}
