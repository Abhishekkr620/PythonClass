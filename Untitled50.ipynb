{
 "cells": [
  {
   "cell_type": "code",
   "execution_count": 3,
   "id": "9b5da7af",
   "metadata": {},
   "outputs": [
    {
     "name": "stdout",
     "output_type": "stream",
     "text": [
      "hi harry good job\n"
     ]
    }
   ],
   "source": [
    "f = open('myfile.txt','r')\n",
    "text = f.read()\n",
    "print(text)\n",
    "f.close()"
   ]
  },
  {
   "cell_type": "code",
   "execution_count": 6,
   "id": "9b309dd9",
   "metadata": {},
   "outputs": [],
   "source": [
    "f = open('myfile2.txt','w')\n",
    "f.write('hello world')\n",
    "f.close()"
   ]
  },
  {
   "cell_type": "code",
   "execution_count": 7,
   "id": "45b8dbe6",
   "metadata": {},
   "outputs": [],
   "source": [
    "f = open('myfile.txt','a')\n",
    "f.write('hello world')\n",
    "f.close()"
   ]
  },
  {
   "cell_type": "code",
   "execution_count": 8,
   "id": "1dc845d3",
   "metadata": {},
   "outputs": [],
   "source": [
    "with open('myfile.txt','a') as f:\n",
    "    f.write(\"i am here\")"
   ]
  },
  {
   "cell_type": "code",
   "execution_count": 9,
   "id": "ae1d32d5",
   "metadata": {},
   "outputs": [
    {
     "name": "stdout",
     "output_type": "stream",
     "text": [
      "['hello worldhello worldi am here']\n"
     ]
    }
   ],
   "source": [
    "f = open('myfile.txt','r')\n",
    "while True:\n",
    "    line = f.readlines()\n",
    "    if not line:\n",
    "        break\n",
    "    print(line)"
   ]
  },
  {
   "cell_type": "code",
   "execution_count": 13,
   "id": "f11ac515",
   "metadata": {},
   "outputs": [
    {
     "ename": "AttributeError",
     "evalue": "'list' object has no attribute 'split'",
     "output_type": "error",
     "traceback": [
      "\u001b[1;31m---------------------------------------------------------------------------\u001b[0m",
      "\u001b[1;31mAttributeError\u001b[0m                            Traceback (most recent call last)",
      "Cell \u001b[1;32mIn[13], line 8\u001b[0m\n\u001b[0;32m      6\u001b[0m \u001b[38;5;28;01mif\u001b[39;00m \u001b[38;5;129;01mnot\u001b[39;00m line:\n\u001b[0;32m      7\u001b[0m     \u001b[38;5;28;01mbreak\u001b[39;00m\n\u001b[1;32m----> 8\u001b[0m m1 \u001b[38;5;241m=\u001b[39m \u001b[43mline\u001b[49m\u001b[38;5;241;43m.\u001b[39;49m\u001b[43msplit\u001b[49m(\u001b[38;5;124m\"\u001b[39m\u001b[38;5;124m,\u001b[39m\u001b[38;5;124m\"\u001b[39m)[\u001b[38;5;241m0\u001b[39m]\n\u001b[0;32m      9\u001b[0m m2 \u001b[38;5;241m=\u001b[39m line\u001b[38;5;241m.\u001b[39msplit(\u001b[38;5;124m\"\u001b[39m\u001b[38;5;124m,\u001b[39m\u001b[38;5;124m\"\u001b[39m)[\u001b[38;5;241m1\u001b[39m]\n\u001b[0;32m     10\u001b[0m m3 \u001b[38;5;241m=\u001b[39m line\u001b[38;5;241m.\u001b[39msplit(\u001b[38;5;124m\"\u001b[39m\u001b[38;5;124m,\u001b[39m\u001b[38;5;124m\"\u001b[39m)[\u001b[38;5;241m2\u001b[39m]\n",
      "\u001b[1;31mAttributeError\u001b[0m: 'list' object has no attribute 'split'"
     ]
    }
   ],
   "source": [
    "f = open('myfile.txt','r')\n",
    "i = 0\n",
    "while True:\n",
    "    i = i + 1\n",
    "    line = f.readlines()\n",
    "    if not line:\n",
    "        break\n",
    "    m1 = line.split(\",\")[0]\n",
    "    m2 = line.split(\",\")[1]\n",
    "    m3 = line.split(\",\")[2]\n",
    "    print(f\"Marks of student {i} in Maths is:{m1}\")\n",
    "    print(f\"Marks of student {i} in English is:{m1}\")\n",
    "    print(f\"Marks of student {i} in SST is:{m1}\")"
   ]
  },
  {
   "cell_type": "code",
   "execution_count": 1,
   "id": "aa83ce63",
   "metadata": {},
   "outputs": [
    {
     "name": "stdout",
     "output_type": "stream",
     "text": [
      "<_io.TextIOWrapper name='myfile.txt' mode='r' encoding='cp1252'>\n"
     ]
    }
   ],
   "source": []
  },
  {
   "cell_type": "code",
   "execution_count": null,
   "id": "7c7e1e02",
   "metadata": {},
   "outputs": [],
   "source": []
  },
  {
   "cell_type": "code",
   "execution_count": null,
   "id": "e361df10",
   "metadata": {},
   "outputs": [],
   "source": []
  }
 ],
 "metadata": {
  "kernelspec": {
   "display_name": "Python 3 (ipykernel)",
   "language": "python",
   "name": "python3"
  },
  "language_info": {
   "codemirror_mode": {
    "name": "ipython",
    "version": 3
   },
   "file_extension": ".py",
   "mimetype": "text/x-python",
   "name": "python",
   "nbconvert_exporter": "python",
   "pygments_lexer": "ipython3",
   "version": "3.10.0"
  }
 },
 "nbformat": 4,
 "nbformat_minor": 5
}
