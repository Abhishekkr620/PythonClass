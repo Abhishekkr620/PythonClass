{
 "cells": [
  {
   "cell_type": "code",
   "execution_count": 4,
   "id": "30eac631",
   "metadata": {},
   "outputs": [
    {
     "name": "stdout",
     "output_type": "stream",
     "text": [
      "raghav\n",
      "RAGHAV\n"
     ]
    }
   ],
   "source": [
    "a = \"RagHav\"\n",
    "a5 = a.lower()\n",
    "print(a5)\n",
    "a4 = a.upper()\n",
    "print(a4)"
   ]
  },
  {
   "cell_type": "code",
   "execution_count": 5,
   "id": "da2a6570",
   "metadata": {},
   "outputs": [
    {
     "name": "stdout",
     "output_type": "stream",
     "text": [
      "raghav goel\n",
      "raghav goel\n",
      "raghav goel\n",
      "raghav goel\n",
      "raghav goel\n"
     ]
    }
   ],
   "source": [
    "a1 = \"Raghav Goel\"\n",
    "a2 = \"RAGHAV Goel\"\n",
    "a3 = \"raghav Goel\"\n",
    "a4 = \"RagHav Goel\"\n",
    "a5 = \"RAGHaV goel\"\n",
    "a1 = a1.lower()\n",
    "a2 = a2.lower()\n",
    "a3 = a3.lower()\n",
    "a4 = a4.lower()\n",
    "a5 = a5.lower()\n",
    "print(a1)\n",
    "print(a2)\n",
    "print(a3)\n",
    "print(a4)\n",
    "print(a5)"
   ]
  },
  {
   "cell_type": "code",
   "execution_count": null,
   "id": "77a86d5b",
   "metadata": {},
   "outputs": [],
   "source": []
  }
 ],
 "metadata": {
  "kernelspec": {
   "display_name": "Python 3 (ipykernel)",
   "language": "python",
   "name": "python3"
  },
  "language_info": {
   "codemirror_mode": {
    "name": "ipython",
    "version": 3
   },
   "file_extension": ".py",
   "mimetype": "text/x-python",
   "name": "python",
   "nbconvert_exporter": "python",
   "pygments_lexer": "ipython3",
   "version": "3.10.0"
  }
 },
 "nbformat": 4,
 "nbformat_minor": 5
}
