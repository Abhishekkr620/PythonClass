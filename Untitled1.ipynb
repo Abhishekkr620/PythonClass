{
 "cells": [
  {
   "cell_type": "code",
   "execution_count": 2,
   "id": "4f67ce54",
   "metadata": {},
   "outputs": [
    {
     "data": {
      "text/plain": [
       "16"
      ]
     },
     "execution_count": 2,
     "metadata": {},
     "output_type": "execute_result"
    }
   ],
   "source": [
    "str3 = \"Today is Tuesday\"\n",
    "type(str3)\n",
    "len(str3)\n"
   ]
  },
  {
   "cell_type": "code",
   "execution_count": 3,
   "id": "4e070351",
   "metadata": {},
   "outputs": [
    {
     "data": {
      "text/plain": [
       "'T'"
      ]
     },
     "execution_count": 3,
     "metadata": {},
     "output_type": "execute_result"
    }
   ],
   "source": [
    "str3 = \"Today is Tuesday\"\n",
    "str3[9]"
   ]
  },
  {
   "cell_type": "code",
   "execution_count": null,
   "id": "5062bfaa",
   "metadata": {},
   "outputs": [],
   "source": []
  },
  {
   "cell_type": "code",
   "execution_count": null,
   "id": "5b0dfaaf",
   "metadata": {},
   "outputs": [],
   "source": [
    "f = \"hello\""
   ]
  },
  {
   "cell_type": "code",
   "execution_count": null,
   "id": "c4b72182",
   "metadata": {},
   "outputs": [],
   "source": [
    "g = \"world\""
   ]
  },
  {
   "cell_type": "code",
   "execution_count": 5,
   "id": "2c9da696",
   "metadata": {},
   "outputs": [
    {
     "ename": "NameError",
     "evalue": "name 'f' is not defined",
     "output_type": "error",
     "traceback": [
      "\u001b[1;31m---------------------------------------------------------------------------\u001b[0m",
      "\u001b[1;31mNameError\u001b[0m                                 Traceback (most recent call last)",
      "Cell \u001b[1;32mIn[5], line 1\u001b[0m\n\u001b[1;32m----> 1\u001b[0m \u001b[43mf\u001b[49m \u001b[38;5;241m+\u001b[39m g\n",
      "\u001b[1;31mNameError\u001b[0m: name 'f' is not defined"
     ]
    }
   ],
   "source": [
    "f + g"
   ]
  },
  {
   "cell_type": "code",
   "execution_count": null,
   "id": "e8f4e714",
   "metadata": {},
   "outputs": [],
   "source": [
    "f = \"hello\""
   ]
  },
  {
   "cell_type": "code",
   "execution_count": null,
   "id": "1c7ac12f",
   "metadata": {},
   "outputs": [],
   "source": [
    "g = \"world\""
   ]
  },
  {
   "cell_type": "code",
   "execution_count": 6,
   "id": "47e79791",
   "metadata": {},
   "outputs": [
    {
     "ename": "NameError",
     "evalue": "name 'f' is not defined",
     "output_type": "error",
     "traceback": [
      "\u001b[1;31m---------------------------------------------------------------------------\u001b[0m",
      "\u001b[1;31mNameError\u001b[0m                                 Traceback (most recent call last)",
      "Cell \u001b[1;32mIn[6], line 1\u001b[0m\n\u001b[1;32m----> 1\u001b[0m \u001b[43mf\u001b[49m \u001b[38;5;241m+\u001b[39m g\n",
      "\u001b[1;31mNameError\u001b[0m: name 'f' is not defined"
     ]
    }
   ],
   "source": [
    "f + g"
   ]
  },
  {
   "cell_type": "code",
   "execution_count": 1,
   "id": "d054f520",
   "metadata": {},
   "outputs": [
    {
     "name": "stdout",
     "output_type": "stream",
     "text": [
      "5 10\n"
     ]
    }
   ],
   "source": [
    "a = 10\n",
    "b =  5\n",
    "#using 3 rd variable\n",
    "temp =a \n",
    "a = b\n",
    "b = temp\n",
    "print(a,b)"
   ]
  },
  {
   "cell_type": "code",
   "execution_count": 2,
   "id": "a96502a2",
   "metadata": {},
   "outputs": [
    {
     "name": "stdout",
     "output_type": "stream",
     "text": [
      "5 10\n"
     ]
    }
   ],
   "source": [
    "a = 10\n",
    "b =  5\n",
    "# without using 3rd variable\n",
    "a,b = b,a\n",
    "print(a,b)"
   ]
  },
  {
   "cell_type": "code",
   "execution_count": null,
   "id": "939a7d5c",
   "metadata": {},
   "outputs": [],
   "source": []
  }
 ],
 "metadata": {
  "kernelspec": {
   "display_name": "Python 3 (ipykernel)",
   "language": "python",
   "name": "python3"
  },
  "language_info": {
   "codemirror_mode": {
    "name": "ipython",
    "version": 3
   },
   "file_extension": ".py",
   "mimetype": "text/x-python",
   "name": "python",
   "nbconvert_exporter": "python",
   "pygments_lexer": "ipython3",
   "version": "3.10.0"
  }
 },
 "nbformat": 4,
 "nbformat_minor": 5
}
