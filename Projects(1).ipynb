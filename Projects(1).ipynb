{
 "cells": [
  {
   "cell_type": "code",
   "execution_count": 7,
   "id": "4374fff4",
   "metadata": {},
   "outputs": [
    {
     "name": "stdout",
     "output_type": "stream",
     "text": [
      "Enter any number 1\n",
      "Too low\n",
      "Enter number again 2\n",
      "Too low\n",
      "Enter number again 5\n",
      "you guesses it right\n"
     ]
    }
   ],
   "source": [
    "#1 Number Guessing Game\n",
    "\n",
    "import random\n",
    "n = random.randrange(1,10)\n",
    "guess = int(input(\"Enter any number \"))\n",
    "while guess!=n:\n",
    "    if guess<n:\n",
    "        print(\"Too low\")\n",
    "        guess = int(input(\"Enter number again \"))\n",
    "    elif guess>n:\n",
    "        print(\"Too high\")\n",
    "        guess = int(input(\"Enter number again \"))\n",
    "    else:\n",
    "        break\n",
    "print(\"you guesses it right\")"
   ]
  },
  {
   "cell_type": "code",
   "execution_count": 12,
   "id": "a8d938e9",
   "metadata": {},
   "outputs": [
    {
     "name": "stdout",
     "output_type": "stream",
     "text": [
      "<built-in method values of collections.defaultdict object at 0x0000023CA433FB50>\n"
     ]
    }
   ],
   "source": [
    "#Group Anagrams y=using Python\n",
    "from collections import defaultdict\n",
    "\n",
    "def group_anagrams(a):\n",
    "    dfdict = defaultdict(list)\n",
    "    for i in a:\n",
    "        sorted_i = \" \".join(sorted(i))\n",
    "        dfdict[sorted_i].append(i)\n",
    "    return dfdict.values\n",
    "words = [\"tea\",\"eat\",\"bat\",\"ate\",\"arc\",\"car\"]\n",
    "print(group_anagrams(words))"
   ]
  },
  {
   "cell_type": "code",
   "execution_count": 23,
   "id": "e0a1007d",
   "metadata": {},
   "outputs": [
    {
     "name": "stdout",
     "output_type": "stream",
     "text": [
      "[]\n"
     ]
    }
   ],
   "source": [
    "# Find missing numbers\n",
    "def findMissingNumbers(n):\n",
    "    numbers = set(n)\n",
    "    length = len(n)\n",
    "    output = []\n",
    "    for i in range(1,n[-1]):\n",
    "        if i not in numbers:\n",
    "            output.append(i)\n",
    "        return output\n",
    "listOfNumbers = [1,2,3,5]\n",
    "print(findMissingNumbers(listOfNumbers))"
   ]
  },
  {
   "cell_type": "code",
   "execution_count": 1,
   "id": "168ac4ac",
   "metadata": {},
   "outputs": [
    {
     "name": "stdout",
     "output_type": "stream",
     "text": [
      "[10, 40, 70] [20, 50, 80] [30, 60, 90]\n",
      "0.0009980201721191406\n"
     ]
    }
   ],
   "source": [
    "#4 Group Elements of same Indices\n",
    "\n",
    "inputLists = [[10,20,30],[40,50,60],[70,80,90]]\n",
    "outputLists = []\n",
    "index = 0\n",
    "for i in range(len(inputLists[0])):\n",
    "    outputLists.append([])\n",
    "    for j in range(len(inputLists)):\n",
    "        outputLists[index].append(inputLists[j][index])\n",
    "    index = index + 1\n",
    "a,b,c = outputLists[0],outputLists[1],outputLists[2]\n",
    "print(a,b,c)"
   ]
  },
  {
   "cell_type": "code",
   "execution_count": 9,
   "id": "f85ed5c2",
   "metadata": {},
   "outputs": [
    {
     "name": "stdout",
     "output_type": "stream",
     "text": [
      "Mean is  20.2\n",
      "Median is  20.0\n",
      "Mode is  20\n"
     ]
    }
   ],
   "source": [
    "# Calculat Mean,Median and Mode\n",
    "# Mean\n",
    "list1 = [12,16,20,20,12,30,25,23,24,20]\n",
    "mean = sum(list1)/len(list1)\n",
    "print(\"Mean is \",mean)\n",
    "\n",
    "# Median\n",
    "list1.sort()\n",
    "\n",
    "if len(list1)%2==0:\n",
    "    m1 = list1[len(list1)//2]\n",
    "    m2 = list1[len(list1)//2]\n",
    "    median = (m1+m2)/2\n",
    "else:\n",
    "    median = list1[len(list1)//2]\n",
    "print(\"Median is \",median)\n",
    "\n",
    "#Mode \n",
    "frequency = {}\n",
    "for i in list1:\n",
    "    frequency.setdefault(i,0)\n",
    "    frequency[i]+=1\n",
    "frequent = max(frequency.values())\n",
    "for i,j in frequency.items():\n",
    "    if j == frequent:\n",
    "        mode = i\n",
    "print(\"Mode is \",mode)"
   ]
  },
  {
   "cell_type": "code",
   "execution_count": 14,
   "id": "a0b8a8d1",
   "metadata": {},
   "outputs": [
    {
     "name": "stdout",
     "output_type": "stream",
     "text": [
      " AI\n",
      "Execution Time :  0.0009987354278564453\n"
     ]
    }
   ],
   "source": [
    "# Calculate Execution time of a program\n",
    "from time import time\n",
    "start = time()\n",
    "# Python program to create acronyms\n",
    "word = \"Artificial Intelligence\"\n",
    "text = word.split()\n",
    "a = \" \"\n",
    "for i in text:\n",
    "    a = a+str(i[0]).upper()\n",
    "print(a)\n",
    "end = time()\n",
    "execution_time = end - start\n",
    "print(\"Execution Time : \",execution_time)"
   ]
  },
  {
   "cell_type": "code",
   "execution_count": 8,
   "id": "e372807c",
   "metadata": {},
   "outputs": [
    {
     "name": "stdout",
     "output_type": "stream",
     "text": [
      "Select Rock,Paper,Scissor :rock\n",
      "Player 2 selected:  scissor\n",
      "Player 1 Won\n"
     ]
    }
   ],
   "source": [
    "# Rock ,paper scissor game\n",
    "import random\n",
    "player1 = input(\"Select Rock,Paper,Scissor :\").lower()\n",
    "player2 = random.choice([\"Rock\", \"Paper\", \"Scissor\"]).lower()\n",
    "print(\"Player 2 selected: \",player2)\n",
    "                \n",
    "if player1 == \"rock\" and player2 == \"paper\":\n",
    "    print(\"Player 2 Won\")\n",
    "elif player1 == \"paper\" and player2 == \"scissor\":\n",
    "    print(\"Player 2 Won\")\n",
    "elif player1 == \"scissor\" and player2 == \"rock\":\n",
    "     print(\"Player 2 Won\")\n",
    "elif player1 == player2:\n",
    "    print(\"Tie\")\n",
    "else:\n",
    "    print(\"Player 1 Won\")"
   ]
  },
  {
   "cell_type": "code",
   "execution_count": null,
   "id": "783293d4",
   "metadata": {},
   "outputs": [],
   "source": []
  }
 ],
 "metadata": {
  "kernelspec": {
   "display_name": "Python 3 (ipykernel)",
   "language": "python",
   "name": "python3"
  },
  "language_info": {
   "codemirror_mode": {
    "name": "ipython",
    "version": 3
   },
   "file_extension": ".py",
   "mimetype": "text/x-python",
   "name": "python",
   "nbconvert_exporter": "python",
   "pygments_lexer": "ipython3",
   "version": "3.10.0"
  }
 },
 "nbformat": 4,
 "nbformat_minor": 5
}
