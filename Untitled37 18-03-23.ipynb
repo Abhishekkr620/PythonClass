{
 "cells": [
  {
   "cell_type": "code",
   "execution_count": 1,
   "id": "895f0ae9",
   "metadata": {},
   "outputs": [
    {
     "name": "stdout",
     "output_type": "stream",
     "text": [
      "Enter the cash amount1000\n"
     ]
    },
    {
     "ename": "TypeError",
     "evalue": "not all arguments converted during string formatting",
     "output_type": "error",
     "traceback": [
      "\u001b[1;31m---------------------------------------------------------------------------\u001b[0m",
      "\u001b[1;31mTypeError\u001b[0m                                 Traceback (most recent call last)",
      "Cell \u001b[1;32mIn[1], line 2\u001b[0m\n\u001b[0;32m      1\u001b[0m a \u001b[38;5;241m=\u001b[39m \u001b[38;5;28minput\u001b[39m(\u001b[38;5;124m\"\u001b[39m\u001b[38;5;124mEnter the cash amount\u001b[39m\u001b[38;5;124m\"\u001b[39m)\n\u001b[1;32m----> 2\u001b[0m \u001b[43ma\u001b[49m\u001b[38;5;241;43m%\u001b[39;49m\u001b[38;5;241;43m100\u001b[39;49m\u001b[38;5;241m==\u001b[39m\u001b[38;5;241m0\u001b[39m\n",
      "\u001b[1;31mTypeError\u001b[0m: not all arguments converted during string formatting"
     ]
    }
   ],
   "source": [
    "a = input(\"Enter the cash amount\")\n",
    "a%100==0\n"
   ]
  },
  {
   "cell_type": "code",
   "execution_count": 8,
   "id": "dbeb1061",
   "metadata": {},
   "outputs": [
    {
     "name": "stdout",
     "output_type": "stream",
     "text": [
      "1000\n"
     ]
    }
   ],
   "source": [
    " a = 45000\n",
    "a1 = a%2000\n",
    "print(a1)\n"
   ]
  },
  {
   "cell_type": "code",
   "execution_count": null,
   "id": "4aeda286",
   "metadata": {},
   "outputs": [],
   "source": [
    "a = float(input(\"Enter 1st number \"))\n",
    "b = float(input(\"Enter 2nd number \"))\n",
    "c = input(\"Enter operation\")\n",
    "if (c=='+'):\n",
    "    print(\"sum is \",a+b)\n",
    "elif (c=='-'):\n",
    "    print(\"Sub is \",a-b)\n",
    "elif (c=='*'):\n",
    "    print(\"Mul is \",a*b)\n",
    "elif (c=='/'):\n",
    "    print(\"Div is \",a/b)\n",
    "elif (c=='%'):\n",
    "    print(\"Mod is \",a%b)\n",
    "elif (c=='<<'):\n",
    "    print(\"s is \",a<<b)\n",
    "elif (c=='>>'):\n",
    "    print(\"sum is \",a>>b)\n",
    "else:\n",
    "    print(\"operation is not available\")"
   ]
  },
  {
   "cell_type": "code",
   "execution_count": null,
   "id": "29792d19",
   "metadata": {},
   "outputs": [],
   "source": []
  }
 ],
 "metadata": {
  "kernelspec": {
   "display_name": "Python 3 (ipykernel)",
   "language": "python",
   "name": "python3"
  },
  "language_info": {
   "codemirror_mode": {
    "name": "ipython",
    "version": 3
   },
   "file_extension": ".py",
   "mimetype": "text/x-python",
   "name": "python",
   "nbconvert_exporter": "python",
   "pygments_lexer": "ipython3",
   "version": "3.10.0"
  }
 },
 "nbformat": 4,
 "nbformat_minor": 5
}
