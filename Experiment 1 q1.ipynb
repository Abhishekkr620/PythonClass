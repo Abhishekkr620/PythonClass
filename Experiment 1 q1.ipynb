{
 "cells": [
  {
   "cell_type": "code",
   "execution_count": 4,
   "id": "7a69fd59",
   "metadata": {},
   "outputs": [
    {
     "name": "stdout",
     "output_type": "stream",
     "text": [
      "Enter the celcius value = 5\n",
      "41.0\n"
     ]
    }
   ],
   "source": [
    "celcius = float(input(\"Enter the celcius value = \"))\n",
    "fahrenheit = (celcius*1.8)+32\n",
    "print(fahrenheit)"
   ]
  },
  {
   "cell_type": "code",
   "execution_count": null,
   "id": "9515beed",
   "metadata": {},
   "outputs": [],
   "source": [
    "principal = float(input(\"Enter principal amount\"))\n",
    "interest = float(input(\"Enter rate of interest\"))\n",
    "time = float(input(\"Enter time of simple interest\"))\n",
    "si = principal*interest*time\n",
    "print(si)"
   ]
  },
  {
   "cell_type": "code",
   "execution_count": null,
   "id": "b5725e6c",
   "metadata": {},
   "outputs": [],
   "source": []
  }
 ],
 "metadata": {
  "kernelspec": {
   "display_name": "Python 3 (ipykernel)",
   "language": "python",
   "name": "python3"
  },
  "language_info": {
   "codemirror_mode": {
    "name": "ipython",
    "version": 3
   },
   "file_extension": ".py",
   "mimetype": "text/x-python",
   "name": "python",
   "nbconvert_exporter": "python",
   "pygments_lexer": "ipython3",
   "version": "3.10.0"
  }
 },
 "nbformat": 4,
 "nbformat_minor": 5
}
