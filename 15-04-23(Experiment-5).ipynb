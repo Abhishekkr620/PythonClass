{
 "cells": [
  {
   "cell_type": "code",
   "execution_count": 2,
   "id": "8526903b",
   "metadata": {},
   "outputs": [
    {
     "data": {
      "text/plain": [
       "[-50, -23, 0, 1, 8, 9, 10, 24, 25, 47]"
      ]
     },
     "execution_count": 2,
     "metadata": {},
     "output_type": "execute_result"
    }
   ],
   "source": [
    "#Q1)ascending\n",
    "list1 = [25,47,-23,0,-50,24,8,1,9,10]\n",
    "l2=list1.copy()\n",
    "list1.sort()\n",
    "list1\n"
   ]
  },
  {
   "cell_type": "code",
   "execution_count": 3,
   "id": "c31123ea",
   "metadata": {},
   "outputs": [
    {
     "data": {
      "text/plain": [
       "[47, 25, 24, 10, 9, 8, 1, 0, -23, -50]"
      ]
     },
     "execution_count": 3,
     "metadata": {},
     "output_type": "execute_result"
    }
   ],
   "source": [
    "#Q2)decending\n",
    "list1 = [25,47,-23,0,-50,24,8,1,9,10]\n",
    "l2=list1.copy()\n",
    "list1.sort()\n",
    "list1\n",
    "l2.sort(reverse=True)\n",
    "l2"
   ]
  },
  {
   "cell_type": "code",
   "execution_count": 6,
   "id": "e396e7e5",
   "metadata": {},
   "outputs": [
    {
     "name": "stdout",
     "output_type": "stream",
     "text": [
      "Odd numbers [25, 47, -23, 1, 9]\n",
      "Even numbers [0, -50, 24, 8, 10]\n"
     ]
    }
   ],
   "source": [
    "Q2)\n",
    "l1=[25,47,-23,0,-50,24,8,1,9,10]\n",
    "odd_list = []\n",
    "even_list = []\n",
    "for i in l1:\n",
    "    if i%2==0:\n",
    "        even_list.append(i)\n",
    "    else:\n",
    "        odd_list.append(i)\n",
    "print(\"Odd numbers\",odd_list)\n",
    "print(\"Even numbers\", even_list)"
   ]
  },
  {
   "cell_type": "code",
   "execution_count": null,
   "id": "d73e6143",
   "metadata": {},
   "outputs": [],
   "source": []
  },
  {
   "cell_type": "code",
   "execution_count": 1,
   "id": "5bfb6944",
   "metadata": {},
   "outputs": [
    {
     "name": "stdout",
     "output_type": "stream",
     "text": [
      "Enter a list of numbers separated by space: 1 0 -5 -4 2 6\n",
      "Number of positive numbers: 3\n",
      "Number of negative numbers: 2\n",
      "Number of zeros: 1\n"
     ]
    }
   ],
   "source": [
    "num_list = input(\"Enter a list of numbers separated by space: \")\n",
    "num_list = num_list.split()\n",
    "\n",
    "positive_count = 0\n",
    "negative_count = 0\n",
    "zero_count = 0\n",
    "\n",
    "for num in num_list:\n",
    "    if int(num) > 0:\n",
    "        positive_count += 1\n",
    "    elif int(num) < 0:\n",
    "        negative_count += 1\n",
    "    else:\n",
    "        zero_count += 1\n",
    "\n",
    "print(\"Number of positive numbers:\", positive_count)\n",
    "print(\"Number of negative numbers:\", negative_count)\n",
    "print(\"Number of zeros:\", zero_count)"
   ]
  },
  {
   "cell_type": "code",
   "execution_count": null,
   "id": "ebef0cfc",
   "metadata": {},
   "outputs": [],
   "source": []
  },
  {
   "cell_type": "code",
   "execution_count": null,
   "id": "d5c5fa5a",
   "metadata": {},
   "outputs": [],
   "source": [
    "#Q4)\n",
    "list1 = input(\"Enter the first list of elements separated by space: \")\n",
    "list1 = list1.split()\n",
    "\n",
    "list2 = input(\"Enter the second list of elements separated by space: \")\n",
    "list2 = list2.split()\n",
    "\n",
    "common_elements = []\n",
    "\n",
    "for num in list1:\n",
    "    if num in list2:\n",
    "        common_elements.append(int(num))\n",
    "\n",
    "print(\"Common elements:\", common_elements)"
   ]
  },
  {
   "cell_type": "code",
   "execution_count": 12,
   "id": "944f3041",
   "metadata": {},
   "outputs": [
    {
     "name": "stdout",
     "output_type": "stream",
     "text": [
      "Enter a list of numbers separated by space: 1 5 7 2 0 -2\n",
      "Average of maximum and minimum elements: 2.5\n"
     ]
    }
   ],
   "source": [
    "#Q5) \n",
    "num_list = input(\"Enter a list of numbers separated by space: \")\n",
    "num_list = num_list.split()\n",
    "\n",
    "num_list = [int(num) for num in num_list]\n",
    "average = (max(num_list) + min(num_list)) / 2\n",
    "\n",
    "print(\"Average of maximum and minimum elements:\", average)"
   ]
  },
  {
   "cell_type": "code",
   "execution_count": null,
   "id": "0f7eb67f",
   "metadata": {},
   "outputs": [],
   "source": []
  }
 ],
 "metadata": {
  "kernelspec": {
   "display_name": "Python 3 (ipykernel)",
   "language": "python",
   "name": "python3"
  },
  "language_info": {
   "codemirror_mode": {
    "name": "ipython",
    "version": 3
   },
   "file_extension": ".py",
   "mimetype": "text/x-python",
   "name": "python",
   "nbconvert_exporter": "python",
   "pygments_lexer": "ipython3",
   "version": "3.10.0"
  }
 },
 "nbformat": 4,
 "nbformat_minor": 5
}
