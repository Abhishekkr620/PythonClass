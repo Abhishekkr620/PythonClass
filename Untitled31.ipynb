{
 "cells": [
  {
   "cell_type": "code",
   "execution_count": 2,
   "id": "e31fb894",
   "metadata": {},
   "outputs": [
    {
     "name": "stdout",
     "output_type": "stream",
     "text": [
      "2010\n"
     ]
    }
   ],
   "source": [
    "m = 201059087\n",
    "m = str(m)\n",
    "print(m[0:4:1])"
   ]
  },
  {
   "cell_type": "code",
   "execution_count": 4,
   "id": "78527104",
   "metadata": {},
   "outputs": [
    {
     "name": "stdout",
     "output_type": "stream",
     "text": [
      "21\n"
     ]
    }
   ],
   "source": [
    "m = 201059087\n",
    "m = str(m)\n",
    "print(m[0:4:2])"
   ]
  },
  {
   "cell_type": "code",
   "execution_count": 5,
   "id": "fc3c8313",
   "metadata": {},
   "outputs": [
    {
     "name": "stdout",
     "output_type": "stream",
     "text": [
      "201059087\n",
      "200\n"
     ]
    }
   ],
   "source": [
    "m = 201059087\n",
    "m = str(m)\n",
    "print(m)\n",
    "print(m[0:9:3])"
   ]
  },
  {
   "cell_type": "code",
   "execution_count": 9,
   "id": "168e2278",
   "metadata": {},
   "outputs": [
    {
     "data": {
      "text/plain": [
       "19"
      ]
     },
     "execution_count": 9,
     "metadata": {},
     "output_type": "execute_result"
    }
   ],
   "source": [
    "string = 'Happy Holi Everyone'\n",
    "len(string)"
   ]
  },
  {
   "cell_type": "code",
   "execution_count": 10,
   "id": "bbd2a1d5",
   "metadata": {},
   "outputs": [
    {
     "data": {
      "text/plain": [
       "2"
      ]
     },
     "execution_count": 10,
     "metadata": {},
     "output_type": "execute_result"
    }
   ],
   "source": [
    "string = 'Happy Holi Everyone'\n",
    "string.count('H')"
   ]
  },
  {
   "cell_type": "code",
   "execution_count": 11,
   "id": "777924fc",
   "metadata": {},
   "outputs": [
    {
     "data": {
      "text/plain": [
       "2"
      ]
     },
     "execution_count": 11,
     "metadata": {},
     "output_type": "execute_result"
    }
   ],
   "source": [
    "string = 'Happy Holi Everyone'\n",
    "string.count(' ')"
   ]
  },
  {
   "cell_type": "code",
   "execution_count": 14,
   "id": "6f845f03",
   "metadata": {},
   "outputs": [
    {
     "name": "stdout",
     "output_type": "stream",
     "text": [
      "Enter F_nameAbhishek\n",
      "Enter L_namekumar\n",
      "Enter cityRanchi\n",
      "Enter age19\n",
      "F_name is Abhishek\n",
      "L_name kumar\n",
      "City is Ranchi\n",
      "Age is 19\n"
     ]
    }
   ],
   "source": [
    "a = input(\"Enter F_name\")\n",
    "b = input(\"Enter L_name\")\n",
    "c = input(\"Enter city\")\n",
    "d = input(\"Enter age\")\n",
    "print(\"F_name is\",a)\n",
    "print(\"L_name\",b)\n",
    "print(\"City is\",c)\n",
    "print(\"Age is\",d)"
   ]
  },
  {
   "cell_type": "code",
   "execution_count": 2,
   "id": "8b578752",
   "metadata": {},
   "outputs": [
    {
     "name": "stdout",
     "output_type": "stream",
     "text": [
      "Enter the radius:7\n",
      "The Area of the circle with radius 7 is 154.0\n"
     ]
    }
   ],
   "source": [
    "R = int(input(\"Enter the radius:\"))\n",
    "A = 22/7*R*R\n",
    "print(\"The Area of the circle with radius\",R,\"is\",A)"
   ]
  },
  {
   "cell_type": "code",
   "execution_count": 3,
   "id": "be738775",
   "metadata": {},
   "outputs": [
    {
     "name": "stdout",
     "output_type": "stream",
     "text": [
      "Enter the radius:2.5\n",
      "The Area of the circle with radius 2.5 is 19.64\n"
     ]
    }
   ],
   "source": [
    "R = float(input(\"Enter the radius:\"))\n",
    "A = round(22/7*R*R,2)\n",
    "print(\"The Area of the circle with radius\",R,\"is\",A)"
   ]
  },
  {
   "cell_type": "code",
   "execution_count": 7,
   "id": "40bca2a0",
   "metadata": {},
   "outputs": [
    {
     "name": "stdout",
     "output_type": "stream",
     "text": [
      "Enter single digit No.4\n",
      "492\n"
     ]
    }
   ],
   "source": [
    "n = int(input(\"Enter single digit No.\"))\n",
    "n = str(n)\n",
    "nn = n*2\n",
    "nnn = n*3\n",
    "print(int(n)+int(nn)+int(nnn))"
   ]
  },
  {
   "cell_type": "code",
   "execution_count": 9,
   "id": "7d69aa71",
   "metadata": {},
   "outputs": [
    {
     "name": "stdout",
     "output_type": "stream",
     "text": [
      "Enter single digit No.:4\n",
      "492\n"
     ]
    }
   ],
   "source": [
    "n = int(input(\"Enter single digit No.:\"))\n",
    "print(n+(10*n+n)+(100*n+10*n+n))"
   ]
  },
  {
   "cell_type": "code",
   "execution_count": 12,
   "id": "ac7853e4",
   "metadata": {},
   "outputs": [
    {
     "name": "stdout",
     "output_type": "stream",
     "text": [
      "Please enter the 5 digit number12345\n",
      "The Sum of the digits is: 15\n"
     ]
    }
   ],
   "source": [
    "n = int(input(\"Please enter the 5 digit number\"))\n",
    "n = str(n)\n",
    "a = int(n[0])\n",
    "b = int(n[1])\n",
    "c = int(n[2])\n",
    "d = int(n[3])\n",
    "e = int(n[4])\n",
    "sum = a+b+c+d+e\n",
    "print(\"The Sum of the digits is:\",sum)"
   ]
  },
  {
   "cell_type": "code",
   "execution_count": 13,
   "id": "c39c57c3",
   "metadata": {},
   "outputs": [
    {
     "name": "stdout",
     "output_type": "stream",
     "text": [
      "False\n"
     ]
    }
   ],
   "source": [
    "a = 3\n",
    "b = 5\n",
    "print(a==b)"
   ]
  },
  {
   "cell_type": "code",
   "execution_count": 14,
   "id": "3e2ee8a1",
   "metadata": {},
   "outputs": [
    {
     "data": {
      "text/plain": [
       "True"
      ]
     },
     "execution_count": 14,
     "metadata": {},
     "output_type": "execute_result"
    }
   ],
   "source": [
    "bool(6)"
   ]
  },
  {
   "cell_type": "code",
   "execution_count": null,
   "id": "22db8e81",
   "metadata": {},
   "outputs": [],
   "source": []
  }
 ],
 "metadata": {
  "kernelspec": {
   "display_name": "Python 3 (ipykernel)",
   "language": "python",
   "name": "python3"
  },
  "language_info": {
   "codemirror_mode": {
    "name": "ipython",
    "version": 3
   },
   "file_extension": ".py",
   "mimetype": "text/x-python",
   "name": "python",
   "nbconvert_exporter": "python",
   "pygments_lexer": "ipython3",
   "version": "3.10.0"
  }
 },
 "nbformat": 4,
 "nbformat_minor": 5
}
