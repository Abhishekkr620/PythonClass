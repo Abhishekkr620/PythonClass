{
 "cells": [
  {
   "cell_type": "code",
   "execution_count": null,
   "id": "abe9dde2",
   "metadata": {},
   "outputs": [],
   "source": [
    "# The above error occured because the Limitation to FUNCTION is that \n",
    "# they can be called within the same file \"n number of times\"\n",
    "# \"BUT\" they \"cannot be called outside that particular file\".\n"
   ]
  },
  {
   "cell_type": "code",
   "execution_count": null,
   "id": "c0773c45",
   "metadata": {
    "collapsed": true
   },
   "outputs": [],
   "source": [
    "#now modules provide you the functionality to create a file\n",
    "# which has multiple functions and it can be accessed anywhere in any file."
   ]
  },
  {
   "cell_type": "code",
   "execution_count": null,
   "id": "d55368a2",
   "metadata": {},
   "outputs": [],
   "source": [
    "# In python , we have 2 types of module present.\n",
    "#1. Default Modules\n",
    "#2. Custom Build Modules."
   ]
  },
  {
   "cell_type": "code",
   "execution_count": null,
   "id": "b2eb3461",
   "metadata": {},
   "outputs": [],
   "source": [
    "#1. Default Modules:\n",
    "# These are the inbuild modules which comes along with python as a language.\n",
    "# THESE HAVE BEEN CREATED BY THE PYTHON COMMUNITY.\n",
    "# when a creator creates the modules, the upload the code in the GITHUB,\n",
    "# where the python community reviews the code and then\n",
    "# pushes into the main code.This is how we are able to use them in our system"
   ]
  },
  {
   "cell_type": "code",
   "execution_count": 1,
   "id": "f5428a54",
   "metadata": {},
   "outputs": [
    {
     "name": "stdout",
     "output_type": "stream",
     "text": [
      "\n",
      "Please wait a moment while I gather a list of all available modules...\n",
      "\n",
      "IPython             binhex              math                statistics\n",
      "__future__          bisect              matplotlib_inline   string\n",
      "_abc                bleach              mimetypes           stringprep\n",
      "_aix_support        bs4                 mistune             struct\n",
      "_argon2_cffi_bindings builtins            mmap                subprocess\n",
      "_ast                bz2                 mmapfile            sunau\n",
      "_asyncio            cProfile            mmsystem            symtable\n",
      "_bisect             calendar            modulefinder        sys\n",
      "_blake2             cffi                msilib              sysconfig\n",
      "_bootsubprocess     cgi                 msvcrt              tabnanny\n",
      "_bz2                cgitb               multiprocessing     tarfile\n",
      "_cffi_backend       chunk               nbclassic           telnetlib\n",
      "_codecs             cmath               nbclient            tempfile\n",
      "_codecs_cn          cmd                 nbconvert           terminado\n",
      "_codecs_hk          code                nbformat            test\n",
      "_codecs_iso2022     codecs              nest_asyncio        textwrap\n",
      "_codecs_jp          codeop              netbios             this\n",
      "_codecs_kr          collections         netrc               threading\n",
      "_codecs_tw          colorama            nntplib             time\n",
      "_collections        colorsys            notebook            timeit\n",
      "_collections_abc    comm                notebook_shim       timer\n",
      "_compat_pickle      commctrl            nt                  tinycss2\n",
      "_compression        compileall          ntpath              tkinter\n",
      "_contextvars        concurrent          ntsecuritycon       token\n",
      "_csv                configparser        nturl2path          tokenize\n",
      "_ctypes             contextlib          numbers             tornado\n",
      "_ctypes_test        contextvars         odbc                trace\n",
      "_datetime           copy                opcode              traceback\n",
      "_decimal            copyreg             operator            tracemalloc\n",
      "_distutils_hack     crypt               optparse            traitlets\n",
      "_elementtree        csv                 os                  tty\n",
      "_functools          ctypes              packaging           turtle\n",
      "_hashlib            curses              pandocfilters       turtledemo\n",
      "_heapq              dataclasses         parso               types\n",
      "_imp                datetime            pathlib             typing\n",
      "_io                 dateutil            pdb                 unicodedata\n",
      "_json               dbi                 perfmon             unittest\n",
      "_locale             dbm                 pickle              uri_template\n",
      "_lsprof             dde                 pickleshare         urllib\n",
      "_lzma               debugpy             pickletools         uu\n",
      "_markupbase         decimal             pip                 uuid\n",
      "_md5                decorator           pipes               venv\n",
      "_msi                defusedxml          pkg_resources       warnings\n",
      "_multibytecodec     difflib             pkgutil             wave\n",
      "_multiprocessing    dis                 platform            wcwidth\n",
      "_opcode             distutils           platformdirs        weakref\n",
      "_operator           doctest             plistlib            webbrowser\n",
      "_osx_support        email               poplib              webcolors\n",
      "_overlapped         encodings           posixpath           webencodings\n",
      "_pickle             ensurepip           pprint              websocket\n",
      "_py_abc             enum                profile             widgetsnbextension\n",
      "_pydecimal          errno               prometheus_client   win2kras\n",
      "_pyio               executing           prompt_toolkit      win32api\n",
      "_pyrsistent_version fastjsonschema      pstats              win32clipboard\n",
      "_queue              faulthandler        psutil              win32com\n",
      "_random             filecmp             pty                 win32con\n",
      "_sha1               fileinput           pure_eval           win32console\n",
      "_sha256             fnmatch             pvectorc            win32cred\n",
      "_sha3               fqdn                py_compile          win32crypt\n",
      "_sha512             fractions           pyclbr              win32cryptcon\n",
      "_signal             ftplib              pycparser           win32event\n",
      "_sitebuiltins       functools           pydoc               win32evtlog\n",
      "_socket             gc                  pydoc_data          win32evtlogutil\n",
      "_sqlite3            genericpath         pyexpat             win32file\n",
      "_sre                getopt              pygments            win32gui\n",
      "_ssl                getpass             pyrsistent          win32gui_struct\n",
      "_stat               gettext             pythoncom           win32help\n",
      "_statistics         glob                pythonjsonlogger    win32inet\n",
      "_string             graphlib            pywin               win32inetcon\n",
      "_strptime           gzip                pywin32_bootstrap   win32job\n",
      "_struct             hashlib             pywin32_testutil    win32lz\n",
      "_symtable           heapq               pywintypes          win32net\n",
      "_testbuffer         hmac                qtconsole           win32netcon\n",
      "_testcapi           html                qtpy                win32pdh\n",
      "_testconsole        http                queue               win32pdhquery\n",
      "_testimportmultiple idlelib             quopri              win32pdhutil\n",
      "_testinternalcapi   idna                random              win32pipe\n",
      "_testmultiphase     imaplib             rasutil             win32print\n",
      "_thread             imghdr              re                  win32process\n",
      "_threading_local    imp                 regcheck            win32profile\n",
      "_tkinter            importlib           regutil             win32ras\n",
      "_tracemalloc        inspect             reprlib             win32rcparser\n",
      "_uuid               io                  rfc3339_validator   win32security\n",
      "_warnings           ipaddress           rfc3986_validator   win32service\n",
      "_weakref            ipykernel           rlcompleter         win32serviceutil\n",
      "_weakrefset         ipykernel_launcher  runpy               win32timezone\n",
      "_win32sysloader     ipython_genutils    sched               win32trace\n",
      "_winapi             ipywidgets          secrets             win32traceutil\n",
      "_winxptheme         isapi               select              win32transaction\n",
      "_xxsubinterpreters  isoduration         selectors           win32ts\n",
      "_yaml               itertools           send2trash          win32ui\n",
      "_zoneinfo           jedi                servicemanager      win32uiole\n",
      "abc                 jinja2              setuptools          win32verstamp\n",
      "adodbapi            json                shelve              win32wnet\n",
      "afxres              jsonpointer         shlex               winerror\n",
      "aifc                jsonschema          shutil              winioctlcon\n",
      "antigravity         jupyter             signal              winnt\n",
      "anyio               jupyter_client      site                winperf\n",
      "argon2              jupyter_console     six                 winpty\n",
      "argparse            jupyter_core        smtpd               winreg\n",
      "array               jupyter_events      smtplib             winsound\n",
      "arrow               jupyter_server      sndhdr              winxpgui\n",
      "ast                 jupyter_server_terminals sniffio             winxptheme\n",
      "asttokens           jupyterlab_pygments socket              wsgiref\n",
      "asynchat            jupyterlab_widgets  socketserver        xdrlib\n",
      "asyncio             keyword             soupsieve           xml\n",
      "asyncore            lib2to3             sqlite3             xmlrpc\n",
      "atexit              linecache           sre_compile         xxsubtype\n",
      "attr                locale              sre_constants       yaml\n",
      "attrs               logging             sre_parse           zipapp\n",
      "audioop             lzma                ssl                 zipfile\n",
      "backcall            mailbox             sspi                zipimport\n",
      "base64              mailcap             sspicon             zlib\n",
      "bdb                 markupsafe          stack_data          zmq\n",
      "binascii            marshal             stat                zoneinfo\n",
      "\n",
      "Enter any module name to get more help.  Or, type \"modules spam\" to search\n",
      "for modules whose name or summary contain the string \"spam\".\n",
      "\n"
     ]
    }
   ],
   "source": [
    "help('modules')"
   ]
  },
  {
   "cell_type": "code",
   "execution_count": null,
   "id": "dc899bca",
   "metadata": {},
   "outputs": [],
   "source": [
    "# PIP stands for Package Manager of python.This manages the python\n",
    "# Packages we are able to use. Check them for the updates and addition or\n",
    "# deletion"
   ]
  },
  {
   "cell_type": "code",
   "execution_count": 2,
   "id": "dbd3e052",
   "metadata": {},
   "outputs": [
    {
     "name": "stdout",
     "output_type": "stream",
     "text": [
      "anyio==3.6.2\n",
      "argon2-cffi==21.3.0\n",
      "argon2-cffi-bindings==21.2.0\n",
      "arrow==1.2.3\n",
      "asttokens==2.2.1\n",
      "attrs==22.2.0\n",
      "backcall==0.2.0\n",
      "beautifulsoup4==4.11.2\n",
      "bleach==6.0.0\n",
      "cffi==1.15.1\n",
      "colorama==0.4.6\n",
      "comm==0.1.2\n",
      "debugpy==1.6.6\n",
      "decorator==5.1.1\n",
      "defusedxml==0.7.1\n",
      "executing==1.2.0\n",
      "fastjsonschema==2.16.3\n",
      "fqdn==1.5.1\n",
      "idna==3.4\n",
      "ipykernel==6.21.2\n",
      "ipython==8.10.0\n",
      "ipython-genutils==0.2.0\n",
      "ipywidgets==8.0.4\n",
      "isoduration==20.11.0\n",
      "jedi==0.18.2\n",
      "Jinja2==3.1.2\n",
      "jsonpointer==2.3\n",
      "jsonschema==4.17.3\n",
      "jupyter==1.0.0\n",
      "jupyter-console==6.6.2\n",
      "jupyter-events==0.6.3\n",
      "jupyter_client==8.0.3\n",
      "jupyter_core==5.2.0\n",
      "jupyter_server==2.3.0\n",
      "jupyter_server_terminals==0.4.4\n",
      "jupyterlab-pygments==0.2.2\n",
      "jupyterlab-widgets==3.0.5\n",
      "MarkupSafe==2.1.2\n",
      "matplotlib-inline==0.1.6\n",
      "mistune==2.0.5\n",
      "nbclassic==0.5.2\n",
      "nbclient==0.7.2\n",
      "nbconvert==7.2.9\n",
      "nbformat==5.7.3\n",
      "nest-asyncio==1.5.6\n",
      "notebook==6.5.2\n",
      "notebook_shim==0.2.2\n",
      "packaging==23.0\n",
      "pandocfilters==1.5.0\n",
      "parso==0.8.3\n",
      "pickleshare==0.7.5\n",
      "platformdirs==3.0.0\n",
      "prometheus-client==0.16.0\n",
      "prompt-toolkit==3.0.37\n",
      "psutil==5.9.4\n",
      "pure-eval==0.2.2\n",
      "pycparser==2.21\n",
      "Pygments==2.14.0\n",
      "pyrsistent==0.19.3\n",
      "python-dateutil==2.8.2\n",
      "python-json-logger==2.0.7\n",
      "pywin32==305\n",
      "pywinpty==2.0.10\n",
      "PyYAML==6.0\n",
      "pyzmq==25.0.0\n",
      "qtconsole==5.4.0\n",
      "QtPy==2.3.0\n",
      "rfc3339-validator==0.1.4\n",
      "rfc3986-validator==0.1.1\n",
      "Send2Trash==1.8.0\n",
      "six==1.16.0\n",
      "sniffio==1.3.0\n",
      "soupsieve==2.4\n",
      "stack-data==0.6.2\n",
      "terminado==0.17.1\n",
      "tinycss2==1.2.1\n",
      "tornado==6.2\n",
      "traitlets==5.9.0\n",
      "uri-template==1.2.0\n",
      "wcwidth==0.2.6\n",
      "webcolors==1.12\n",
      "webencodings==0.5.1\n",
      "websocket-client==1.5.1\n",
      "widgetsnbextension==4.0.5\n",
      "Note: you may need to restart the kernel to use updated packages.\n"
     ]
    }
   ],
   "source": [
    "pip freeze"
   ]
  },
  {
   "cell_type": "code",
   "execution_count": null,
   "id": "c26bc0e7",
   "metadata": {},
   "outputs": [],
   "source": [
    "# To use the modules in python, we need to CALL the just like we CALLED the\n",
    "# Functions.\n",
    "# Instead, in modules we IMPORT them, IMPORT is a keyword in python."
   ]
  },
  {
   "cell_type": "code",
   "execution_count": 6,
   "id": "7460e1c5",
   "metadata": {},
   "outputs": [],
   "source": [
    "import math"
   ]
  },
  {
   "cell_type": "code",
   "execution_count": 7,
   "id": "58c68959",
   "metadata": {},
   "outputs": [
    {
     "data": {
      "text/plain": [
       "['__doc__',\n",
       " '__loader__',\n",
       " '__name__',\n",
       " '__package__',\n",
       " '__spec__',\n",
       " 'acos',\n",
       " 'acosh',\n",
       " 'asin',\n",
       " 'asinh',\n",
       " 'atan',\n",
       " 'atan2',\n",
       " 'atanh',\n",
       " 'ceil',\n",
       " 'comb',\n",
       " 'copysign',\n",
       " 'cos',\n",
       " 'cosh',\n",
       " 'degrees',\n",
       " 'dist',\n",
       " 'e',\n",
       " 'erf',\n",
       " 'erfc',\n",
       " 'exp',\n",
       " 'expm1',\n",
       " 'fabs',\n",
       " 'factorial',\n",
       " 'floor',\n",
       " 'fmod',\n",
       " 'frexp',\n",
       " 'fsum',\n",
       " 'gamma',\n",
       " 'gcd',\n",
       " 'hypot',\n",
       " 'inf',\n",
       " 'isclose',\n",
       " 'isfinite',\n",
       " 'isinf',\n",
       " 'isnan',\n",
       " 'isqrt',\n",
       " 'lcm',\n",
       " 'ldexp',\n",
       " 'lgamma',\n",
       " 'log',\n",
       " 'log10',\n",
       " 'log1p',\n",
       " 'log2',\n",
       " 'modf',\n",
       " 'nan',\n",
       " 'nextafter',\n",
       " 'perm',\n",
       " 'pi',\n",
       " 'pow',\n",
       " 'prod',\n",
       " 'radians',\n",
       " 'remainder',\n",
       " 'sin',\n",
       " 'sinh',\n",
       " 'sqrt',\n",
       " 'tan',\n",
       " 'tanh',\n",
       " 'tau',\n",
       " 'trunc',\n",
       " 'ulp']"
      ]
     },
     "execution_count": 7,
     "metadata": {},
     "output_type": "execute_result"
    }
   ],
   "source": [
    "# If we check the directory of the module, we will get all the functions\n",
    "# inside the module which we can use.\n",
    "\n",
    "dir(math)"
   ]
  },
  {
   "cell_type": "code",
   "execution_count": null,
   "id": "d4e5b8b9",
   "metadata": {},
   "outputs": [],
   "source": [
    "# NOW, to use the functions we follow the following SYNTAX\n",
    "# SYNTAX -->MODULE.FUNCTION()"
   ]
  },
  {
   "cell_type": "code",
   "execution_count": 9,
   "id": "f6142994",
   "metadata": {},
   "outputs": [
    {
     "name": "stdout",
     "output_type": "stream",
     "text": [
      "3.141592653589793\n"
     ]
    }
   ],
   "source": [
    "print(math.pi)"
   ]
  },
  {
   "cell_type": "code",
   "execution_count": null,
   "id": "37b7ef99",
   "metadata": {},
   "outputs": [],
   "source": []
  },
  {
   "cell_type": "code",
   "execution_count": 10,
   "id": "22a6600c",
   "metadata": {},
   "outputs": [
    {
     "data": {
      "text/plain": [
       "5.0"
      ]
     },
     "execution_count": 10,
     "metadata": {},
     "output_type": "execute_result"
    }
   ],
   "source": [
    "math.sqrt(25)"
   ]
  },
  {
   "cell_type": "code",
   "execution_count": null,
   "id": "f024f030",
   "metadata": {},
   "outputs": [],
   "source": [
    "#IMPORTING  a specific function from modules\n",
    "# from MODULE_NAME import FUNCTION_NAME\n",
    "from math import sqrt"
   ]
  },
  {
   "cell_type": "code",
   "execution_count": 13,
   "id": "e329330f",
   "metadata": {},
   "outputs": [
    {
     "data": {
      "text/plain": [
       "8.831760866327848"
      ]
     },
     "execution_count": 13,
     "metadata": {},
     "output_type": "execute_result"
    }
   ],
   "source": [
    "math.sqrt(78)"
   ]
  },
  {
   "cell_type": "code",
   "execution_count": 11,
   "id": "e21fdbf6",
   "metadata": {},
   "outputs": [],
   "source": [
    "a = 22/7"
   ]
  },
  {
   "cell_type": "code",
   "execution_count": 12,
   "id": "a54430dc",
   "metadata": {},
   "outputs": [
    {
     "data": {
      "text/plain": [
       "3.142857142857143"
      ]
     },
     "execution_count": 12,
     "metadata": {},
     "output_type": "execute_result"
    }
   ],
   "source": [
    "a"
   ]
  },
  {
   "cell_type": "code",
   "execution_count": null,
   "id": "5ae40add",
   "metadata": {},
   "outputs": [],
   "source": [
    "import math as m # as is a alias -- we can rename the modules as per or\n",
    "# wish amd will have to call the module by that name in that particular"
   ]
  },
  {
   "cell_type": "code",
   "execution_count": null,
   "id": "7c5c49ff",
   "metadata": {},
   "outputs": [],
   "source": [
    "# HOME-WORK --> GOOGLE and EXPLORE the\n",
    "# MATH, DATE-TIME and REGULAR EXPRESSION MODULES."
   ]
  },
  {
   "cell_type": "code",
   "execution_count": null,
   "id": "b3503277",
   "metadata": {},
   "outputs": [],
   "source": [
    "# USER DEFINED MODULES\n",
    "\n",
    "# Python gives us the leverage to define our own modules and resecue them \n",
    "# over and over again in different file within the same ecosystem."
   ]
  },
  {
   "cell_type": "code",
   "execution_count": 15,
   "id": "37c1a5e8",
   "metadata": {},
   "outputs": [
    {
     "name": "stdout",
     "output_type": "stream",
     "text": [
      "Do not waste time\n"
     ]
    }
   ],
   "source": [
    "import addyy"
   ]
  },
  {
   "cell_type": "code",
   "execution_count": 16,
   "id": "835c6e65",
   "metadata": {},
   "outputs": [
    {
     "data": {
      "text/plain": [
       "['__builtins__',\n",
       " '__cached__',\n",
       " '__doc__',\n",
       " '__file__',\n",
       " '__loader__',\n",
       " '__name__',\n",
       " '__package__',\n",
       " '__spec__']"
      ]
     },
     "execution_count": 16,
     "metadata": {},
     "output_type": "execute_result"
    }
   ],
   "source": [
    "dir(addyy)"
   ]
  },
  {
   "cell_type": "code",
   "execution_count": 22,
   "id": "3e2df136",
   "metadata": {},
   "outputs": [],
   "source": [
    "import divi"
   ]
  },
  {
   "cell_type": "code",
   "execution_count": 23,
   "id": "2d0649c8",
   "metadata": {},
   "outputs": [
    {
     "data": {
      "text/plain": [
       "['__builtins__',\n",
       " '__cached__',\n",
       " '__doc__',\n",
       " '__file__',\n",
       " '__loader__',\n",
       " '__name__',\n",
       " '__package__',\n",
       " '__spec__']"
      ]
     },
     "execution_count": 23,
     "metadata": {},
     "output_type": "execute_result"
    }
   ],
   "source": [
    "dir(divi)"
   ]
  },
  {
   "cell_type": "code",
   "execution_count": 24,
   "id": "5d45bf59",
   "metadata": {},
   "outputs": [
    {
     "ename": "AttributeError",
     "evalue": "module 'divi' has no attribute 'a'",
     "output_type": "error",
     "traceback": [
      "\u001b[1;31m---------------------------------------------------------------------------\u001b[0m",
      "\u001b[1;31mAttributeError\u001b[0m                            Traceback (most recent call last)",
      "Cell \u001b[1;32mIn[24], line 1\u001b[0m\n\u001b[1;32m----> 1\u001b[0m \u001b[43mdivi\u001b[49m\u001b[38;5;241;43m.\u001b[39;49m\u001b[43ma\u001b[49m(\u001b[38;5;241m100\u001b[39m,\u001b[38;5;241m5\u001b[39m)\n",
      "\u001b[1;31mAttributeError\u001b[0m: module 'divi' has no attribute 'a'"
     ]
    }
   ],
   "source": [
    "divi.a(100,5)"
   ]
  },
  {
   "cell_type": "code",
   "execution_count": null,
   "id": "111517bd",
   "metadata": {},
   "outputs": [],
   "source": []
  },
  {
   "cell_type": "code",
   "execution_count": null,
   "id": "7bd62efc",
   "metadata": {},
   "outputs": [],
   "source": [
    "2.LOGICAL ERRORS:THESE KINDS OF ERRORS ARE VERY\n",
    "DIFFICULT TO FIND AND CORRECT USUALLY THE REASON\n",
    "FOR SUCH ERRORS IS A BUG IN THE CODE\n",
    "\n",
    "YOU AS A CODER HAVE WRITTEN THE CORRECT LOGIN AND DONE THINGS RIGHT\n",
    "\n",
    "WAYS TO DEAL WITH IT:IT NEED EXTENSIVE TESTING\n",
    "BY TESTERS\n",
    "ALPHA,BETA GAMMA TESTING IS ALL DONE TO MAKE\n",
    "SURE THAT THE CODE IS ROBUST AND LOGICALLY\n",
    "CORRECT\n",
    "EG:\n",
    "2+2=4\n",
    "BUT WE ARE GETTINHG\n",
    "2+2=5\n",
    "\n",
    "YOU  HAVE DEFINED A VARIABLE A = 100 AND\n",
    "BY MISTAKE YOU HAVE CREATED ANOTHER VARIABLE\n",
    "WITH SAME NAME A = 20 AND SYSTEM IS PICKING UP \n",
    "A = 20 INSTEAD OF A = 100"
   ]
  }
 ],
 "metadata": {
  "kernelspec": {
   "display_name": "Python 3 (ipykernel)",
   "language": "python",
   "name": "python3"
  },
  "language_info": {
   "codemirror_mode": {
    "name": "ipython",
    "version": 3
   },
   "file_extension": ".py",
   "mimetype": "text/x-python",
   "name": "python",
   "nbconvert_exporter": "python",
   "pygments_lexer": "ipython3",
   "version": "3.10.0"
  }
 },
 "nbformat": 4,
 "nbformat_minor": 5
}
