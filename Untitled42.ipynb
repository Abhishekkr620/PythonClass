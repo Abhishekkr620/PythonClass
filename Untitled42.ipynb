{
 "cells": [
  {
   "cell_type": "code",
   "execution_count": 4,
   "id": "8c7d54d9",
   "metadata": {},
   "outputs": [
    {
     "name": "stdout",
     "output_type": "stream",
     "text": [
      "['5', '10', '15', '5', '10', '8', '20', '25', '20', '25']\n"
     ]
    }
   ],
   "source": [
    "list = []\n",
    "list.insert(1,\"5\")\n",
    "list.insert(2,\"10\")\n",
    "list.insert(3,\"15\")\n",
    "list.insert(4,\"5\")\n",
    "list.insert(5,\"10\")\n",
    "list.insert(6,\"8\")\n",
    "list.insert(7,\"20\")\n",
    "list.insert(8,\"25\")\n",
    "list.insert(9,\"20\")\n",
    "list.insert(10,\"25\")\n",
    "\n",
    "print(list)"
   ]
  },
  {
   "cell_type": "code",
   "execution_count": 9,
   "id": "4d86fb3f",
   "metadata": {},
   "outputs": [
    {
     "name": "stdout",
     "output_type": "stream",
     "text": [
      "['5', '10', '15', '5', '10', '8', '20', '25', '20', '25']\n",
      "['8', '5', '5', '25', '25', '20', '20', '15', '10', '10']\n"
     ]
    },
    {
     "data": {
      "text/plain": [
       "10"
      ]
     },
     "execution_count": 9,
     "metadata": {},
     "output_type": "execute_result"
    }
   ],
   "source": [
    "list = []\n",
    "list.insert(1,\"5\")\n",
    "list.insert(2,\"10\")\n",
    "list.insert(3,\"15\")\n",
    "list.insert(4,\"5\")\n",
    "list.insert(5,\"10\")\n",
    "list.insert(6,\"8\")\n",
    "list.insert(7,\"20\")\n",
    "list.insert(8,\"25\")\n",
    "list.insert(9,\"20\")\n",
    "list.insert(10,\"25\")\n",
    "print(list)\n",
    "l2=list.copy()\n",
    "l2.sort(reverse=True)\n",
    "print(l2)\n",
    "max(l2)\n",
    "min(l2)\n",
    "len(l2)"
   ]
  },
  {
   "cell_type": "code",
   "execution_count": 10,
   "id": "23042b37",
   "metadata": {},
   "outputs": [
    {
     "name": "stdout",
     "output_type": "stream",
     "text": [
      "['5', '10', '15', '5', '10', '8', '20', '25', '20', '25']\n",
      "['8', '5', '5', '25', '25', '20', '20', '15', '10', '10']\n"
     ]
    },
    {
     "data": {
      "text/plain": [
       "'8'"
      ]
     },
     "execution_count": 10,
     "metadata": {},
     "output_type": "execute_result"
    }
   ],
   "source": [
    "list = []\n",
    "list.insert(1,\"5\")\n",
    "list.insert(2,\"10\")\n",
    "list.insert(3,\"15\")\n",
    "list.insert(4,\"5\")\n",
    "list.insert(5,\"10\")\n",
    "list.insert(6,\"8\")\n",
    "list.insert(7,\"20\")\n",
    "list.insert(8,\"25\")\n",
    "list.insert(9,\"20\")\n",
    "list.insert(10,\"25\")\n",
    "print(list)\n",
    "l2=list.copy()\n",
    "l2.sort(reverse=True)\n",
    "print(l2)\n",
    "max(l2)"
   ]
  },
  {
   "cell_type": "code",
   "execution_count": 11,
   "id": "8321e315",
   "metadata": {},
   "outputs": [
    {
     "name": "stdout",
     "output_type": "stream",
     "text": [
      "['5', '10', '15', '5', '10', '8', '20', '25', '20', '25']\n",
      "['8', '5', '5', '25', '25', '20', '20', '15', '10', '10']\n"
     ]
    },
    {
     "data": {
      "text/plain": [
       "'10'"
      ]
     },
     "execution_count": 11,
     "metadata": {},
     "output_type": "execute_result"
    }
   ],
   "source": [
    "list = []\n",
    "list.insert(1,\"5\")\n",
    "list.insert(2,\"10\")\n",
    "list.insert(3,\"15\")\n",
    "list.insert(4,\"5\")\n",
    "list.insert(5,\"10\")\n",
    "list.insert(6,\"8\")\n",
    "list.insert(7,\"20\")\n",
    "list.insert(8,\"25\")\n",
    "list.insert(9,\"20\")\n",
    "list.insert(10,\"25\")\n",
    "print(list)\n",
    "l2=list.copy()\n",
    "l2.sort(reverse=True)\n",
    "print(l2)\n",
    "max(l2)\n",
    "min(l2)"
   ]
  },
  {
   "cell_type": "code",
   "execution_count": 12,
   "id": "a03057b5",
   "metadata": {},
   "outputs": [
    {
     "name": "stdout",
     "output_type": "stream",
     "text": [
      "['5', '10', '15', '5', '10', '8', '20', '25', '20', '25']\n",
      "['8', '5', '5', '25', '25', '20', '20', '15', '10', '10']\n"
     ]
    },
    {
     "data": {
      "text/plain": [
       "10"
      ]
     },
     "execution_count": 12,
     "metadata": {},
     "output_type": "execute_result"
    }
   ],
   "source": [
    "list = []\n",
    "list.insert(1,\"5\")\n",
    "list.insert(2,\"10\")\n",
    "list.insert(3,\"15\")\n",
    "list.insert(4,\"5\")\n",
    "list.insert(5,\"10\")\n",
    "list.insert(6,\"8\")\n",
    "list.insert(7,\"20\")\n",
    "list.insert(8,\"25\")\n",
    "list.insert(9,\"20\")\n",
    "list.insert(10,\"25\")\n",
    "print(list)\n",
    "l2=list.copy()\n",
    "l2.sort(reverse=True)\n",
    "print(l2)\n",
    "max(l2)\n",
    "min(l2)\n",
    "len(l2)"
   ]
  },
  {
   "cell_type": "code",
   "execution_count": null,
   "id": "56fdf477",
   "metadata": {},
   "outputs": [],
   "source": []
  }
 ],
 "metadata": {
  "kernelspec": {
   "display_name": "Python 3 (ipykernel)",
   "language": "python",
   "name": "python3"
  },
  "language_info": {
   "codemirror_mode": {
    "name": "ipython",
    "version": 3
   },
   "file_extension": ".py",
   "mimetype": "text/x-python",
   "name": "python",
   "nbconvert_exporter": "python",
   "pygments_lexer": "ipython3",
   "version": "3.10.0"
  }
 },
 "nbformat": 4,
 "nbformat_minor": 5
}
