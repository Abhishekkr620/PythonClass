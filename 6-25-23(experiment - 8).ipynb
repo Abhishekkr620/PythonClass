{
 "cells": [
  {
   "cell_type": "code",
   "execution_count": 6,
   "id": "564726f6",
   "metadata": {},
   "outputs": [
    {
     "name": "stdout",
     "output_type": "stream",
     "text": [
      "Enter file name: aaa.py\n",
      "T: 12\n",
      "W: 2\n",
      "I: 4\n",
      "N: 3\n",
      "K: 2\n",
      "L: 5\n",
      "E: 6\n",
      "S: 5\n",
      "A: 5\n",
      "R: 3\n",
      "D: 1\n",
      "O: 4\n",
      "': 1\n",
      "F: 2\n",
      "Y: 1\n",
      "C: 3\n",
      "H: 2\n",
      "B: 1\n",
      "U: 1\n"
     ]
    }
   ],
   "source": [
    "#Q1.\n",
    "#2.1\n",
    "file_name = input(\"Enter file name: \")\n",
    "char_freq = {}\n",
    "with open(file_name, 'r') as file:\n",
    "    for char in file.read():\n",
    "        if char.strip():\n",
    "            char_freq[char] = char_freq.get(char, 0) + 1\n",
    "for char, freq in char_freq.items():\n",
    "    print(f\"{char}: {freq}\")"
   ]
  },
  {
   "cell_type": "code",
   "execution_count": 4,
   "id": "2d903f6b",
   "metadata": {},
   "outputs": [
    {
     "name": "stdout",
     "output_type": "stream",
     "text": [
      "Enter file name: aaa.py\n",
      "BECAUSE ITS TOO FAR\n",
      "DON'T FLY TO CATCH THE STARS\n",
      "LITTLE STAR\n",
      "TWINKLE TWINKLE\n"
     ]
    }
   ],
   "source": [
    "#Q2.\n",
    "filename = input(\"Enter file name: \")\n",
    "for line in reversed(list(open(filename))):\n",
    "    print(line.rstrip())"
   ]
  },
  {
   "cell_type": "code",
   "execution_count": 7,
   "id": "2a163e15",
   "metadata": {},
   "outputs": [
    {
     "name": "stdout",
     "output_type": "stream",
     "text": [
      "Enter file name: aaa.py\n",
      "Number of characters: 77\n",
      "Number of words: 14\n",
      "Number of lines: 4\n"
     ]
    }
   ],
   "source": [
    "#Q3.\n",
    "#2.3\n",
    "file_name =  input(\"Enter file name: \")\n",
    "char_count = 0\n",
    "word_count = 0\n",
    "line_count = 0\n",
    "with open(file_name, 'r') as file:\n",
    "    for line in file:\n",
    "        line_count += 1\n",
    "        words = line.strip().split()\n",
    "        word_count += len(words)\n",
    "        char_count += len(line)\n",
    "print(f\"Number of characters: {char_count}\")\n",
    "print(f\"Number of words: {word_count}\")\n",
    "print(f\"Number of lines: {line_count}\")"
   ]
  },
  {
   "cell_type": "code",
   "execution_count": 8,
   "id": "061fb568",
   "metadata": {},
   "outputs": [
    {
     "name": "stdout",
     "output_type": "stream",
     "text": [
      "Enter file name: aaa.py\n",
      "TWINKLE TWINKLE\n",
      "LITTLE STAR\n",
      "DON'T FLY TO CATCH THE STARS\n",
      "BECAUSE ITS TOO FAR\n",
      "\n"
     ]
    }
   ],
   "source": [
    "#Q4.#2.4\n",
    "file_name =  input(\"Enter file name: \")\n",
    "with open(file_name, 'r') as file:\n",
    "    file_contents = file.read()\n",
    "    print(file_contents)"
   ]
  },
  {
   "cell_type": "code",
   "execution_count": null,
   "id": "3085be51",
   "metadata": {},
   "outputs": [],
   "source": []
  }
 ],
 "metadata": {
  "kernelspec": {
   "display_name": "Python 3 (ipykernel)",
   "language": "python",
   "name": "python3"
  },
  "language_info": {
   "codemirror_mode": {
    "name": "ipython",
    "version": 3
   },
   "file_extension": ".py",
   "mimetype": "text/x-python",
   "name": "python",
   "nbconvert_exporter": "python",
   "pygments_lexer": "ipython3",
   "version": "3.10.0"
  }
 },
 "nbformat": 4,
 "nbformat_minor": 5
}
