{
 "cells": [
  {
   "cell_type": "code",
   "execution_count": 2,
   "id": "6498912c",
   "metadata": {},
   "outputs": [
    {
     "name": "stdout",
     "output_type": "stream",
     "text": [
      "Enter number 1:3+6j\n",
      "Enter number 2:2+1j\n",
      "Addition is (5+7j)\n",
      "Subtraction is (1+5j)\n"
     ]
    }
   ],
   "source": [
    "a = complex(input(\"Enter number 1:\"))\n",
    "b = complex(input(\"Enter number 2:\"))\n",
    "sum = a+b\n",
    "sub = a-b\n",
    "print(\"Addition is\",sum)\n",
    "print(\"Subtraction is\",sub)"
   ]
  },
  {
   "cell_type": "code",
   "execution_count": null,
   "id": "0e745497",
   "metadata": {},
   "outputs": [],
   "source": []
  },
  {
   "cell_type": "code",
   "execution_count": null,
   "id": "632fbd78",
   "metadata": {},
   "outputs": [],
   "source": []
  }
 ],
 "metadata": {
  "kernelspec": {
   "display_name": "Python 3 (ipykernel)",
   "language": "python",
   "name": "python3"
  },
  "language_info": {
   "codemirror_mode": {
    "name": "ipython",
    "version": 3
   },
   "file_extension": ".py",
   "mimetype": "text/x-python",
   "name": "python",
   "nbconvert_exporter": "python",
   "pygments_lexer": "ipython3",
   "version": "3.10.0"
  }
 },
 "nbformat": 4,
 "nbformat_minor": 5
}
