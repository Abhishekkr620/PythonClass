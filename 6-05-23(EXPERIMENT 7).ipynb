{
 "cells": [
  {
   "cell_type": "code",
   "execution_count": 5,
   "id": "f6211d71",
   "metadata": {},
   "outputs": [
    {
     "name": "stdout",
     "output_type": "stream",
     "text": [
      "Enter number 1 10\n",
      "Enter number 2 12\n",
      "Sum of 10 + 12 is 22\n"
     ]
    }
   ],
   "source": [
    "#Q1.\n",
    "import operator\n",
    "num1 = int(input(\"Enter number 1 \"))\n",
    "num2 = int(input(\"Enter number 2 \"))\n",
    "sum = operator.add(num1,num2)\n",
    "print(\"Sum of\",num1,\"+\",num2,\"is\",sum)"
   ]
  },
  {
   "cell_type": "code",
   "execution_count": 7,
   "id": "e3a0296b",
   "metadata": {},
   "outputs": [
    {
     "name": "stdout",
     "output_type": "stream",
     "text": [
      "['__doc__', '__loader__', '__name__', '__package__', '__spec__', 'acos', 'acosh', 'asin', 'asinh', 'atan', 'atan2', 'atanh', 'ceil', 'comb', 'copysign', 'cos', 'cosh', 'degrees', 'dist', 'e', 'erf', 'erfc', 'exp', 'expm1', 'fabs', 'factorial', 'floor', 'fmod', 'frexp', 'fsum', 'gamma', 'gcd', 'hypot', 'inf', 'isclose', 'isfinite', 'isinf', 'isnan', 'isqrt', 'lcm', 'ldexp', 'lgamma', 'log', 'log10', 'log1p', 'log2', 'modf', 'nan', 'nextafter', 'perm', 'pi', 'pow', 'prod', 'radians', 'remainder', 'sin', 'sinh', 'sqrt', 'tan', 'tanh', 'tau', 'trunc', 'ulp']\n"
     ]
    }
   ],
   "source": [
    "#Q2.\n",
    "import math\n",
    "print(dir(math))"
   ]
  },
  {
   "cell_type": "code",
   "execution_count": 6,
   "id": "5e810592",
   "metadata": {},
   "outputs": [
    {
     "name": "stdout",
     "output_type": "stream",
     "text": [
      "In\n",
      "Out\n",
      "_\n",
      "__\n",
      "___\n",
      "__builtin__\n",
      "__builtins__\n",
      "__doc__\n",
      "__loader__\n",
      "__name__\n",
      "__package__\n",
      "__spec__\n",
      "_dh\n",
      "_i\n",
      "_i1\n",
      "_i2\n",
      "_i3\n",
      "_i4\n",
      "_i5\n",
      "_i6\n",
      "_ih\n",
      "_ii\n",
      "_iii\n",
      "_oh\n",
      "exit\n",
      "get_ipython\n",
      "math\n",
      "num1\n",
      "num2\n",
      "open\n",
      "operator\n",
      "quit\n",
      "sum\n"
     ]
    }
   ],
   "source": [
    "#Q3.\n",
    "identifiers = dir()\n",
    "for identifier in identifiers:\n",
    "    print(identifier)"
   ]
  },
  {
   "cell_type": "code",
   "execution_count": 8,
   "id": "d2baabcd",
   "metadata": {},
   "outputs": [
    {
     "name": "stdout",
     "output_type": "stream",
     "text": [
      "Enter the month (1-12): 3\n",
      "Enter the year: 2023\n",
      "     March 2023\n",
      "Mo Tu We Th Fr Sa Su\n",
      "       1  2  3  4  5\n",
      " 6  7  8  9 10 11 12\n",
      "13 14 15 16 17 18 19\n",
      "20 21 22 23 24 25 26\n",
      "27 28 29 30 31\n",
      "\n"
     ]
    }
   ],
   "source": [
    "#Q4.\n",
    "import calendar\n",
    "month = int(input(\"Enter the month (1-12): \"))\n",
    "year = int(input(\"Enter the year: \"))\n",
    "print(calendar.month(year, month))"
   ]
  },
  {
   "cell_type": "code",
   "execution_count": 9,
   "id": "a639e132",
   "metadata": {},
   "outputs": [
    {
     "name": "stdout",
     "output_type": "stream",
     "text": [
      "Hello from the global namespace\n",
      "Hello from the local namespace\n"
     ]
    }
   ],
   "source": [
    "#Q5.\n",
    "def print_msg():\n",
    "    print(\"Hello from the global namespace\")\n",
    "def test():\n",
    "    def print_msg():\n",
    "        print(\"Hello from the local namespace\")\n",
    "    print_msg()\n",
    "print_msg()\n",
    "test()"
   ]
  },
  {
   "cell_type": "code",
   "execution_count": null,
   "id": "51ebff29",
   "metadata": {},
   "outputs": [],
   "source": []
  }
 ],
 "metadata": {
  "kernelspec": {
   "display_name": "Python 3 (ipykernel)",
   "language": "python",
   "name": "python3"
  },
  "language_info": {
   "codemirror_mode": {
    "name": "ipython",
    "version": 3
   },
   "file_extension": ".py",
   "mimetype": "text/x-python",
   "name": "python",
   "nbconvert_exporter": "python",
   "pygments_lexer": "ipython3",
   "version": "3.10.0"
  }
 },
 "nbformat": 4,
 "nbformat_minor": 5
}
