{
 "cells": [
  {
   "cell_type": "code",
   "execution_count": 6,
   "id": "f3ea9b9c",
   "metadata": {},
   "outputs": [
    {
     "name": "stdout",
     "output_type": "stream",
     "text": [
      "enter number to print 5\n",
      "5\n",
      "10\n",
      "15\n",
      "20\n",
      "25\n",
      "30\n",
      "35\n",
      "40\n",
      "45\n",
      "50\n"
     ]
    }
   ],
   "source": [
    "n = int(input(\"enter number to print \"))\n",
    "for i in range (1,11):\n",
    "    print(i*n)"
   ]
  },
  {
   "cell_type": "code",
   "execution_count": 9,
   "id": "9daa2ae8",
   "metadata": {},
   "outputs": [
    {
     "name": "stdout",
     "output_type": "stream",
     "text": [
      "Enter name of person lfhi\n",
      "Name is  LFHI\n"
     ]
    }
   ],
   "source": [
    "n = input(\"Enter name of person \")\n",
    "c = n.upper()\n",
    "print(\"Name is \",c)"
   ]
  },
  {
   "cell_type": "code",
   "execution_count": 11,
   "id": "ca866d81",
   "metadata": {},
   "outputs": [
    {
     "name": "stdout",
     "output_type": "stream",
     "text": [
      "Enter base of triangle 5\n",
      "Enter height of triangle 4\n",
      "Area of triangle is  10.0\n"
     ]
    }
   ],
   "source": [
    "b = float(input(\"Enter base of triangle \"))\n",
    "h = float(input(\"Enter height of triangle \"))\n",
    "aot = (1/2)*b*h\n",
    "print(\"Area of triangle is \",aot)"
   ]
  },
  {
   "cell_type": "code",
   "execution_count": null,
   "id": "03c6abc3",
   "metadata": {},
   "outputs": [],
   "source": [
    "for i in range(0)"
   ]
  },
  {
   "cell_type": "code",
   "execution_count": 7,
   "id": "bd8a2dd3",
   "metadata": {},
   "outputs": [
    {
     "name": "stdout",
     "output_type": "stream",
     "text": [
      "enter number to print 5\n",
      "table is = 5\n",
      "table is = 10\n",
      "table is = 15\n",
      "table is = 20\n",
      "table is = 25\n",
      "table is = 30\n",
      "table is = 35\n",
      "table is = 40\n",
      "table is = 45\n",
      "table is = 50\n"
     ]
    }
   ],
   "source": [
    "n = int(input(\"enter number to print \"))\n",
    "for i in range (1,11):\n",
    "    print(\"X\",i,\"=\",i*n)"
   ]
  },
  {
   "cell_type": "code",
   "execution_count": null,
   "id": "7a05aaf6",
   "metadata": {},
   "outputs": [],
   "source": []
  },
  {
   "cell_type": "code",
   "execution_count": null,
   "id": "4b7f995b",
   "metadata": {},
   "outputs": [],
   "source": []
  }
 ],
 "metadata": {
  "kernelspec": {
   "display_name": "Python 3 (ipykernel)",
   "language": "python",
   "name": "python3"
  },
  "language_info": {
   "codemirror_mode": {
    "name": "ipython",
    "version": 3
   },
   "file_extension": ".py",
   "mimetype": "text/x-python",
   "name": "python",
   "nbconvert_exporter": "python",
   "pygments_lexer": "ipython3",
   "version": "3.10.0"
  }
 },
 "nbformat": 4,
 "nbformat_minor": 5
}
