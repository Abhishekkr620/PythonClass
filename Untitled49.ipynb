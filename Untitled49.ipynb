{
 "cells": [
  {
   "cell_type": "code",
   "execution_count": 1,
   "id": "32945c3f",
   "metadata": {},
   "outputs": [],
   "source": [
    "a = lambda x,y:x+y"
   ]
  },
  {
   "cell_type": "code",
   "execution_count": 3,
   "id": "335c8c46",
   "metadata": {},
   "outputs": [
    {
     "data": {
      "text/plain": [
       "90"
      ]
     },
     "execution_count": 3,
     "metadata": {},
     "output_type": "execute_result"
    }
   ],
   "source": [
    "a(88,2)"
   ]
  },
  {
   "cell_type": "code",
   "execution_count": 5,
   "id": "cbd99af3",
   "metadata": {},
   "outputs": [],
   "source": [
    "mul = lambda a,b:a*b"
   ]
  },
  {
   "cell_type": "code",
   "execution_count": 6,
   "id": "d47c94d3",
   "metadata": {},
   "outputs": [
    {
     "data": {
      "text/plain": [
       "25"
      ]
     },
     "execution_count": 6,
     "metadata": {},
     "output_type": "execute_result"
    }
   ],
   "source": [
    "mul(5,5)"
   ]
  },
  {
   "cell_type": "code",
   "execution_count": 8,
   "id": "9caac610",
   "metadata": {},
   "outputs": [
    {
     "data": {
      "text/plain": [
       "29.875"
      ]
     },
     "execution_count": 8,
     "metadata": {},
     "output_type": "execute_result"
    }
   ],
   "source": [
    "ad = lambda a,b,c,d,e,f:a+(b*c)+d+(e/f)\n",
    "ad(3,4,5,6,7,8)"
   ]
  },
  {
   "cell_type": "code",
   "execution_count": 9,
   "id": "e1896ce2",
   "metadata": {},
   "outputs": [],
   "source": [
    "odd_even = lambda a:print(\"Even\") if(a%2==0)else print(\"odd\")"
   ]
  },
  {
   "cell_type": "code",
   "execution_count": 10,
   "id": "c6f3123b",
   "metadata": {},
   "outputs": [
    {
     "name": "stdout",
     "output_type": "stream",
     "text": [
      "odd\n"
     ]
    }
   ],
   "source": [
    "odd_even(45)"
   ]
  },
  {
   "cell_type": "code",
   "execution_count": 11,
   "id": "0b128989",
   "metadata": {},
   "outputs": [],
   "source": [
    "maximum = lambda a,b:print(a) if a>b else print(b)"
   ]
  },
  {
   "cell_type": "code",
   "execution_count": 12,
   "id": "b34080a6",
   "metadata": {},
   "outputs": [
    {
     "name": "stdout",
     "output_type": "stream",
     "text": [
      "76\n"
     ]
    }
   ],
   "source": [
    "maximum(67,76)"
   ]
  },
  {
   "cell_type": "code",
   "execution_count": 15,
   "id": "94473a05",
   "metadata": {},
   "outputs": [
    {
     "ename": "SyntaxError",
     "evalue": "invalid syntax (994344385.py, line 1)",
     "output_type": "error",
     "traceback": [
      "\u001b[1;36m  Cell \u001b[1;32mIn[15], line 1\u001b[1;36m\u001b[0m\n\u001b[1;33m    def (a,b,c):\u001b[0m\n\u001b[1;37m        ^\u001b[0m\n\u001b[1;31mSyntaxError\u001b[0m\u001b[1;31m:\u001b[0m invalid syntax\n"
     ]
    }
   ],
   "source": [
    "def (a,b,c):\n",
    "    pass"
   ]
  },
  {
   "cell_type": "code",
   "execution_count": 26,
   "id": "d7ef6fff",
   "metadata": {},
   "outputs": [],
   "source": [
    "def reverse(s):\n",
    "    a = \"\"\n",
    "    for i in s:\n",
    "       a = i+a\n",
    "    return(a)"
   ]
  },
  {
   "cell_type": "code",
   "execution_count": 27,
   "id": "3c6a6eb7",
   "metadata": {},
   "outputs": [
    {
     "data": {
      "text/plain": [
       "'vahgaR'"
      ]
     },
     "execution_count": 27,
     "metadata": {},
     "output_type": "execute_result"
    }
   ],
   "source": [
    "reverse('Raghav')"
   ]
  },
  {
   "cell_type": "code",
   "execution_count": 34,
   "id": "96371170",
   "metadata": {},
   "outputs": [
    {
     "name": "stdout",
     "output_type": "stream",
     "text": [
      "Please enter the Number till which you want the fibonacci10\n",
      "Fibonacci Sequence\n",
      "0 1 1 2 3 5 8 13 21 34 "
     ]
    }
   ],
   "source": [
    "def fib(n):\n",
    "    a = 0\n",
    "    b = 1\n",
    "    c = 0\n",
    "    if (n<=0):\n",
    "        print(\"Please enter a POSITIVE Number\")\n",
    "    elif (n==1):\n",
    "        print(\"Fibonacci Sequence\",n,\":\")\n",
    "        print(a)\n",
    "    else:\n",
    "        print(\"Fibonacci Sequence\")\n",
    "        \n",
    "        while(c<n):\n",
    "            print(a,end = \" \")\n",
    "            sum = a+b\n",
    "            a = b\n",
    "            b = sum\n",
    "            c = c+1\n",
    "n  = int(input(\"Please enter the Number till which you want the fibonacci\"))\n",
    "fib(n)"
   ]
  },
  {
   "cell_type": "code",
   "execution_count": null,
   "id": "dbf1ac9e",
   "metadata": {},
   "outputs": [],
   "source": [
    "def ispalindrome(s):\n",
    "    return s == s[::-1]\n",
    "s = input(\"Enter a string: \")\n",
    "ans=ispalindrome(s)\n",
    "if ans:\n",
    "    print(\"palindrome\")\n",
    "else:\n",
    "    print(\"not palindrome\")"
   ]
  },
  {
   "cell_type": "code",
   "execution_count": 1,
   "id": "5a6cf6d9",
   "metadata": {},
   "outputs": [],
   "source": [
    "def palindrome(n):\n",
    "    a = n\n",
    "    b = n[::-1]\n",
    "    if a == b:\n",
    "        print(\"The inputted string is a palindrome\")\n",
    "    else:\n",
    "        print(\"The inputted string is not a palindrome\")\n",
    "    "
   ]
  },
  {
   "cell_type": "code",
   "execution_count": 2,
   "id": "0bf87e08",
   "metadata": {},
   "outputs": [
    {
     "name": "stdout",
     "output_type": "stream",
     "text": [
      "The inputted string is a palindrome\n"
     ]
    }
   ],
   "source": [
    "palindrome(\"NamaN\")"
   ]
  },
  {
   "cell_type": "code",
   "execution_count": null,
   "id": "55b0314c",
   "metadata": {},
   "outputs": [],
   "source": []
  },
  {
   "cell_type": "code",
   "execution_count": null,
   "id": "ebe694a5",
   "metadata": {},
   "outputs": [],
   "source": []
  },
  {
   "cell_type": "code",
   "execution_count": null,
   "id": "8bcc1a4c",
   "metadata": {},
   "outputs": [],
   "source": []
  },
  {
   "cell_type": "code",
   "execution_count": null,
   "id": "1095ff8f",
   "metadata": {},
   "outputs": [],
   "source": []
  },
  {
   "cell_type": "code",
   "execution_count": null,
   "id": "78d67d2e",
   "metadata": {},
   "outputs": [],
   "source": [
    "\n",
    "\n",
    "\n",
    "\n",
    "\n"
   ]
  }
 ],
 "metadata": {
  "kernelspec": {
   "display_name": "Python 3 (ipykernel)",
   "language": "python",
   "name": "python3"
  },
  "language_info": {
   "codemirror_mode": {
    "name": "ipython",
    "version": 3
   },
   "file_extension": ".py",
   "mimetype": "text/x-python",
   "name": "python",
   "nbconvert_exporter": "python",
   "pygments_lexer": "ipython3",
   "version": "3.10.0"
  }
 },
 "nbformat": 4,
 "nbformat_minor": 5
}
