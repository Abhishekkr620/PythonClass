{
 "cells": [
  {
   "cell_type": "code",
   "execution_count": 2,
   "id": "66164d1d",
   "metadata": {},
   "outputs": [
    {
     "name": "stdout",
     "output_type": "stream",
     "text": [
      "Enter the number 0\n",
      "The Number Inputted  0  is Even \n"
     ]
    }
   ],
   "source": [
    "#Example 2\n",
    "#To check if a number is even or odd\n",
    "#with IF and Else bith\n",
    "a = int(input(\"Enter the number\"))\n",
    "if (a % 2 == 0):\n",
    "    print(\"The Number Inputted \",a,\" is Even \")\n",
    "elif (a==0):\n",
    "    print(\"Dont know \")\n",
    "else:\n",
    "    print(\"The Number Inputted \",a,\" is Odd \")"
   ]
  },
  {
   "cell_type": "code",
   "execution_count": null,
   "id": "21eabcdc",
   "metadata": {},
   "outputs": [],
   "source": []
  },
  {
   "cell_type": "code",
   "execution_count": null,
   "id": "7a64fa5d",
   "metadata": {},
   "outputs": [],
   "source": []
  }
 ],
 "metadata": {
  "kernelspec": {
   "display_name": "Python 3 (ipykernel)",
   "language": "python",
   "name": "python3"
  },
  "language_info": {
   "codemirror_mode": {
    "name": "ipython",
    "version": 3
   },
   "file_extension": ".py",
   "mimetype": "text/x-python",
   "name": "python",
   "nbconvert_exporter": "python",
   "pygments_lexer": "ipython3",
   "version": "3.10.0"
  }
 },
 "nbformat": 4,
 "nbformat_minor": 5
}
