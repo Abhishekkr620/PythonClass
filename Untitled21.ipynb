{
 "cells": [
  {
   "cell_type": "code",
   "execution_count": 1,
   "id": "7e91ea25",
   "metadata": {},
   "outputs": [
    {
     "name": "stdout",
     "output_type": "stream",
     "text": [
      "GoelRaghav\n"
     ]
    }
   ],
   "source": [
    "fn = \"Raghav\"\n",
    "ln = \"Goel\"\n",
    "print(\"{0}{1}\".format(ln,fn))"
   ]
  },
  {
   "cell_type": "code",
   "execution_count": 2,
   "id": "fe67b5bd",
   "metadata": {},
   "outputs": [
    {
     "name": "stdout",
     "output_type": "stream",
     "text": [
      "What language are you working on ?python\n",
      "We are working on  python\n"
     ]
    }
   ],
   "source": [
    "a = input(\"What language are you working on ?\")\n",
    "print(\"We are working on \",a)"
   ]
  },
  {
   "cell_type": "code",
   "execution_count": 9,
   "id": "f3d626b5",
   "metadata": {},
   "outputs": [
    {
     "name": "stdout",
     "output_type": "stream",
     "text": [
      "please enter your first name Raghav\n",
      "Please enter your last name Goel\n",
      "My name is GoelRaghav\n"
     ]
    }
   ],
   "source": [
    "F_name = input(\"please enter your first name \")\n",
    "L_name = input(\"Please enter your last name \")\n",
    "print(\"My name is {0}{1}\".format(L_name,F_name))"
   ]
  },
  {
   "cell_type": "code",
   "execution_count": 12,
   "id": "714355cb",
   "metadata": {},
   "outputs": [
    {
     "name": "stdout",
     "output_type": "stream",
     "text": [
      "please enter your first name Raghav\n",
      "Please enter your last name Goel\n",
      "Please enter your city Delhi\n",
      "Please enter your Gender (M/F)M\n",
      "Raghav-->Goel-->Delhi-->M\n"
     ]
    }
   ],
   "source": [
    "F_name = input(\"please enter your first name \")\n",
    "L_name = input(\"Please enter your last name \")\n",
    "city = input(\"Please enter your city \")\n",
    "Gender = input(\"Please enter your Gender (M/F)\")\n",
    "print(F_name,L_name,city,Gender,sep = '-->')"
   ]
  },
  {
   "cell_type": "code",
   "execution_count": 13,
   "id": "2101113c",
   "metadata": {},
   "outputs": [
    {
     "name": "stdout",
     "output_type": "stream",
     "text": [
      "<class 'int'>\n"
     ]
    }
   ],
   "source": [
    "Integer = 2\n",
    "print(type(Integer))"
   ]
  },
  {
   "cell_type": "code",
   "execution_count": 14,
   "id": "844e61c8",
   "metadata": {},
   "outputs": [
    {
     "name": "stdout",
     "output_type": "stream",
     "text": [
      "<class 'float'>\n"
     ]
    }
   ],
   "source": [
    "Float = 5.76544\n",
    "print(type(Float))"
   ]
  },
  {
   "cell_type": "code",
   "execution_count": 16,
   "id": "279f44c0",
   "metadata": {},
   "outputs": [
    {
     "name": "stdout",
     "output_type": "stream",
     "text": [
      "2.333\n"
     ]
    }
   ],
   "source": [
    "a = 7\n",
    "b = 3\n",
    "c =round((a/b),3)\n",
    "print(c)"
   ]
  },
  {
   "cell_type": "code",
   "execution_count": 17,
   "id": "db4bb531",
   "metadata": {},
   "outputs": [
    {
     "name": "stdout",
     "output_type": "stream",
     "text": [
      "<class 'complex'>\n",
      "<class 'complex'>\n",
      "<class 'complex'>\n",
      "<class 'complex'>\n"
     ]
    }
   ],
   "source": [
    "a = 1 + 2j\n",
    "b = 4j\n",
    "c = 1 -2j\n",
    "d = -6j\n",
    "print(type(a))\n",
    "print(type(b))\n",
    "print(type(c))\n",
    "print(type(d))"
   ]
  },
  {
   "cell_type": "code",
   "execution_count": 18,
   "id": "65d83864",
   "metadata": {},
   "outputs": [
    {
     "name": "stdout",
     "output_type": "stream",
     "text": [
      "<class 'int'>\n"
     ]
    }
   ],
   "source": [
    "no = 2\n",
    "print(type(no))"
   ]
  },
  {
   "cell_type": "code",
   "execution_count": 19,
   "id": "8648caa8",
   "metadata": {},
   "outputs": [
    {
     "name": "stdout",
     "output_type": "stream",
     "text": [
      "<class 'float'> 2.0\n"
     ]
    }
   ],
   "source": [
    "no = 2\n",
    "nof = float(no)\n",
    "print(type(nof),nof)"
   ]
  },
  {
   "cell_type": "code",
   "execution_count": 21,
   "id": "6917e666",
   "metadata": {},
   "outputs": [
    {
     "name": "stdout",
     "output_type": "stream",
     "text": [
      "<class 'complex'> (2+0j)\n"
     ]
    }
   ],
   "source": [
    "no1 = 2\n",
    "no1 = complex(no1)\n",
    "print(type(no1),no1)"
   ]
  },
  {
   "cell_type": "code",
   "execution_count": 22,
   "id": "7504a80a",
   "metadata": {},
   "outputs": [
    {
     "ename": "TypeError",
     "evalue": "int() argument must be a string, a bytes-like object or a real number, not 'complex'",
     "output_type": "error",
     "traceback": [
      "\u001b[1;31m---------------------------------------------------------------------------\u001b[0m",
      "\u001b[1;31mTypeError\u001b[0m                                 Traceback (most recent call last)",
      "Cell \u001b[1;32mIn[22], line 2\u001b[0m\n\u001b[0;32m      1\u001b[0m cmp \u001b[38;5;241m=\u001b[39m \u001b[38;5;241m1\u001b[39m \u001b[38;5;241m+\u001b[39m \u001b[38;5;241m2\u001b[39mj\n\u001b[1;32m----> 2\u001b[0m cmp \u001b[38;5;241m=\u001b[39m \u001b[38;5;28;43mint\u001b[39;49m\u001b[43m(\u001b[49m\u001b[43mcmp\u001b[49m\u001b[43m)\u001b[49m\n\u001b[0;32m      3\u001b[0m \u001b[38;5;28mprint\u001b[39m(\u001b[38;5;28mtype\u001b[39m(cmp),cmp)\n",
      "\u001b[1;31mTypeError\u001b[0m: int() argument must be a string, a bytes-like object or a real number, not 'complex'"
     ]
    }
   ],
   "source": [
    "cmp = 1 + 2j\n",
    "cmp = int(cmp)\n",
    "print(type(cmp),cmp)"
   ]
  },
  {
   "cell_type": "code",
   "execution_count": 23,
   "id": "2cebd983",
   "metadata": {},
   "outputs": [
    {
     "name": "stdout",
     "output_type": "stream",
     "text": [
      "<class 'float'> 2.4567\n"
     ]
    }
   ],
   "source": [
    "No_float = 2.4567\n",
    "print(type(No_float),No_float)"
   ]
  },
  {
   "cell_type": "code",
   "execution_count": 26,
   "id": "e135d6f5",
   "metadata": {},
   "outputs": [
    {
     "name": "stdout",
     "output_type": "stream",
     "text": [
      "<class 'int'> 2\n"
     ]
    }
   ],
   "source": [
    "No_float = 2.4567\n",
    "No_float = int(No_float)\n",
    "print(type(No_float),No_float)\n",
    "\n"
   ]
  },
  {
   "cell_type": "code",
   "execution_count": 27,
   "id": "e8a0cfbb",
   "metadata": {},
   "outputs": [
    {
     "ename": "ValueError",
     "evalue": "invalid literal for int() with base 10: 'Raghav'",
     "output_type": "error",
     "traceback": [
      "\u001b[1;31m---------------------------------------------------------------------------\u001b[0m",
      "\u001b[1;31mValueError\u001b[0m                                Traceback (most recent call last)",
      "Cell \u001b[1;32mIn[27], line 2\u001b[0m\n\u001b[0;32m      1\u001b[0m a \u001b[38;5;241m=\u001b[39m \u001b[38;5;124m\"\u001b[39m\u001b[38;5;124mRaghav\u001b[39m\u001b[38;5;124m\"\u001b[39m\n\u001b[1;32m----> 2\u001b[0m a \u001b[38;5;241m=\u001b[39m \u001b[38;5;28;43mint\u001b[39;49m\u001b[43m(\u001b[49m\u001b[43ma\u001b[49m\u001b[43m)\u001b[49m\n",
      "\u001b[1;31mValueError\u001b[0m: invalid literal for int() with base 10: 'Raghav'"
     ]
    }
   ],
   "source": [
    "a = \"Raghav\"\n",
    "a = int(a)"
   ]
  },
  {
   "cell_type": "code",
   "execution_count": 28,
   "id": "05e70469",
   "metadata": {},
   "outputs": [
    {
     "name": "stdout",
     "output_type": "stream",
     "text": [
      "<class 'str'> 10\n"
     ]
    }
   ],
   "source": [
    "a = \"10\"\n",
    "print(type(a),a)\n"
   ]
  },
  {
   "cell_type": "code",
   "execution_count": 29,
   "id": "a685a8c6",
   "metadata": {},
   "outputs": [
    {
     "name": "stdout",
     "output_type": "stream",
     "text": [
      "<class 'int'> 10\n"
     ]
    }
   ],
   "source": [
    "a = \"10\"\n",
    "a = int(a)\n",
    "print(type(a),a)"
   ]
  },
  {
   "cell_type": "code",
   "execution_count": 38,
   "id": "49ce9dec",
   "metadata": {},
   "outputs": [
    {
     "name": "stdout",
     "output_type": "stream",
     "text": [
      "<class 'int'> 201059087\n"
     ]
    }
   ],
   "source": [
    "m = 201059087\n",
    "print(type(m),m)"
   ]
  },
  {
   "cell_type": "code",
   "execution_count": 37,
   "id": "7c6de819",
   "metadata": {},
   "outputs": [
    {
     "name": "stdout",
     "output_type": "stream",
     "text": [
      "<class 'str'> 201059087\n"
     ]
    }
   ],
   "source": [
    "m = 201059087\n",
    "m = str(m)\n",
    "print(type(m),m)"
   ]
  },
  {
   "cell_type": "code",
   "execution_count": 36,
   "id": "ba72b361",
   "metadata": {},
   "outputs": [
    {
     "name": "stdout",
     "output_type": "stream",
     "text": [
      "Age = 20\n",
      "Height = 105\n",
      "Weight = 90\n",
      "Pin_code = 87\n"
     ]
    }
   ],
   "source": [
    "m = 201059087\n",
    "m = str(m)\n",
    "print(\"Age =\",m[0:2])\n",
    "print(\"Height =\",m[2:5])\n",
    "print(\"Weight =\",m[5:7])\n",
    "print(\"Pin_code =\",m[7:])"
   ]
  },
  {
   "cell_type": "code",
   "execution_count": null,
   "id": "c8c88105",
   "metadata": {},
   "outputs": [],
   "source": []
  }
 ],
 "metadata": {
  "kernelspec": {
   "display_name": "Python 3 (ipykernel)",
   "language": "python",
   "name": "python3"
  },
  "language_info": {
   "codemirror_mode": {
    "name": "ipython",
    "version": 3
   },
   "file_extension": ".py",
   "mimetype": "text/x-python",
   "name": "python",
   "nbconvert_exporter": "python",
   "pygments_lexer": "ipython3",
   "version": "3.10.0"
  }
 },
 "nbformat": 4,
 "nbformat_minor": 5
}
