{
 "cells": [
  {
   "cell_type": "code",
   "execution_count": 1,
   "id": "f98cbd52",
   "metadata": {},
   "outputs": [],
   "source": [
    "a1 = \"Raghav Goel\"\n",
    "a2 = \"RAGHAV Goel\"\n",
    "a3 = \"raghav Goel\"\n",
    "a4 = \"RagHaV Goel\"\n",
    "a5 = \"RAGHaV Goel\"\n",
    "a1 = a1.lower()\n",
    "a2 = a2.lower()\n",
    "a3 = a3.lower()\n",
    "a4 = a4.lower()\n",
    "a5 = a5.lower()"
   ]
  },
  {
   "cell_type": "code",
   "execution_count": 3,
   "id": "0fedf653",
   "metadata": {},
   "outputs": [],
   "source": [
    "a1 = \"Raghav Goel\"\n",
    "a1 = a1.lower()"
   ]
  },
  {
   "cell_type": "code",
   "execution_count": null,
   "id": "450a0a72",
   "metadata": {},
   "outputs": [],
   "source": []
  }
 ],
 "metadata": {
  "kernelspec": {
   "display_name": "Python 3 (ipykernel)",
   "language": "python",
   "name": "python3"
  },
  "language_info": {
   "codemirror_mode": {
    "name": "ipython",
    "version": 3
   },
   "file_extension": ".py",
   "mimetype": "text/x-python",
   "name": "python",
   "nbconvert_exporter": "python",
   "pygments_lexer": "ipython3",
   "version": "3.10.0"
  }
 },
 "nbformat": 4,
 "nbformat_minor": 5
}
