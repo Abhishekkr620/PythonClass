{
 "cells": [
  {
   "cell_type": "code",
   "execution_count": 5,
   "id": "09b6ccb5",
   "metadata": {},
   "outputs": [
    {
     "name": "stdout",
     "output_type": "stream",
     "text": [
      "enter the number for multiplication table till 104\n",
      "1  *  4  =  4\n",
      "2  *  4  =  8\n",
      "3  *  4  =  12\n",
      "4  *  4  =  16\n",
      "5  *  4  =  20\n",
      "6  *  4  =  24\n",
      "7  *  4  =  28\n",
      "8  *  4  =  32\n",
      "9  *  4  =  36\n",
      "10  *  4  =  40\n"
     ]
    }
   ],
   "source": [
    "n = int(input(\"enter the number for multiplication table till 10\"))\n",
    "for i in range(1,11):\n",
    " print(i ,\" * \", n ,\" = \", n*i)"
   ]
  },
  {
   "cell_type": "code",
   "execution_count": 9,
   "id": "c7606849",
   "metadata": {},
   "outputs": [
    {
     "name": "stdout",
     "output_type": "stream",
     "text": [
      "enter number10\n",
      "10\n",
      "8\n",
      "6\n",
      "4\n",
      "2\n"
     ]
    }
   ],
   "source": [
    "n = int(input(\"enter number\"))\n",
    "for i in range(10,0,-1):\n",
    "    if (i%2==0):\n",
    "      print(i)"
   ]
  },
  {
   "cell_type": "code",
   "execution_count": 15,
   "id": "3c17a418",
   "metadata": {},
   "outputs": [
    {
     "name": "stdout",
     "output_type": "stream",
     "text": [
      "20\n",
      "18\n",
      "16\n",
      "14\n",
      "12\n",
      "10\n",
      "8\n",
      "6\n",
      "4\n",
      "2\n"
     ]
    }
   ],
   "source": [
    "for i in range(20,0,-1):\n",
    "    if (i%2==0):\n",
    "     print(i)"
   ]
  },
  {
   "cell_type": "code",
   "execution_count": 21,
   "id": "fa066ae9",
   "metadata": {},
   "outputs": [
    {
     "name": "stdout",
     "output_type": "stream",
     "text": [
      "19\n",
      "17\n",
      "15\n",
      "13\n",
      "11\n",
      "9\n",
      "7\n",
      "5\n",
      "3\n",
      "1\n"
     ]
    }
   ],
   "source": [
    "for i in range(20,0,-1):\n",
    "    if (i%2!=0):\n",
    "      print(i)"
   ]
  },
  {
   "cell_type": "code",
   "execution_count": 17,
   "id": "bcb1b453",
   "metadata": {},
   "outputs": [
    {
     "name": "stdout",
     "output_type": "stream",
     "text": [
      "19\n",
      "17\n",
      "15\n",
      "13\n",
      "11\n",
      "9\n",
      "7\n",
      "5\n",
      "3\n",
      "1\n"
     ]
    }
   ],
   "source": [
    "for i in range(19,0,-2):\n",
    "    print(i)"
   ]
  },
  {
   "cell_type": "code",
   "execution_count": 31,
   "id": "a3a712d5",
   "metadata": {},
   "outputs": [
    {
     "name": "stdout",
     "output_type": "stream",
     "text": [
      "19\n",
      "17\n",
      "15\n",
      "13\n",
      "11\n",
      "9\n",
      "7\n",
      "5\n",
      "3\n",
      "1\n"
     ]
    }
   ],
   "source": [
    "for i in range(20,0,-1):\n",
    "    if (i%2!=0):\n",
    "     print(i)"
   ]
  },
  {
   "cell_type": "code",
   "execution_count": 30,
   "id": "9507db4e",
   "metadata": {},
   "outputs": [
    {
     "name": "stdout",
     "output_type": "stream",
     "text": [
      "1\n",
      "2\n",
      "3\n",
      "4\n"
     ]
    }
   ],
   "source": [
    "for i in range(1,11):\n",
    "    if i == 5:\n",
    "        break\n",
    "    print(i)"
   ]
  },
  {
   "cell_type": "code",
   "execution_count": null,
   "id": "80d229c3",
   "metadata": {},
   "outputs": [],
   "source": []
  },
  {
   "cell_type": "code",
   "execution_count": 28,
   "id": "720a4132",
   "metadata": {},
   "outputs": [
    {
     "name": "stdout",
     "output_type": "stream",
     "text": [
      "1\n",
      "2\n",
      "3\n",
      "4\n",
      "5\n",
      "6\n"
     ]
    }
   ],
   "source": [
    "for i in range(1,11):\n",
    "    if i % 7 == 0:\n",
    "        break\n",
    "    print(i)"
   ]
  },
  {
   "cell_type": "code",
   "execution_count": null,
   "id": "2ed0ba13",
   "metadata": {},
   "outputs": [],
   "source": [
    "# BREAK is used to terminate a program or an execution\n",
    "# when an external condition ism met"
   ]
  },
  {
   "cell_type": "code",
   "execution_count": 35,
   "id": "5ea15c38",
   "metadata": {},
   "outputs": [
    {
     "name": "stdout",
     "output_type": "stream",
     "text": [
      "How_Many_Burgers_Do_you_Want: 5\n",
      "Which Burger: mc dob\n",
      "1 mc dob\n",
      "2 mc dob\n",
      "3 mc dob\n",
      "4 mc dob\n",
      "5 mc dob\n"
     ]
    }
   ],
   "source": [
    "How_Many_Burgers_Do_you_Want = int(input(\"How_Many_Burgers_Do_you_Want: \"))\n",
    "Which_Burger_You_Want = input(\"Which Burger: \")\n",
    "i = 1\n",
    "while i <= How_Many_Burgers_Do_you_Want:\n",
    "    print(i,Which_Burger_You_Want)\n",
    "    i = i + 1"
   ]
  },
  {
   "cell_type": "code",
   "execution_count": null,
   "id": "b8a66915",
   "metadata": {},
   "outputs": [],
   "source": [
    "# Now it is possible that we have 10m burgers in stock\n",
    "# and the user askes for more than 10 burgers."
   ]
  },
  {
   "cell_type": "code",
   "execution_count": 39,
   "id": "2d1f0558",
   "metadata": {},
   "outputs": [],
   "source": [
    "# Now we havde a scenarious:\n",
    "#1. We give the user the burgers which we have/ Available burgers.\n",
    "#2.Customer gets pissed off and does not buy any burger"
   ]
  },
  {
   "cell_type": "code",
   "execution_count": 40,
   "id": "8eb4227a",
   "metadata": {},
   "outputs": [
    {
     "name": "stdout",
     "output_type": "stream",
     "text": [
      "How_Many_Burgers_Do_you_Want: 8\n",
      "Which Burger: veg\n",
      "Sorry Sir,we are out of stock\n"
     ]
    }
   ],
   "source": [
    "Burgers_in_Stock = 7\n",
    "How_Many_Burgers_Do_you_Want = int(input(\"How_Many_Burgers_Do_you_Want: \"))\n",
    "Which_Burger_You_Want = input(\"Which Burger: \")\n",
    "i = 1\n",
    "if How_Many_Burgers_Do_you_Want <= Burgers_in_Stock:\n",
    "     while i <= How_Many_Burgers_Do_you_Want:\n",
    "             print(i,Which_Burger_You_Want)\n",
    "             i = i + 1\n",
    "else:\n",
    "    print(\"Sorry Sir,we are out of stock\")"
   ]
  },
  {
   "cell_type": "code",
   "execution_count": null,
   "id": "79c662f6",
   "metadata": {},
   "outputs": [],
   "source": [
    "#1. We give the user the burgers which we have/Available burgers"
   ]
  },
  {
   "cell_type": "code",
   "execution_count": 47,
   "id": "677544fe",
   "metadata": {},
   "outputs": [
    {
     "ename": "IndentationError",
     "evalue": "expected an indented block after 'else' statement on line 9 (3874630527.py, line 10)",
     "output_type": "error",
     "traceback": [
      "\u001b[1;36m  Cell \u001b[1;32mIn[47], line 10\u001b[1;36m\u001b[0m\n\u001b[1;33m    print(\"Burgers_in_Stock\",Burgers_in_Stock)\u001b[0m\n\u001b[1;37m    ^\u001b[0m\n\u001b[1;31mIndentationError\u001b[0m\u001b[1;31m:\u001b[0m expected an indented block after 'else' statement on line 9\n"
     ]
    }
   ],
   "source": [
    "Burgers_in_Stock = 7\n",
    "How_Many_Burgers_Do_you_Want = int(input(\"How_Many_Burgers_Do_you_Want: \"))\n",
    "Which_Burger_You_Want = input(\"Which Burger: \")\n",
    "i = 1\n",
    "if How_Many_Burgers_Do_you_Want > Burgers_in_Stock:\n",
    "    while i <= How_Many_Burgers_Do_you_Want:\n",
    "        print(i,Which_Burger_You_Want)\n",
    "        i = i + 1\n",
    "else:\n",
    "print(\"Burgers_in_Stock\",Burgers_in_Stock)\n",
    "print(\"Burger_You_Want\")"
   ]
  },
  {
   "cell_type": "code",
   "execution_count": 45,
   "id": "f40c3764",
   "metadata": {},
   "outputs": [
    {
     "name": "stdout",
     "output_type": "stream",
     "text": [
      "How_Many_Burgers_Do_you_Want: 9\n",
      "Which Burger: mc\n",
      "Which burger you want\n",
      "Which burger you want\n",
      "Which burger you want\n",
      "Which burger you want\n",
      "Which burger you want\n",
      "Which burger you want\n",
      "Which burger you want\n",
      "sorry sir/madam we only have 7 Burgers\n",
      "Thank you and have a nice day\n"
     ]
    }
   ],
   "source": [
    "Burgers_in_Stock = 7\n",
    "How_Many_Burgers_Do_you_Want = int(input(\"How_Many_Burgers_Do_you_Want: \"))\n",
    "Which_Burger_You_Want = input(\"Which Burger: \")\n",
    "i = 1\n",
    "while i <= How_Many_Burgers_Do_you_Want:\n",
    "    if i> Burgers_in_Stock:\n",
    "        print(\"sorry sir/madam we only have 7 Burgers\")\n",
    "        break\n",
    "    print(\"Which burger you want\")\n",
    "    i = i + 1\n",
    "print(\"Thank you and have a nice day\")"
   ]
  },
  {
   "cell_type": "code",
   "execution_count": null,
   "id": "9674ede3",
   "metadata": {},
   "outputs": [],
   "source": [
    "Burgers_in_Stock = 7\n",
    "How_Many_Burgers_Do_you_Want = int(input(\"How_Many_Burgers_Do_you_Want: \"))\n",
    "Which_Burger_You_Want = input(\"Which Burger: \")\n",
    "i = 1\n",
    "while i <= How_Many_Burgers_Do_you_Want:\n",
    "    if i< Burgers_in_Stock:\n",
    "     print(i,Which burger you want)\n",
    "    i = i + 1\n",
    "    break\n",
    "print(\"Thank you and have a nice day\")"
   ]
  },
  {
   "cell_type": "code",
   "execution_count": null,
   "id": "1741ae2c",
   "metadata": {},
   "outputs": [],
   "source": [
    "Burgers_in_Stock = 7\n",
    "How_Many_Burgers_Do_you_Want = int(input(\"How_Many_Burgers_Do_you_Want: \"))\n",
    "Which_Burger_You_Want = input(\"Which Burger: \")\n",
    "i = 1\n",
    "while i <= How_Many_Burgers_Do_you_Want:\n",
    "    if i> Burgers_in_Stock:\n",
    "        print(\"sorry sir/madam we only have 7 Burgers\")\n",
    "    print(\"Whic burger you want\")\n",
    "    i = i + 1\n",
    "    break\n",
    "print(\"Thank you and have a nice day\")"
   ]
  }
 ],
 "metadata": {
  "kernelspec": {
   "display_name": "Python 3 (ipykernel)",
   "language": "python",
   "name": "python3"
  },
  "language_info": {
   "codemirror_mode": {
    "name": "ipython",
    "version": 3
   },
   "file_extension": ".py",
   "mimetype": "text/x-python",
   "name": "python",
   "nbconvert_exporter": "python",
   "pygments_lexer": "ipython3",
   "version": "3.10.0"
  }
 },
 "nbformat": 4,
 "nbformat_minor": 5
}
