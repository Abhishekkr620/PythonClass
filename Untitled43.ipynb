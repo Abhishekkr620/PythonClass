{
 "cells": [
  {
   "cell_type": "code",
   "execution_count": 1,
   "id": "d7d5be70",
   "metadata": {},
   "outputs": [],
   "source": [
    "# Empty List\n",
    "Emp_lst = []\n",
    "Emp_lst.append(22)"
   ]
  },
  {
   "cell_type": "code",
   "execution_count": 2,
   "id": "1437c5d6",
   "metadata": {},
   "outputs": [
    {
     "data": {
      "text/plain": [
       "[22]"
      ]
     },
     "execution_count": 2,
     "metadata": {},
     "output_type": "execute_result"
    }
   ],
   "source": [
    "Emp_lst"
   ]
  },
  {
   "cell_type": "code",
   "execution_count": 5,
   "id": "23fec86a",
   "metadata": {},
   "outputs": [
    {
     "name": "stdout",
     "output_type": "stream",
     "text": [
      "Enter the number of elements you wish to pass: 5\n",
      "Enter Numbers: 22\n",
      "Enter Numbers: 22\n",
      "Enter Numbers: 22\n",
      "Enter Numbers: 34\n",
      "Enter Numbers: 45\n",
      "[22, '22', '22', '22', '22', '34', '22', '22', '22', '34', '45']\n"
     ]
    }
   ],
   "source": [
    "# Adding elements through a simple loop\n",
    "n = int(input(\"Enter the number of elements you wish to pass: \"))\n",
    "for i in range(0,n):\n",
    "    Emp_lst.append(input(\"Enter Numbers: \"))\n",
    "print(Emp_lst)"
   ]
  },
  {
   "cell_type": "code",
   "execution_count": 6,
   "id": "44dad3f2",
   "metadata": {},
   "outputs": [],
   "source": [
    "# Reverse of a list\n",
    "Emp_lst.reverse()"
   ]
  },
  {
   "cell_type": "code",
   "execution_count": 7,
   "id": "18318cd8",
   "metadata": {},
   "outputs": [
    {
     "data": {
      "text/plain": [
       "['45', '34', '22', '22', '22', '34', '22', '22', '22', '22', 22]"
      ]
     },
     "execution_count": 7,
     "metadata": {},
     "output_type": "execute_result"
    }
   ],
   "source": [
    "Emp_lst"
   ]
  },
  {
   "cell_type": "code",
   "execution_count": 8,
   "id": "8998af31",
   "metadata": {},
   "outputs": [
    {
     "ename": "TypeError",
     "evalue": "'<' not supported between instances of 'int' and 'str'",
     "output_type": "error",
     "traceback": [
      "\u001b[1;31m---------------------------------------------------------------------------\u001b[0m",
      "\u001b[1;31mTypeError\u001b[0m                                 Traceback (most recent call last)",
      "Cell \u001b[1;32mIn[8], line 2\u001b[0m\n\u001b[0;32m      1\u001b[0m \u001b[38;5;66;03m# MIN of Emp_lst\u001b[39;00m\n\u001b[1;32m----> 2\u001b[0m \u001b[38;5;28mprint\u001b[39m(\u001b[38;5;28;43mmin\u001b[39;49m\u001b[43m(\u001b[49m\u001b[43mEmp_lst\u001b[49m\u001b[43m)\u001b[49m)\n",
      "\u001b[1;31mTypeError\u001b[0m: '<' not supported between instances of 'int' and 'str'"
     ]
    }
   ],
   "source": [
    "# MIN of Emp_lst\n",
    "print(min(Emp_lst))"
   ]
  },
  {
   "cell_type": "code",
   "execution_count": 9,
   "id": "638fd77b",
   "metadata": {},
   "outputs": [
    {
     "ename": "TypeError",
     "evalue": "'>' not supported between instances of 'int' and 'str'",
     "output_type": "error",
     "traceback": [
      "\u001b[1;31m---------------------------------------------------------------------------\u001b[0m",
      "\u001b[1;31mTypeError\u001b[0m                                 Traceback (most recent call last)",
      "Cell \u001b[1;32mIn[9], line 1\u001b[0m\n\u001b[1;32m----> 1\u001b[0m \u001b[38;5;28mprint\u001b[39m(\u001b[38;5;28;43mmax\u001b[39;49m\u001b[43m(\u001b[49m\u001b[43mEmp_lst\u001b[49m\u001b[43m)\u001b[49m)\n",
      "\u001b[1;31mTypeError\u001b[0m: '>' not supported between instances of 'int' and 'str'"
     ]
    }
   ],
   "source": [
    "print(max(Emp_lst))"
   ]
  },
  {
   "cell_type": "code",
   "execution_count": 10,
   "id": "469cfaec",
   "metadata": {},
   "outputs": [
    {
     "name": "stdout",
     "output_type": "stream",
     "text": [
      "['45', '34', '22', '22', '22', '34', '22', '22', '22', '22', 22]\n",
      "['45', '34', '22', 22]\n",
      "['22', '34']\n"
     ]
    }
   ],
   "source": [
    "# Remove the duplicate into a separate list\n",
    "Emp_lst\n",
    "\n",
    "un_lst = []\n",
    "dup_lst = []\n",
    "for i in Emp_lst:\n",
    "    \n",
    "    if i not in un_lst:\n",
    "        un_lst.append(i)\n",
    "        \n",
    "    elif i not in dup_lst:\n",
    "        dup_lst.append(i)\n",
    "print(Emp_lst)\n",
    "print(un_lst)\n",
    "print(dup_lst)"
   ]
  },
  {
   "cell_type": "code",
   "execution_count": 13,
   "id": "8dd86265",
   "metadata": {},
   "outputs": [
    {
     "name": "stdout",
     "output_type": "stream",
     "text": [
      "Enter the number of elements you wish to pass: 5\n",
      "Enter Numbers: 1\n",
      "Enter Numbers: 2\n",
      "Enter Numbers: 3\n",
      "Enter Numbers: 4\n",
      "Enter Numbers: 5\n"
     ]
    }
   ],
   "source": [
    "l = []\n",
    "n = int(input(\"Enter the number of elements you wish to pass: \"))\n",
    "for i in range(0,n):\n",
    "    l.append(input(\"Enter Numbers: \"))"
   ]
  },
  {
   "cell_type": "code",
   "execution_count": 11,
   "id": "2926bcaf",
   "metadata": {},
   "outputs": [
    {
     "name": "stdout",
     "output_type": "stream",
     "text": [
      "Enter the number of elements you wish to pass: 5\n"
     ]
    },
    {
     "ename": "NameError",
     "evalue": "name 'l1' is not defined",
     "output_type": "error",
     "traceback": [
      "\u001b[1;31m---------------------------------------------------------------------------\u001b[0m",
      "\u001b[1;31mNameError\u001b[0m                                 Traceback (most recent call last)",
      "Cell \u001b[1;32mIn[11], line 3\u001b[0m\n\u001b[0;32m      1\u001b[0m n \u001b[38;5;241m=\u001b[39m \u001b[38;5;28mint\u001b[39m(\u001b[38;5;28minput\u001b[39m(\u001b[38;5;124m\"\u001b[39m\u001b[38;5;124mEnter the number of elements you wish to pass: \u001b[39m\u001b[38;5;124m\"\u001b[39m))\n\u001b[0;32m      2\u001b[0m \u001b[38;5;28;01mfor\u001b[39;00m i \u001b[38;5;129;01min\u001b[39;00m \u001b[38;5;28mrange\u001b[39m(\u001b[38;5;241m0\u001b[39m,n):\n\u001b[1;32m----> 3\u001b[0m     \u001b[43ml1\u001b[49m\u001b[38;5;241m.\u001b[39mappend(\u001b[38;5;28minput\u001b[39m(\u001b[38;5;124m\"\u001b[39m\u001b[38;5;124mEnter Numbers: \u001b[39m\u001b[38;5;124m\"\u001b[39m))\n",
      "\u001b[1;31mNameError\u001b[0m: name 'l1' is not defined"
     ]
    }
   ],
   "source": [
    "l1\n",
    "n = int(input(\"Enter the number of elements you wish to pass: \"))\n",
    "for i in range(0,n):\n",
    "    l1.append(input(\"Enter Numbers: \"))"
   ]
  },
  {
   "cell_type": "code",
   "execution_count": 12,
   "id": "b29644a9",
   "metadata": {},
   "outputs": [
    {
     "ename": "IndentationError",
     "evalue": "expected an indented block after 'if' statement on line 4 (2839272487.py, line 4)",
     "output_type": "error",
     "traceback": [
      "\u001b[1;36m  Cell \u001b[1;32mIn[12], line 4\u001b[1;36m\u001b[0m\n\u001b[1;33m    if i == j:\u001b[0m\n\u001b[1;37m              ^\u001b[0m\n\u001b[1;31mIndentationError\u001b[0m\u001b[1;31m:\u001b[0m expected an indented block after 'if' statement on line 4\n"
     ]
    }
   ],
   "source": [
    "n1 = []\n",
    "for i in l:\n",
    "    for j in l1:\n",
    "        if i == j:\n",
    "            nl.append(i)\n",
    "print(\"The first list is:\")"
   ]
  },
  {
   "cell_type": "code",
   "execution_count": null,
   "id": "b674aaf4",
   "metadata": {},
   "outputs": [],
   "source": [
    "l = []\n",
    "n = int(input(\"Enter the number of elements you wish to pass: \"))\n",
    "for i in range(0,n):\n",
    "    l.append(input(\"Enter Numbers: \"))"
   ]
  },
  {
   "cell_type": "code",
   "execution_count": null,
   "id": "3a90c433",
   "metadata": {},
   "outputs": [],
   "source": [
    "3,4,5,,1"
   ]
  }
 ],
 "metadata": {
  "kernelspec": {
   "display_name": "Python 3 (ipykernel)",
   "language": "python",
   "name": "python3"
  },
  "language_info": {
   "codemirror_mode": {
    "name": "ipython",
    "version": 3
   },
   "file_extension": ".py",
   "mimetype": "text/x-python",
   "name": "python",
   "nbconvert_exporter": "python",
   "pygments_lexer": "ipython3",
   "version": "3.10.0"
  }
 },
 "nbformat": 4,
 "nbformat_minor": 5
}
