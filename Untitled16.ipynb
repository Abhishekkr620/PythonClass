{
 "cells": [
  {
   "cell_type": "code",
   "execution_count": null,
   "id": "9e3b7d3f",
   "metadata": {},
   "outputs": [],
   "source": [
    "#q1\n",
    "celcius = (input(\"enter temperature in celius:\"))\n",
    "fahrenheit = (celcius*1.8)+32\n",
    "print(\"temperature in fahrenheit:\",)"
   ]
  }
 ],
 "metadata": {
  "kernelspec": {
   "display_name": "Python 3 (ipykernel)",
   "language": "python",
   "name": "python3"
  },
  "language_info": {
   "codemirror_mode": {
    "name": "ipython",
    "version": 3
   },
   "file_extension": ".py",
   "mimetype": "text/x-python",
   "name": "python",
   "nbconvert_exporter": "python",
   "pygments_lexer": "ipython3",
   "version": "3.10.0"
  }
 },
 "nbformat": 4,
 "nbformat_minor": 5
}
