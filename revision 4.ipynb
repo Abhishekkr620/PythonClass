{
 "cells": [
  {
   "cell_type": "code",
   "execution_count": 1,
   "id": "ddcb0787",
   "metadata": {},
   "outputs": [
    {
     "name": "stdout",
     "output_type": "stream",
     "text": [
      "enter number2\n",
      "enter number4\n",
      "enter choice+\n",
      "6\n"
     ]
    }
   ],
   "source": [
    "a = int(input(\"enter number\"))\n",
    "b = int(input(\"enter number\"))\n",
    "c = input(\"enter choice\")\n",
    "if (c=='+'):\n",
    "    print(a+b)\n",
    "elif (c=='-'):\n",
    "    print(a-b)"
   ]
  },
  {
   "cell_type": "code",
   "execution_count": null,
   "id": "bd16d105",
   "metadata": {},
   "outputs": [],
   "source": [
    "a = int(input(\"enter amount\"))\n",
    "if (a%100!=0):\n",
    "    print(\"enter correct number\")\n",
    "else:\n",
    "    note_2000 = a//2000\n",
    "    a = a%2000\n",
    "    note_500 = a//500\n",
    "    a = a%500\n",
    "    note_200 = a//200\n",
    "    a = a%200 \n",
    "    note_100 = a//100\n",
    "    "
   ]
  },
  {
   "cell_type": "code",
   "execution_count": null,
   "id": "51c31877",
   "metadata": {},
   "outputs": [],
   "source": []
  },
  {
   "cell_type": "code",
   "execution_count": 4,
   "id": "7c15d9ca",
   "metadata": {},
   "outputs": [
    {
     "name": "stdout",
     "output_type": "stream",
     "text": [
      "-1.5\n"
     ]
    }
   ],
   "source": [
    "list = [25, 47, -23, 0, -50, 24 ,8, 19, 10]\n",
    "a = max(list)\n",
    "b = min(list)\n",
    "avg =(a+b)/2\n",
    "print(avg)"
   ]
  },
  {
   "cell_type": "code",
   "execution_count": 9,
   "id": "c58bb814",
   "metadata": {},
   "outputs": [
    {
     "name": "stdout",
     "output_type": "stream",
     "text": [
      "None\n"
     ]
    }
   ],
   "source": [
    "list = [25, 47, -23, 0, -50, 24 ,8, 19, 10]\n",
    "l1 = list.sort(reverse=True)\n",
    "print(l1)"
   ]
  },
  {
   "cell_type": "code",
   "execution_count": 12,
   "id": "a9ad6dc5",
   "metadata": {},
   "outputs": [
    {
     "name": "stdout",
     "output_type": "stream",
     "text": [
      "[0, -50, 24, 8, 10]\n",
      "[25, 47, -23, 1, 9]\n"
     ]
    }
   ],
   "source": [
    "l1=[25,47,-23,0,-50,24,8,1,9,10]\n",
    "even_list = []\n",
    "Odd_list = []\n",
    "for i in l1:\n",
    "    if i%2==0:\n",
    "        even_list.append(i)\n",
    "    else:\n",
    "        Odd_list.append(i)\n",
    "print(even_list)\n",
    "print(Odd_list)"
   ]
  },
  {
   "cell_type": "code",
   "execution_count": 14,
   "id": "469b1190",
   "metadata": {},
   "outputs": [
    {
     "name": "stdout",
     "output_type": "stream",
     "text": [
      "enter chioces+\n",
      "enter number 1 2\n",
      "enter number 2 3\n",
      "5\n"
     ]
    }
   ],
   "source": [
    "def add(a,b):\n",
    "    return(a+b)\n",
    "def sub(a,b):\n",
    "    return(a-b)\n",
    "def mul(a,b):\n",
    "    return(a*b)\n",
    "def div(a,b):\n",
    "    return(a/b)\n",
    "c = input(\"enter chioces\")\n",
    "n1 = int(input(\"enter number 1 \"))\n",
    "n2 = int(input(\"enter number 2 \"))\n",
    "\n",
    "\n",
    "if (c=='+'):\n",
    "    print(add(n1,n2))\n",
    "elif (c=='-'):\n",
    "    print(sub(n1,n2))"
   ]
  },
  {
   "cell_type": "code",
   "execution_count": null,
   "id": "f698a898",
   "metadata": {},
   "outputs": [],
   "source": [
    "tuple = ('January','February','March','April','May','June','July','August','September','October','November','December')\n",
    "list_t=list(tuple)"
   ]
  }
 ],
 "metadata": {
  "kernelspec": {
   "display_name": "Python 3 (ipykernel)",
   "language": "python",
   "name": "python3"
  },
  "language_info": {
   "codemirror_mode": {
    "name": "ipython",
    "version": 3
   },
   "file_extension": ".py",
   "mimetype": "text/x-python",
   "name": "python",
   "nbconvert_exporter": "python",
   "pygments_lexer": "ipython3",
   "version": "3.10.0"
  }
 },
 "nbformat": 4,
 "nbformat_minor": 5
}
