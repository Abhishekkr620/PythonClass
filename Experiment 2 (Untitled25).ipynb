{
 "cells": [
  {
   "cell_type": "code",
   "execution_count": 2,
   "id": "8a2d5932",
   "metadata": {},
   "outputs": [
    {
     "name": "stdout",
     "output_type": "stream",
     "text": [
      "Enter number 1:2+3j\n",
      "Enter number 2:4+1j\n",
      "Addition is (6+4j)\n",
      "Subtraction is (-2+2j)\n"
     ]
    }
   ],
   "source": [
    "a = complex(input(\"Enter number 1:\"))\n",
    "b = complex(input(\"Enter number 2:\"))\n",
    "sum = a+b\n",
    "sub = a-b\n",
    "print(\"Addition is\",sum)\n",
    "print(\"Subtraction is\",sub)"
   ]
  },
  {
   "cell_type": "code",
   "execution_count": 2,
   "id": "aeeeac82",
   "metadata": {},
   "outputs": [
    {
     "name": "stdout",
     "output_type": "stream",
     "text": [
      "Enter 6 digit number123456\n",
      "Sum 1 is  50069\n",
      "Sum2 is  209\n",
      "subtraction is 49860\n"
     ]
    }
   ],
   "source": [
    "n = input(\"Enter 6 digit number\")\n",
    "n = str(n)\n",
    "a = int(n[0])\n",
    "b = int(n[1])\n",
    "c = int(n[2])\n",
    "d = int(n[3])\n",
    "e = int(n[4])\n",
    "f = int(n[5])\n",
    "sum1 = a**1+b**2+c**3+d**4+e**5+f**6\n",
    "print(\"Sum 1 is \",sum1)\n",
    "sum2 = f**1+e**2+d**3+c**4+b**5+a**6\n",
    "print(\"Sum2 is \",sum2)\n",
    "print(\"subtraction is\",sum1-sum2)"
   ]
  },
  {
   "cell_type": "code",
   "execution_count": null,
   "id": "ffe1720d",
   "metadata": {},
   "outputs": [],
   "source": [
    "c1_acnum = input(\"Enter account number \")\n",
    "c1_fname = input(\"Enter first name \")\n",
    "c1_mname = input(\"Enter middle name \")\n",
    "c1_lname = input(\"Enter last name \")\n",
    "c1_acbal = input(\"Enter Account balance \")\n",
    "print (\"****\\t****\\t BANK BALANCE \\t ****\\t****\")\n",
    "print(\"Customer_Account :\",c1_acnum)\n",
    "print(\"Customer_Fname :\",c1_fname)\n",
    "print(\"Customer_Mname :\",c1_mname)\n",
    "print(\"Customer_Lname :\",c1_lname)\n",
    "print(\"Account_Balance :\",c1_acbal)"
   ]
  },
  {
   "cell_type": "code",
   "execution_count": 5,
   "id": "d9d98188",
   "metadata": {},
   "outputs": [
    {
     "name": "stdout",
     "output_type": "stream",
     "text": [
      "Enter your name Abhishek\n",
      "kehsihbA\n",
      "ishek\n"
     ]
    }
   ],
   "source": [
    "str = input(\"Enter your name \")\n",
    "rev = (str)[::-1]\n",
    "l5rev = (str)[-5:]\n",
    "print(rev)\n",
    "print(l5rev)"
   ]
  },
  {
   "cell_type": "code",
   "execution_count": 8,
   "id": "a19d51c8",
   "metadata": {},
   "outputs": [
    {
     "name": "stdout",
     "output_type": "stream",
     "text": [
      "result = HWeolrllod\n"
     ]
    }
   ],
   "source": [
    "str1 = \"Hello\"\n",
    "str2 = \"World\"\n",
    "print(\"result =\",str1[0]+str2[0]+str1[1]+str2[1]+str1[2]+str2[2]+str1[3]+str2[3]+str1[4]+str2[4])"
   ]
  },
  {
   "cell_type": "code",
   "execution_count": null,
   "id": "35f42271",
   "metadata": {},
   "outputs": [],
   "source": []
  }
 ],
 "metadata": {
  "kernelspec": {
   "display_name": "Python 3 (ipykernel)",
   "language": "python",
   "name": "python3"
  },
  "language_info": {
   "codemirror_mode": {
    "name": "ipython",
    "version": 3
   },
   "file_extension": ".py",
   "mimetype": "text/x-python",
   "name": "python",
   "nbconvert_exporter": "python",
   "pygments_lexer": "ipython3",
   "version": "3.10.0"
  }
 },
 "nbformat": 4,
 "nbformat_minor": 5
}
