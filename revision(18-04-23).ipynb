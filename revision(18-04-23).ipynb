{
 "cells": [
  {
   "cell_type": "code",
   "execution_count": 21,
   "id": "45ec1ee3",
   "metadata": {},
   "outputs": [
    {
     "name": "stdout",
     "output_type": "stream",
     "text": [
      "['Capt_America', 'Iron_man']\n"
     ]
    }
   ],
   "source": [
    "avengers = [\"Capt_America\"]\n",
    "avengers.insert(1,\"Iron_man\")\n",
    "print(avengers)"
   ]
  },
  {
   "cell_type": "code",
   "execution_count": 24,
   "id": "a4235107",
   "metadata": {},
   "outputs": [
    {
     "name": "stdout",
     "output_type": "stream",
     "text": [
      "['Capt_America', 'Iron_man']\n",
      "['Capt_America', 'Hulk', 'Iron_man']\n",
      "['Capt_America', 'Hulk', 'Iron_man', 'Black_widow']\n"
     ]
    }
   ],
   "source": [
    "avengers = [\"Capt_America\"]\n",
    "avengers.insert(1,\"Iron_man\")\n",
    "print(avengers)\n",
    "avengers.insert(1,\"Hulk\")\n",
    "print(avengers)\n",
    "avengers.append(\"Black_widow\")\n",
    "print(avengers)"
   ]
  },
  {
   "cell_type": "code",
   "execution_count": 26,
   "id": "56b64bd7",
   "metadata": {},
   "outputs": [
    {
     "name": "stdout",
     "output_type": "stream",
     "text": [
      "['Cyclops', 'Wolverine', 'Professor-X']\n"
     ]
    }
   ],
   "source": [
    "X_men = [\"Cyclops\",\"Wolverine\",\"Professor-X\"]\n",
    "print(X_men)\n",
    "avengers.extend(X_men)"
   ]
  },
  {
   "cell_type": "code",
   "execution_count": 28,
   "id": "3204c7e7",
   "metadata": {},
   "outputs": [
    {
     "name": "stdout",
     "output_type": "stream",
     "text": [
      "['Capt_America', 'Hulk', 'Iron_man', 'Black_widow', 'Cyclops', 'Wolverine', 'Professor-X']\n"
     ]
    }
   ],
   "source": [
    "print(avengers)"
   ]
  },
  {
   "cell_type": "code",
   "execution_count": 29,
   "id": "22d22438",
   "metadata": {},
   "outputs": [
    {
     "name": "stdout",
     "output_type": "stream",
     "text": [
      "['Capt_America', 'Hulk', 'Iron_man', 'Black_widow', 'Spider_Man', 'Wolverine', 'Professor-X']\n"
     ]
    }
   ],
   "source": [
    "avengers[4] = \"Spider_Man\"\n",
    "print(avengers)"
   ]
  },
  {
   "cell_type": "code",
   "execution_count": 38,
   "id": "f1d1dea9",
   "metadata": {},
   "outputs": [
    {
     "name": "stdout",
     "output_type": "stream",
     "text": [
      "['Capt_America', 'Hulk', 'Black_widow', 'Spider_Man', 'Wolverine', 'Professor-X']\n"
     ]
    }
   ],
   "source": [
    "\n",
    "print(avengers)"
   ]
  },
  {
   "cell_type": "code",
   "execution_count": 40,
   "id": "2d17c8ff",
   "metadata": {},
   "outputs": [
    {
     "name": "stdout",
     "output_type": "stream",
     "text": [
      "['ca', 'h', 'bw', 'sm', 'w', 'c', 'w', 'p']\n"
     ]
    }
   ],
   "source": [
    "a = [\"ca\",\"h\",\"bw\",\"sm\",\"w\",\"p\",\"c\",\"w\",\"p\"]\n",
    "a.remove(\"p\")\n",
    "print(a)"
   ]
  },
  {
   "cell_type": "code",
   "execution_count": 41,
   "id": "981fbe09",
   "metadata": {},
   "outputs": [
    {
     "data": {
      "text/plain": [
       "[25, 23, 26]"
      ]
     },
     "execution_count": 41,
     "metadata": {},
     "output_type": "execute_result"
    }
   ],
   "source": [
    "l1 = [23,25,23,26]\n",
    "l1.remove(23)\n",
    "l1"
   ]
  },
  {
   "cell_type": "code",
   "execution_count": 42,
   "id": "b36b7ffe",
   "metadata": {},
   "outputs": [
    {
     "data": {
      "text/plain": [
       "[23, 23, 26]"
      ]
     },
     "execution_count": 42,
     "metadata": {},
     "output_type": "execute_result"
    }
   ],
   "source": [
    "l1 = [23,25,23,26]\n",
    "l1.pop(1)\n",
    "l1"
   ]
  },
  {
   "cell_type": "code",
   "execution_count": 48,
   "id": "bc99a3a4",
   "metadata": {},
   "outputs": [
    {
     "ename": "NameError",
     "evalue": "name 'l1' is not defined",
     "output_type": "error",
     "traceback": [
      "\u001b[1;31m---------------------------------------------------------------------------\u001b[0m",
      "\u001b[1;31mNameError\u001b[0m                                 Traceback (most recent call last)",
      "Cell \u001b[1;32mIn[48], line 3\u001b[0m\n\u001b[0;32m      1\u001b[0m l1 \u001b[38;5;241m=\u001b[39m [\u001b[38;5;241m23\u001b[39m,\u001b[38;5;241m25\u001b[39m,\u001b[38;5;241m23\u001b[39m,\u001b[38;5;241m26\u001b[39m]\n\u001b[0;32m      2\u001b[0m \u001b[38;5;28;01mdel\u001b[39;00m l1\n\u001b[1;32m----> 3\u001b[0m \u001b[43ml1\u001b[49m\n",
      "\u001b[1;31mNameError\u001b[0m: name 'l1' is not defined"
     ]
    }
   ],
   "source": [
    "l1 = [23,25,23,26]\n",
    "del l1\n",
    "l1"
   ]
  },
  {
   "cell_type": "code",
   "execution_count": 45,
   "id": "07848d5e",
   "metadata": {},
   "outputs": [
    {
     "name": "stdout",
     "output_type": "stream",
     "text": [
      "[]\n"
     ]
    }
   ],
   "source": [
    "l1.clear()\n",
    "print(l1)"
   ]
  },
  {
   "cell_type": "code",
   "execution_count": 49,
   "id": "df01d08c",
   "metadata": {},
   "outputs": [
    {
     "name": "stdout",
     "output_type": "stream",
     "text": [
      "['Capt_America', 'Hulk', 'Black_widow', 'Spider_Man', 'Wolverine', 'Professor-X']\n"
     ]
    }
   ],
   "source": [
    "c = avengers.copy()\n",
    "print(c)"
   ]
  },
  {
   "cell_type": "code",
   "execution_count": 50,
   "id": "9015f962",
   "metadata": {},
   "outputs": [
    {
     "data": {
      "text/plain": [
       "['Capt_America',\n",
       " 'Hulk',\n",
       " 'Black_widow',\n",
       " 'Spider_Man',\n",
       " 'Wolverine',\n",
       " 'Professor-X']"
      ]
     },
     "execution_count": 50,
     "metadata": {},
     "output_type": "execute_result"
    }
   ],
   "source": [
    "e = list(c)\n",
    "e"
   ]
  },
  {
   "cell_type": "code",
   "execution_count": 51,
   "id": "bfeadf01",
   "metadata": {},
   "outputs": [],
   "source": [
    "set4 = {23,34,45,33}"
   ]
  },
  {
   "cell_type": "code",
   "execution_count": 52,
   "id": "a969f884",
   "metadata": {},
   "outputs": [
    {
     "name": "stdout",
     "output_type": "stream",
     "text": [
      "{1, 2, 3}\n",
      "{5, 6, 7}\n",
      "{1, 2, 3, 5, 6, 7}\n"
     ]
    }
   ],
   "source": [
    "s1 = {1,2,3}\n",
    "s2 = {5,6,7}\n",
    "print(s1)\n",
    "print(s2)\n",
    "s1.update(s2)\n",
    "print(s1)"
   ]
  },
  {
   "cell_type": "code",
   "execution_count": 56,
   "id": "a3a5770e",
   "metadata": {},
   "outputs": [
    {
     "data": {
      "text/plain": [
       "{2, 3, 5, 6}"
      ]
     },
     "execution_count": 56,
     "metadata": {},
     "output_type": "execute_result"
    }
   ],
   "source": [
    "\n",
    "s1.pop()\n",
    "s1"
   ]
  },
  {
   "cell_type": "code",
   "execution_count": 58,
   "id": "3578905c",
   "metadata": {},
   "outputs": [
    {
     "name": "stdout",
     "output_type": "stream",
     "text": [
      "set()\n"
     ]
    }
   ],
   "source": [
    "s1.clear()\n",
    "print(s1)"
   ]
  },
  {
   "cell_type": "code",
   "execution_count": 61,
   "id": "da3db9e3",
   "metadata": {},
   "outputs": [
    {
     "ename": "NameError",
     "evalue": "name 's10' is not defined",
     "output_type": "error",
     "traceback": [
      "\u001b[1;31m---------------------------------------------------------------------------\u001b[0m",
      "\u001b[1;31mNameError\u001b[0m                                 Traceback (most recent call last)",
      "Cell \u001b[1;32mIn[61], line 3\u001b[0m\n\u001b[0;32m      1\u001b[0m s10 \u001b[38;5;241m=\u001b[39m {\u001b[38;5;241m1\u001b[39m,\u001b[38;5;241m2\u001b[39m,\u001b[38;5;241m3\u001b[39m}\n\u001b[0;32m      2\u001b[0m \u001b[38;5;28;01mdel\u001b[39;00m (s10)\n\u001b[1;32m----> 3\u001b[0m \u001b[43ms10\u001b[49m\n",
      "\u001b[1;31mNameError\u001b[0m: name 's10' is not defined"
     ]
    }
   ],
   "source": [
    "s10 = {1,2,3}\n",
    "del (s10)\n",
    "s10"
   ]
  },
  {
   "cell_type": "code",
   "execution_count": 62,
   "id": "6e016fd5",
   "metadata": {},
   "outputs": [
    {
     "name": "stdout",
     "output_type": "stream",
     "text": [
      "{1, 2, 3, 4, 5, 6}\n"
     ]
    }
   ],
   "source": [
    "s1 = {1,2,3}\n",
    "s2 = {4,5,6,2,4}\n",
    "s3 = s1.union(s2)\n",
    "print(s3)"
   ]
  },
  {
   "cell_type": "code",
   "execution_count": 63,
   "id": "c77c1535",
   "metadata": {},
   "outputs": [
    {
     "name": "stdout",
     "output_type": "stream",
     "text": [
      "{2, 3, 4}\n"
     ]
    }
   ],
   "source": [
    "s1 = {1,2,3,4}\n",
    "s2 = {4,5,6,2,4,3}\n",
    "s4 = s1.intersection(s2)\n",
    "print(s4)"
   ]
  },
  {
   "cell_type": "code",
   "execution_count": 67,
   "id": "811df884",
   "metadata": {},
   "outputs": [
    {
     "name": "stdout",
     "output_type": "stream",
     "text": [
      "{1, 5, 6}\n"
     ]
    }
   ],
   "source": [
    "s1 = {1,2,3,4}\n",
    "s2 = {4,5,6,2,4,3}\n",
    "s5 = s1.symmetric_difference(s2)\n",
    "print(s5)"
   ]
  },
  {
   "cell_type": "code",
   "execution_count": 68,
   "id": "09acfcb1",
   "metadata": {},
   "outputs": [
    {
     "name": "stdout",
     "output_type": "stream",
     "text": [
      "{1, 2, 3, 4, 5, 6, (7, 8, 9)}\n"
     ]
    }
   ],
   "source": [
    "s1 = {1,2,3,4,5,6}\n",
    "t1 = (7,8,9)\n",
    "s1.add(t1)\n",
    "print(s1)"
   ]
  },
  {
   "cell_type": "code",
   "execution_count": 1,
   "id": "286631b7",
   "metadata": {},
   "outputs": [
    {
     "name": "stdout",
     "output_type": "stream",
     "text": [
      "['Captain', 'wolverine', 'spider man']\n"
     ]
    }
   ],
   "source": [
    "avengers = [\"Captain\",\"wolverine\",\"spider man\"]\n",
    "print(avengers)"
   ]
  },
  {
   "cell_type": "code",
   "execution_count": 3,
   "id": "dfa041dc",
   "metadata": {},
   "outputs": [
    {
     "data": {
      "text/plain": [
       "['Captain', 'wolverine', 'spider man']"
      ]
     },
     "execution_count": 3,
     "metadata": {},
     "output_type": "execute_result"
    }
   ],
   "source": [
    "c = list(avengers)"
   ]
  },
  {
   "cell_type": "code",
   "execution_count": 4,
   "id": "d608de80",
   "metadata": {},
   "outputs": [
    {
     "data": {
      "text/plain": [
       "['Captain', 'wolverine', 'spider man']"
      ]
     },
     "execution_count": 4,
     "metadata": {},
     "output_type": "execute_result"
    }
   ],
   "source": [
    "c"
   ]
  },
  {
   "cell_type": "code",
   "execution_count": null,
   "id": "d7e3af36",
   "metadata": {},
   "outputs": [],
   "source": []
  }
 ],
 "metadata": {
  "kernelspec": {
   "display_name": "Python 3 (ipykernel)",
   "language": "python",
   "name": "python3"
  },
  "language_info": {
   "codemirror_mode": {
    "name": "ipython",
    "version": 3
   },
   "file_extension": ".py",
   "mimetype": "text/x-python",
   "name": "python",
   "nbconvert_exporter": "python",
   "pygments_lexer": "ipython3",
   "version": "3.10.0"
  }
 },
 "nbformat": 4,
 "nbformat_minor": 5
}
