{
 "cells": [
  {
   "cell_type": "code",
   "execution_count": 1,
   "id": "3f04f829",
   "metadata": {},
   "outputs": [
    {
     "name": "stdout",
     "output_type": "stream",
     "text": [
      "Enter F_nameAK\n",
      "Enter L_nameKA\n",
      "Enter CityRR\n",
      "Enter age52\n",
      "AK\n",
      "KA\n",
      "RR\n",
      "52\n"
     ]
    }
   ],
   "source": [
    "a = input(\"Enter F_name\")\n",
    "b = input(\"Enter L_name\")\n",
    "c = input(\"Enter City\")\n",
    "d = input(\"Enter age\")\n",
    "print(a)\n",
    "print(b)\n",
    "print(c)\n",
    "print(d)"
   ]
  },
  {
   "cell_type": "code",
   "execution_count": 3,
   "id": "a37605a5",
   "metadata": {},
   "outputs": [
    {
     "name": "stdout",
     "output_type": "stream",
     "text": [
      "Enter radius1\n",
      "3.14\n"
     ]
    }
   ],
   "source": [
    "r = float(input(\"Enter radius\"))\n",
    "A = 3.14*r*r\n",
    "print(A)"
   ]
  },
  {
   "cell_type": "code",
   "execution_count": 9,
   "id": "7941f117",
   "metadata": {},
   "outputs": [
    {
     "name": "stdout",
     "output_type": "stream",
     "text": [
      "Enter the value of n 4\n",
      "The value is  492\n"
     ]
    }
   ],
   "source": [
    "n = int(input(\"Enter the value of n \"))\n",
    "cal = (n +10*n+n +n*100+n*10+n)\n",
    "print(\"The value is \",cal)"
   ]
  },
  {
   "cell_type": "code",
   "execution_count": 12,
   "id": "73dc3a69",
   "metadata": {},
   "outputs": [
    {
     "name": "stdout",
     "output_type": "stream",
     "text": [
      "Enter the single digit no. :4\n",
      "492\n"
     ]
    }
   ],
   "source": [
    "n = int(input(\"Enter the single digit no. :\"))\n",
    "n = str(n)\n",
    "nn = n*2\n",
    "nnn = n*3\n",
    "output = print(int(n) + int(nn) + int(nnn))"
   ]
  },
  {
   "cell_type": "code",
   "execution_count": 14,
   "id": "42989653",
   "metadata": {},
   "outputs": [
    {
     "name": "stdout",
     "output_type": "stream",
     "text": [
      "Please Enter the 5 Digit Number12345\n",
      "The Sum of the digits is : 15\n"
     ]
    }
   ],
   "source": [
    "n = int(input(\"Please Enter the 5 Digit Number\"))\n",
    "n = str(n)\n",
    "a = int(n[0])\n",
    "b = int(n[1])\n",
    "c = int(n[2])\n",
    "d = int(n[3])\n",
    "e = int(n[4])\n",
    "sum = a+b+c+d+e\n",
    "print(\"The Sum of the digits is :\",sum)\n"
   ]
  },
  {
   "cell_type": "code",
   "execution_count": null,
   "id": "d7980bd2",
   "metadata": {},
   "outputs": [],
   "source": [
    "#boolean datatype\n",
    "bolean means binary ,binary means. "
   ]
  }
 ],
 "metadata": {
  "kernelspec": {
   "display_name": "Python 3 (ipykernel)",
   "language": "python",
   "name": "python3"
  },
  "language_info": {
   "codemirror_mode": {
    "name": "ipython",
    "version": 3
   },
   "file_extension": ".py",
   "mimetype": "text/x-python",
   "name": "python",
   "nbconvert_exporter": "python",
   "pygments_lexer": "ipython3",
   "version": "3.10.0"
  }
 },
 "nbformat": 4,
 "nbformat_minor": 5
}
