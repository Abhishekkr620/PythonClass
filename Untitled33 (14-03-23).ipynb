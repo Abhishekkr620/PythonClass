{
 "cells": [
  {
   "cell_type": "code",
   "execution_count": 1,
   "id": "215371e2",
   "metadata": {},
   "outputs": [
    {
     "data": {
      "text/plain": [
       "7"
      ]
     },
     "execution_count": 1,
     "metadata": {},
     "output_type": "execute_result"
    }
   ],
   "source": [
    "7|5"
   ]
  },
  {
   "cell_type": "code",
   "execution_count": 2,
   "id": "5c7a7318",
   "metadata": {},
   "outputs": [
    {
     "data": {
      "text/plain": [
       "7"
      ]
     },
     "execution_count": 2,
     "metadata": {},
     "output_type": "execute_result"
    }
   ],
   "source": [
    "5|2\n"
   ]
  },
  {
   "cell_type": "code",
   "execution_count": 3,
   "id": "90b6f6ac",
   "metadata": {},
   "outputs": [
    {
     "data": {
      "text/plain": [
       "3"
      ]
     },
     "execution_count": 3,
     "metadata": {},
     "output_type": "execute_result"
    }
   ],
   "source": [
    "3|2\n"
   ]
  },
  {
   "cell_type": "code",
   "execution_count": 4,
   "id": "98784d2f",
   "metadata": {},
   "outputs": [
    {
     "data": {
      "text/plain": [
       "5"
      ]
     },
     "execution_count": 4,
     "metadata": {},
     "output_type": "execute_result"
    }
   ],
   "source": [
    "7&5"
   ]
  },
  {
   "cell_type": "code",
   "execution_count": 5,
   "id": "5aab66c1",
   "metadata": {},
   "outputs": [
    {
     "data": {
      "text/plain": [
       "0"
      ]
     },
     "execution_count": 5,
     "metadata": {},
     "output_type": "execute_result"
    }
   ],
   "source": [
    "5&2"
   ]
  },
  {
   "cell_type": "code",
   "execution_count": 6,
   "id": "7638ac42",
   "metadata": {},
   "outputs": [
    {
     "data": {
      "text/plain": [
       "2"
      ]
     },
     "execution_count": 6,
     "metadata": {},
     "output_type": "execute_result"
    }
   ],
   "source": [
    "3&2"
   ]
  },
  {
   "cell_type": "code",
   "execution_count": 8,
   "id": "cd409998",
   "metadata": {},
   "outputs": [
    {
     "data": {
      "text/plain": [
       "224"
      ]
     },
     "execution_count": 8,
     "metadata": {},
     "output_type": "execute_result"
    }
   ],
   "source": [
    "7<<5"
   ]
  },
  {
   "cell_type": "code",
   "execution_count": 9,
   "id": "a58b17df",
   "metadata": {},
   "outputs": [
    {
     "name": "stdout",
     "output_type": "stream",
     "text": [
      "3\n"
     ]
    }
   ],
   "source": [
    "print(7>>1)"
   ]
  },
  {
   "cell_type": "code",
   "execution_count": 10,
   "id": "d0297549",
   "metadata": {},
   "outputs": [
    {
     "name": "stdout",
     "output_type": "stream",
     "text": [
      "14\n",
      "10\n"
     ]
    }
   ],
   "source": [
    "print(7<<1)\n",
    "print(5<<1)"
   ]
  },
  {
   "cell_type": "code",
   "execution_count": 3,
   "id": "25823351",
   "metadata": {},
   "outputs": [
    {
     "data": {
      "text/plain": [
       "3749.3086521321816"
      ]
     },
     "execution_count": 3,
     "metadata": {},
     "output_type": "execute_result"
    }
   ],
   "source": [
    "4*7*(6-9+5**9)/(187*6*(7+6))"
   ]
  },
  {
   "cell_type": "code",
   "execution_count": null,
   "id": "d41e76c3",
   "metadata": {},
   "outputs": [],
   "source": []
  }
 ],
 "metadata": {
  "kernelspec": {
   "display_name": "Python 3 (ipykernel)",
   "language": "python",
   "name": "python3"
  },
  "language_info": {
   "codemirror_mode": {
    "name": "ipython",
    "version": 3
   },
   "file_extension": ".py",
   "mimetype": "text/x-python",
   "name": "python",
   "nbconvert_exporter": "python",
   "pygments_lexer": "ipython3",
   "version": "3.10.0"
  }
 },
 "nbformat": 4,
 "nbformat_minor": 5
}
