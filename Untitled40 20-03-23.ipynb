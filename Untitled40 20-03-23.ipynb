{
 "cells": [
  {
   "cell_type": "code",
   "execution_count": null,
   "id": "f3fb78e1",
   "metadata": {},
   "outputs": [],
   "source": [
    "a = input(\"Enter marks of Maths\")\n",
    "b = input(\"Enter marks of Physics\")\n",
    "c = input(\"Enter marks of Chemistry\")\n",
    "AM = (a+b+c)/3\n",
    "print(\"Average marks is\",AM)\n",
    "if ((AM>=91) and (AM<=100)):\n",
    "    print(\"A+\")\n",
    "elif (AM>=81 and AM<=90):\n",
    "    print(\"A\")\n",
    "elif (AM>=71 and AM<=80):\n",
    "    print(\"B+\")\n",
    "elif (AM>=61 and AM<=70):\n",
    "    print(\"B\")\n",
    "else:\n",
    "    print(\"C\")"
   ]
  },
  {
   "cell_type": "code",
   "execution_count": 2,
   "id": "4105b91a",
   "metadata": {},
   "outputs": [
    {
     "name": "stdout",
     "output_type": "stream",
     "text": [
      "Enter marks of Maths77\n",
      "Enter marks of Physics84\n",
      "Enter marks of Chemistry96\n",
      "Your average marks are : 86.0\n",
      "Your Grade is A\n"
     ]
    }
   ],
   "source": [
    "a = int(input(\"Enter marks of Maths\"))\n",
    "b = int(input(\"Enter marks of Physics\"))\n",
    "c = int(input(\"Enter marks of Chemistry\"))\n",
    "avg = round(((a+b+c)/3),0)\n",
    "print(\"Your average marks are :\",avg)\n",
    "\n",
    "if avg >=91:\n",
    "    print(\"Your Grade is A+\")\n",
    "elif avg<=90 and avg>=80:\n",
    "    print(\"Your Grade is A\")\n",
    "elif avg<=80 and avg>=71:\n",
    "    print(\"Your Grade is B+\")\n",
    "elif avg<=70 and avg>60:\n",
    "    print(\"Your Grade is B\")\n",
    "else :\n",
    "    print(\"Your Grade is C\")\n"
   ]
  },
  {
   "cell_type": "code",
   "execution_count": null,
   "id": "75a38b39",
   "metadata": {},
   "outputs": [],
   "source": [
    "#whenever we have a range of values as condition"
   ]
  },
  {
   "cell_type": "code",
   "execution_count": 3,
   "id": "9c404737",
   "metadata": {},
   "outputs": [],
   "source": [
    "# At the end, technology is a faciliator.Reduce complexity and manual job.\n",
    "# what is LOOP?\n",
    "# what are looping statements?\n",
    "# Looping statements is a kind of control statement which keeps on executing\n",
    "# a \"STATEMENT\" or a \"BLOCK OF STATEMENT/CODE\", \"N\" times till the \"STOPPING CONDITION\"\n",
    "# is met or satisfied.\n",
    "\n",
    "# Cnotrol Statements are of 2 types :\n",
    "# 1 - SELECTION STATEMENTS -IF,ELSE,Break,Pass,Contunue\n",
    "# 2 --> LOOPING STATEMENTS -WHILE,FOR"
   ]
  },
  {
   "cell_type": "code",
   "execution_count": 2,
   "id": "7407a910",
   "metadata": {},
   "outputs": [
    {
     "name": "stdout",
     "output_type": "stream",
     "text": [
      "Enter your full name :Ak\n",
      "Ak\n",
      "Ak\n",
      "Ak\n",
      "Ak\n",
      "Ak\n"
     ]
    }
   ],
   "source": [
    "name = input(\"Enter your full name :\")\n",
    "i = 0 #Intialisation Statement\n",
    "while i < 5: #Conditional Statement/Stopping Statement\n",
    "    print(name)\n",
    "    i = i+1\n"
   ]
  },
  {
   "cell_type": "code",
   "execution_count": 1,
   "id": "9d9a1c72",
   "metadata": {},
   "outputs": [
    {
     "name": "stdout",
     "output_type": "stream",
     "text": [
      "Enter your full name :Ak\n",
      "Ak\n",
      "Ak\n",
      "Ak\n",
      "Ak\n",
      "Ak\n"
     ]
    }
   ],
   "source": [
    "name = input(\"Enter your full name :\")\n",
    "i=5 #Intialisation Statement\n",
    "while i>0: #Conditional Statement/Stopping Statement\n",
    "    print(name)\n",
    "    i = i-1"
   ]
  },
  {
   "cell_type": "code",
   "execution_count": 1,
   "id": "51b12b58",
   "metadata": {},
   "outputs": [
    {
     "name": "stdout",
     "output_type": "stream",
     "text": [
      "Enter the first name Raghav\n",
      "Enter the last name Goel\n",
      "How many times you wish to print the name:2\n",
      "Raghav Goel\n",
      "Raghav Goel\n"
     ]
    }
   ],
   "source": [
    "f_name = input(\"Enter the first name \")\n",
    "l_name = input(\"Enter the last name \")\n",
    "n = int(input(\"How many times you wish to print the name:\"))\n",
    "i = 0\n",
    "while i<n:\n",
    "    print(f_name,l_name)\n",
    "    i = i+1"
   ]
  },
  {
   "cell_type": "code",
   "execution_count": null,
   "id": "ac5a1a07",
   "metadata": {},
   "outputs": [],
   "source": []
  },
  {
   "cell_type": "code",
   "execution_count": null,
   "id": "b29bbf4c",
   "metadata": {},
   "outputs": [],
   "source": []
  }
 ],
 "metadata": {
  "kernelspec": {
   "display_name": "Python 3 (ipykernel)",
   "language": "python",
   "name": "python3"
  },
  "language_info": {
   "codemirror_mode": {
    "name": "ipython",
    "version": 3
   },
   "file_extension": ".py",
   "mimetype": "text/x-python",
   "name": "python",
   "nbconvert_exporter": "python",
   "pygments_lexer": "ipython3",
   "version": "3.10.0"
  }
 },
 "nbformat": 4,
 "nbformat_minor": 5
}
