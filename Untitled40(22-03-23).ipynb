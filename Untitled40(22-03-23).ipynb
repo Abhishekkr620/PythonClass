{
 "cells": [
  {
   "cell_type": "code",
   "execution_count": 3,
   "id": "50956917",
   "metadata": {},
   "outputs": [
    {
     "name": "stdout",
     "output_type": "stream",
     "text": [
      "Enter the number to be checked: 9474\n",
      "Order of inputted number 4\n",
      "Inputted no 9474 is an armstrong no. \n"
     ]
    }
   ],
   "source": [
    "n = int(input(\"Enter the number to be checked: \"))# will never be 0\n",
    "length = len(str(n)) # will give the order of inputted no.\n",
    "s = 0 # Initializing sum for calculating armstrong no.\n",
    "i = n\n",
    "while i > 0:\n",
    "    mod = i % 10 #456 % 10 = 6\n",
    "    s = s + mod**length # s = 0 + 6^3\n",
    "    i = i // 10 # Floor Division value will be = 456//10 = 45\n",
    "# To check for Armstrong no we will use (if-else)\n",
    "print(\"Order of inputted number\",length)\n",
    "if n == s:\n",
    "    print(\"Inputted no\",n, \"is an armstrong no. \")\n",
    "else:\n",
    "    print(\"Inputted no\",n, \"is not an armstrong no. \")\n",
    "    "
   ]
  },
  {
   "cell_type": "code",
   "execution_count": 1,
   "id": "fad3779f",
   "metadata": {},
   "outputs": [
    {
     "name": "stdout",
     "output_type": "stream",
     "text": [
      "you need to enter zero after you are done inputting numbers to add them\n",
      "Enter the numbers to be added: 4\n",
      "Enter the numbers to be added, or press zer to add 4\n",
      "Enter the numbers to be added, or press zer to add 2\n",
      "Enter the numbers to be added, or press zer to add 0\n",
      "Sum of the inputted numbers is:  10\n"
     ]
    }
   ],
   "source": [
    "print(\"you need to enter zero after you are done inputting numbers to add them\")\n",
    "n = int(input(\"Enter the numbers to be added: \"))\n",
    "s = 0\n",
    "while n != 0:\n",
    "        s = s + n\n",
    "        n = int(input(\"Enter the numbers to be added, or press zer to add \"))\n",
    "print(\"Sum of the inputted numbers is: \",s)"
   ]
  },
  {
   "cell_type": "code",
   "execution_count": null,
   "id": "c5b4dd18",
   "metadata": {},
   "outputs": [],
   "source": [
    "#4420 10 it will incren=metn the values witn 3rd para units - \"2unit\""
   ]
  },
  {
   "cell_type": "code",
   "execution_count": 2,
   "id": "f26df08b",
   "metadata": {},
   "outputs": [
    {
     "name": "stdout",
     "output_type": "stream",
     "text": [
      "range(1, 10)\n",
      "range(1, 10, 2)\n"
     ]
    }
   ],
   "source": [
    "way2 = range(1,10)\n",
    "print(way2)\n",
    "\n",
    "way3 = range(1,10,2)\n",
    "print(way3)"
   ]
  },
  {
   "cell_type": "code",
   "execution_count": 4,
   "id": "14605454",
   "metadata": {},
   "outputs": [
    {
     "name": "stdout",
     "output_type": "stream",
     "text": [
      "Enter the number till you wish to calculate the Factorial: 4\n",
      "The factoial of  4 is 24\n"
     ]
    }
   ],
   "source": [
    "n = int(input(\"Enter the number till you wish to calculate the Factorial: \"))\n",
    "fact = 1\n",
    "for i in range(1,n+1):\n",
    "    fact = fact*i\n",
    "print(\"The factoial of \",n,\"is\",fact)"
   ]
  },
  {
   "cell_type": "code",
   "execution_count": 6,
   "id": "58df3f7b",
   "metadata": {},
   "outputs": [
    {
     "name": "stdout",
     "output_type": "stream",
     "text": [
      "Enter the number till you wish to calculate the Sum: 5\n",
      "The Sum till  5 is 15\n"
     ]
    }
   ],
   "source": [
    "n = int(input(\"Enter the number till you wish to calculate the Sum: \"))\n",
    "s = 0\n",
    "for i in range(1,n+1):\n",
    "    s = s + i\n",
    "print(\"The Sum till \",n,\"is\",s)"
   ]
  },
  {
   "cell_type": "code",
   "execution_count": null,
   "id": "274912bf",
   "metadata": {},
   "outputs": [],
   "source": [
    "n = int(input(\"Enter the number till you wish to calculate the Sum: \"))\n",
    "s = 0\n",
    "for i in range(0,49):\n",
    "    s = s + i\n",
    "    n = s%3==0\n",
    "print(\"The Sum till \",n,\"is\",s)"
   ]
  },
  {
   "cell_type": "code",
   "execution_count": 12,
   "id": "2f375439",
   "metadata": {},
   "outputs": [
    {
     "name": "stdout",
     "output_type": "stream",
     "text": [
      "0\n",
      "3\n",
      "6\n",
      "9\n",
      "12\n",
      "15\n",
      "18\n",
      "21\n",
      "24\n",
      "27\n",
      "30\n",
      "33\n",
      "36\n",
      "39\n",
      "42\n",
      "45\n",
      "48\n"
     ]
    }
   ],
   "source": [
    "for i in range(0,51):\n",
    "  if i%3 == 0:\n",
    "   print(i)"
   ]
  },
  {
   "cell_type": "code",
   "execution_count": null,
   "id": "5f5d2258",
   "metadata": {},
   "outputs": [],
   "source": []
  }
 ],
 "metadata": {
  "kernelspec": {
   "display_name": "Python 3 (ipykernel)",
   "language": "python",
   "name": "python3"
  },
  "language_info": {
   "codemirror_mode": {
    "name": "ipython",
    "version": 3
   },
   "file_extension": ".py",
   "mimetype": "text/x-python",
   "name": "python",
   "nbconvert_exporter": "python",
   "pygments_lexer": "ipython3",
   "version": "3.10.0"
  }
 },
 "nbformat": 4,
 "nbformat_minor": 5
}
