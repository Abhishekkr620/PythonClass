{
 "cells": [
  {
   "cell_type": "code",
   "execution_count": null,
   "id": "cbfa6c22",
   "metadata": {},
   "outputs": [],
   "source": [
    "c = float(input(\"Enter c \"))\n",
    "f = (9/5)*c + 32\n",
    "print(f)"
   ]
  },
  {
   "cell_type": "code",
   "execution_count": null,
   "id": "312f7ca5",
   "metadata": {},
   "outputs": [],
   "source": [
    "p = float(input(\"enter p\"))\n",
    "r = float(input(\"enter r\"))\n",
    "t = float(input(\"enter t\"))\n",
    "si = (p*r*t)/100\n",
    "A = p+si\n",
    "print(\"si is\",si)\n",
    "print(\"C i is\",A)"
   ]
  },
  {
   "cell_type": "code",
   "execution_count": null,
   "id": "4abeab13",
   "metadata": {},
   "outputs": [],
   "source": [
    "p = float(input(\"enter p\"))\n",
    "si = float(input(\"enter si\"))\n",
    "t = float(input(\"enter t\"))\n",
    "r = (si*100)/(p*t)\n",
    "print(\"rate is\",r)\n"
   ]
  },
  {
   "cell_type": "code",
   "execution_count": null,
   "id": "1b682bff",
   "metadata": {},
   "outputs": [],
   "source": [
    "p = float(input(\"enter p\"))\n",
    "r = float(input(\"enter r\"))\n",
    "si = float(input(\"enter si\"))\n",
    "t = (si*100)/(p*r)\n",
    "print(t)"
   ]
  },
  {
   "cell_type": "code",
   "execution_count": null,
   "id": "46b1a76a",
   "metadata": {},
   "outputs": [],
   "source": [
    "a=10\n",
    "b=20\n",
    "temp = a\n",
    "a = b\n",
    "b = temp\n",
    "print(\"after swapping a &b are\",a,b)"
   ]
  },
  {
   "cell_type": "code",
   "execution_count": null,
   "id": "9b76005f",
   "metadata": {},
   "outputs": [],
   "source": [
    "a = 5\n",
    "b = 20\n",
    "a,b=b,a\n",
    "print(a,b)"
   ]
  },
  {
   "cell_type": "code",
   "execution_count": null,
   "id": "0e0e4b0f",
   "metadata": {},
   "outputs": [],
   "source": [
    "a = input(\"enter string 1 \")\n",
    "b = input(\"enter string 2 \")\n",
    "temp = a\n",
    "a = b\n",
    "b = temp\n",
    "print(a,b)"
   ]
  },
  {
   "cell_type": "code",
   "execution_count": null,
   "id": "199bc42f",
   "metadata": {},
   "outputs": [],
   "source": [
    "a = input(\"enter string 1 \")\n",
    "b = input(\"enter string 2 \")\n",
    "a,b=b,a\n",
    "print(a,b)"
   ]
  },
  {
   "cell_type": "code",
   "execution_count": null,
   "id": "67d56604",
   "metadata": {},
   "outputs": [],
   "source": [
    "a1 = int(input(\"side of triangle a \"))\n",
    "b1 = int(input(\"side of triangle b \"))\n",
    "l2 = int(input(\"side of rectangle l2 \"))\n",
    "b2 = int(input(\"side of rectangle b2 \"))\n",
    "r = int(input(\"enter radius of circle r \"))\n",
    "r1 = int(input(\"enter radius of sphere r1 \"))\n",
    "a_t = (1/2)*a1*b1\n",
    "a_rect = l2*b2\n",
    "a_cir = 3.14*r*r\n",
    "a_sq = 4*3.14*r1*r1\n",
    "print(\"a_t\",a_t)\n",
    "print(\"a_rect\",a_rect)\n",
    "print(\"a_cir\",a_cir)\n",
    "print(\"a_sq\",a_sq)\n"
   ]
  },
  {
   "cell_type": "code",
   "execution_count": null,
   "id": "ca4dc061",
   "metadata": {},
   "outputs": [],
   "source": [
    "str = \"Abhishek kumar\"\n",
    "print(\"new str is\",str[1:13:1])"
   ]
  },
  {
   "cell_type": "code",
   "execution_count": null,
   "id": "89db272c",
   "metadata": {},
   "outputs": [],
   "source": [
    "a = \"Abhishek kumar\"\n",
    "a1 = a.upper()\n",
    "a2 = a.lower()\n",
    "print(\"upper case is\",a1)\n",
    "print(\"lower case is\",a2)"
   ]
  },
  {
   "cell_type": "code",
   "execution_count": null,
   "id": "b43ee033",
   "metadata": {},
   "outputs": [],
   "source": [
    "a = input(\"Enter a 6 digit number \")\n",
    "n1 = a[0:1]\n",
    "n2 = a[1:2]\n",
    "n3 = a[2:3]\n",
    "n4 = a[3:4]\n",
    "n5 = a[4:5]\n",
    "n6 = a[5:6]\n",
    "sum1 = int(n1)**1 + int(n2)**2 + int(n3)**3 +int(n4)**4 + int(n5)**5 + int(n6)**6\n",
    "sum2 = int(n1)**6 + int(n2)**5 + int(n3)**4 +int(n4)**3 + int(n5)**2 + int(n6)**1\n",
    "print(\"sum1\",sum1)\n",
    "print(\"sum2\",sum2)\n",
    "print(\"difference is \",sum2 - sum1)\n"
   ]
  },
  {
   "cell_type": "code",
   "execution_count": null,
   "id": "d2a4850e",
   "metadata": {},
   "outputs": [],
   "source": [
    "name = input(\"Enter name\")\n",
    "rev_name = name[::-1]\n",
    "print(\"reverse name \",rev_name)\n",
    "l_name = name[-5:]\n",
    "print(\"last 5 names \",l_name)"
   ]
  },
  {
   "cell_type": "code",
   "execution_count": 2,
   "id": "036a90c0",
   "metadata": {},
   "outputs": [
    {
     "name": "stdout",
     "output_type": "stream",
     "text": [
      "Enter the string121\n",
      "palindrome\n"
     ]
    }
   ],
   "source": [
    "n = int(input(\"Enter the string\"))\n",
    "a = str(n)\n",
    "if str(n)==str(n)[::-1]:\n",
    "    print(\"palindrome\")\n",
    "else:\n",
    "    print(\"not palindrome\")"
   ]
  },
  {
   "cell_type": "code",
   "execution_count": null,
   "id": "006b0d85",
   "metadata": {},
   "outputs": [],
   "source": []
  },
  {
   "cell_type": "code",
   "execution_count": null,
   "id": "52564167",
   "metadata": {},
   "outputs": [],
   "source": []
  }
 ],
 "metadata": {
  "kernelspec": {
   "display_name": "Python 3 (ipykernel)",
   "language": "python",
   "name": "python3"
  },
  "language_info": {
   "codemirror_mode": {
    "name": "ipython",
    "version": 3
   },
   "file_extension": ".py",
   "mimetype": "text/x-python",
   "name": "python",
   "nbconvert_exporter": "python",
   "pygments_lexer": "ipython3",
   "version": "3.10.0"
  }
 },
 "nbformat": 4,
 "nbformat_minor": 5
}
