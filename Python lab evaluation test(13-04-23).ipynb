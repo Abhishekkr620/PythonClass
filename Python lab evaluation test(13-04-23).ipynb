{
 "cells": [
  {
   "cell_type": "code",
   "execution_count": 21,
   "id": "d414f9c6",
   "metadata": {},
   "outputs": [
    {
     "name": "stdout",
     "output_type": "stream",
     "text": [
      "Enter number upto which we have to find odd palindrome 100\n",
      "odd palindromes upto 100 are:\n",
      "[1, 3, 5, 7, 9, 11, 33, 55, 77, 99]\n"
     ]
    }
   ],
   "source": [
    "#Q1)\n",
    "def ispalindrome(n):\n",
    "    return str(n)==str(n)[::-1]\n",
    "    \n",
    "max_num = int(input(\"Enter number upto which we have to find odd palindrome \"))\n",
    "print(\"odd palindromes upto\",max_num,\"are:\")\n",
    "\n",
    "palindromes=[]\n",
    "for n in range(1,max_num+1):\n",
    "    if n%2==1 and ispalindrome(n):\n",
    "        palindromes.append(n)\n",
    "print(palindromes)"
   ]
  },
  {
   "cell_type": "code",
   "execution_count": 32,
   "id": "f0c7f5f3",
   "metadata": {},
   "outputs": [
    {
     "name": "stdout",
     "output_type": "stream",
     "text": [
      "Number\tFrequency\tProbability\n",
      "102\t2\t\t0.015\n",
      "65\t2\t\t0.015\n",
      "93\t2\t\t0.015\n",
      "53\t3\t\t0.023\n",
      "72\t1\t\t0.008\n",
      "100\t2\t\t0.015\n",
      "101\t5\t\t0.038\n",
      "97\t2\t\t0.015\n",
      "145\t1\t\t0.008\n",
      "83\t4\t\t0.031\n",
      "98\t1\t\t0.008\n",
      "68\t2\t\t0.015\n",
      "80\t4\t\t0.031\n",
      "59\t2\t\t0.015\n",
      "41\t4\t\t0.031\n",
      "61\t5\t\t0.038\n",
      "46\t1\t\t0.008\n",
      "36\t2\t\t0.015\n",
      "77\t1\t\t0.008\n",
      "95\t1\t\t0.008\n",
      "78\t3\t\t0.023\n",
      "56\t2\t\t0.015\n",
      "84\t4\t\t0.031\n",
      "69\t3\t\t0.023\n",
      "82\t4\t\t0.031\n",
      "50\t1\t\t0.008\n",
      "121\t1\t\t0.008\n",
      "58\t2\t\t0.015\n",
      "104\t1\t\t0.008\n",
      "89\t4\t\t0.031\n",
      "96\t2\t\t0.015\n",
      "81\t2\t\t0.015\n",
      "118\t1\t\t0.008\n",
      "60\t1\t\t0.008\n",
      "107\t1\t\t0.008\n",
      "149\t1\t\t0.008\n",
      "122\t1\t\t0.008\n",
      "126\t2\t\t0.015\n",
      "110\t2\t\t0.015\n",
      "51\t1\t\t0.008\n",
      "108\t3\t\t0.023\n",
      "165\t1\t\t0.008\n",
      "148\t1\t\t0.008\n",
      "112\t2\t\t0.015\n",
      "103\t1\t\t0.008\n",
      "111\t1\t\t0.008\n",
      "42\t1\t\t0.008\n",
      "141\t1\t\t0.008\n",
      "117\t2\t\t0.015\n",
      "92\t2\t\t0.015\n",
      "124\t1\t\t0.008\n",
      "129\t1\t\t0.008\n",
      "67\t1\t\t0.008\n",
      "33\t1\t\t0.008\n",
      "127\t1\t\t0.008\n",
      "62\t1\t\t0.008\n",
      "132\t1\t\t0.008\n",
      "123\t1\t\t0.008\n",
      "87\t2\t\t0.015\n",
      "48\t2\t\t0.015\n",
      "66\t1\t\t0.008\n",
      "79\t2\t\t0.015\n",
      "99\t2\t\t0.015\n",
      "91\t2\t\t0.015\n",
      "71\t1\t\t0.008\n",
      "63\t2\t\t0.015\n",
      "136\t1\t\t0.008\n",
      "64\t1\t\t0.008\n",
      "45\t1\t\t0.008\n",
      "152\t1\t\t0.008\n",
      "75\t1\t\t0.008\n",
      "54\t1\t\t0.008\n",
      "142\t1\t\t0.008\n"
     ]
    }
   ],
   "source": [
    "#Q2)\n",
    "numbers = [102,65,93,53,72,100,101,97,145,83,98,68,80,59,41,61,46,36,97,77,95,100,78,56,83,84,83,\n",
    "           36,69,82,50,121,102,58,104,89,96,84,68,81,41,78,118,60,107,149,122,126,84,110,41,51,\n",
    "           69,89,108,165,148,112,103,111,42,89,65,80,141,117,92,108,124,129,56,108,67,33,89,127,62,80,82,132,78,123,87,48,48,66,79,99,92,91,71,59,80,63,96,101,101,81,136,61,83,41,64,84,63,\n",
    "           126,82,58,117,93,53,53,45,101,61,87,99,69,110,152,79,101,61,75,112,91,82,61,54,142]\n",
    "\n",
    "# Count the frequency of each number using a dictionary\n",
    "freq_dict = {}\n",
    "for num in numbers:\n",
    "    if num in freq_dict:\n",
    "        freq_dict[num] += 1\n",
    "    else:\n",
    "        freq_dict[num] = 1\n",
    "\n",
    "# Calculate and print the individual probability for each number\n",
    "total_count = len(numbers)\n",
    "print(\"Number\\tFrequency\\tProbability\")\n",
    "for num, freq in freq_dict.items():\n",
    "    prob = freq / total_count\n",
    "    print(f\"{num}\\t{freq}\\t\\t{prob:.3f}\")                                                             "
   ]
  },
  {
   "cell_type": "code",
   "execution_count": 25,
   "id": "fdbd618d",
   "metadata": {},
   "outputs": [
    {
     "name": "stdout",
     "output_type": "stream",
     "text": [
      "Enter the element to check yellow\n",
      "yellow exists in the tuple of tuples\n"
     ]
    }
   ],
   "source": [
    "#Q3)\n",
    "def element_in_tuple_of_tuples(element, tuple_of_tuples):\n",
    "    for t in tuple_of_tuples:\n",
    "        if element in t:\n",
    "            return True\n",
    "    return False\n",
    "\n",
    "tuple_of_tuples = (('Red', 'Green', 'Blue'), ('Cyan', 'Magenta', 'yellow'), ('Orange', 'White', 'Purple'))\n",
    "element = input(\"Enter the element to check \")\n",
    "\n",
    "if element_in_tuple_of_tuples(element, tuple_of_tuples):\n",
    "    print(f\"{element} exists in the tuple of tuples\")\n",
    "else:\n",
    "    print(f\"{element} does not exist in the tuple of tuples\")"
   ]
  },
  {
   "cell_type": "code",
   "execution_count": 29,
   "id": "027a68aa",
   "metadata": {},
   "outputs": [
    {
     "name": "stdout",
     "output_type": "stream",
     "text": [
      "Project cost: 1017000\n",
      "Actual cost with production cost: 1271250.0\n"
     ]
    }
   ],
   "source": [
    "#Q4)\n",
    "def project_cost():\n",
    "    Designer_salary = 73000\n",
    "    Tester_salary = 80000\n",
    "    Coder_salary = 62000\n",
    "    Team_members = {'designer': 1, 'tester': 1, 'coder': 3}\n",
    "    Duration = 3 # in months\n",
    "\n",
    "    total_salary = (Designer_salary + Tester_salary +\n",
    "                    Coder_salary * 3) * Duration\n",
    "\n",
    "    return total_salary\n",
    "\n",
    "def actual_cost(project_cost, production_cost_percent):\n",
    "    return project_cost * (1 + production_cost_percent/100)\n",
    "\n",
    "project_cost = project_cost()\n",
    "production_cost_percent = 25\n",
    "actual_project_cost = actual_cost(project_cost, production_cost_percent)\n",
    "\n",
    "print(\"Project cost:\", project_cost)\n",
    "print(\"Actual cost with production cost:\", actual_project_cost)"
   ]
  }
 ],
 "metadata": {
  "kernelspec": {
   "display_name": "Python 3 (ipykernel)",
   "language": "python",
   "name": "python3"
  },
  "language_info": {
   "codemirror_mode": {
    "name": "ipython",
    "version": 3
   },
   "file_extension": ".py",
   "mimetype": "text/x-python",
   "name": "python",
   "nbconvert_exporter": "python",
   "pygments_lexer": "ipython3",
   "version": "3.10.0"
  }
 },
 "nbformat": 4,
 "nbformat_minor": 5
}
