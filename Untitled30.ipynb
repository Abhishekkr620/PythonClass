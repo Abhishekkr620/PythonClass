{
 "cells": [
  {
   "cell_type": "code",
   "execution_count": 1,
   "id": "1285b73e",
   "metadata": {},
   "outputs": [
    {
     "name": "stdout",
     "output_type": "stream",
     "text": [
      "19\n",
      "19\n"
     ]
    }
   ],
   "source": [
    "a = 10\n",
    "b = 9\n",
    "a =a+b\n",
    "print(a)\n",
    "h = 10\n",
    "j = 9\n",
    "h+=j\n",
    "print(h)"
   ]
  },
  {
   "cell_type": "code",
   "execution_count": 2,
   "id": "99b491d3",
   "metadata": {},
   "outputs": [
    {
     "name": "stdout",
     "output_type": "stream",
     "text": [
      "1\n",
      "1\n"
     ]
    }
   ],
   "source": [
    "a = 10\n",
    "b = 9\n",
    "a =a-b\n",
    "print(a)\n",
    "h = 10\n",
    "j = 9\n",
    "h-=j\n",
    "print(h)"
   ]
  },
  {
   "cell_type": "code",
   "execution_count": 3,
   "id": "4c578169",
   "metadata": {},
   "outputs": [
    {
     "name": "stdout",
     "output_type": "stream",
     "text": [
      "90\n",
      "90\n"
     ]
    }
   ],
   "source": [
    "a = 10\n",
    "b = 9\n",
    "a =a*b\n",
    "print(a)\n",
    "h = 10\n",
    "j = 9\n",
    "h*=j\n",
    "print(h)"
   ]
  },
  {
   "cell_type": "code",
   "execution_count": 4,
   "id": "98d2f2a6",
   "metadata": {},
   "outputs": [
    {
     "name": "stdout",
     "output_type": "stream",
     "text": [
      "1.1111111111111112\n",
      "1.1111111111111112\n"
     ]
    }
   ],
   "source": [
    "a = 10\n",
    "b = 9\n",
    "a =a/b\n",
    "print(a)\n",
    "h = 10\n",
    "j = 9\n",
    "h/=j\n",
    "print(h)"
   ]
  },
  {
   "cell_type": "code",
   "execution_count": 5,
   "id": "35987a9b",
   "metadata": {},
   "outputs": [
    {
     "name": "stdout",
     "output_type": "stream",
     "text": [
      "1\n",
      "1\n"
     ]
    }
   ],
   "source": [
    "a = 10\n",
    "b = 9\n",
    "a =a//b\n",
    "print(a)\n",
    "h = 10\n",
    "j = 9\n",
    "h//=j\n",
    "print(h)"
   ]
  },
  {
   "cell_type": "code",
   "execution_count": 6,
   "id": "e0938b8f",
   "metadata": {},
   "outputs": [
    {
     "name": "stdout",
     "output_type": "stream",
     "text": [
      "1\n",
      "1\n"
     ]
    }
   ],
   "source": [
    "a = 10\n",
    "b = 9\n",
    "a =a%b\n",
    "print(a)\n",
    "h = 10\n",
    "j = 9\n",
    "h%=j\n",
    "print(h)"
   ]
  },
  {
   "cell_type": "code",
   "execution_count": 8,
   "id": "387b788a",
   "metadata": {},
   "outputs": [
    {
     "name": "stdout",
     "output_type": "stream",
     "text": [
      "1000000000\n",
      "1000000000\n"
     ]
    }
   ],
   "source": [
    "a = 10\n",
    "b = 9\n",
    "a =a**b\n",
    "print(a)\n",
    "h = 10\n",
    "j = 9\n",
    "h**=j\n",
    "print(h)"
   ]
  },
  {
   "cell_type": "code",
   "execution_count": 14,
   "id": "b335b5dc",
   "metadata": {},
   "outputs": [
    {
     "name": "stdout",
     "output_type": "stream",
     "text": [
      "True\n",
      "False\n",
      "False\n"
     ]
    }
   ],
   "source": [
    "a = 4\n",
    "b = 5\n",
    "c = 6\n",
    "print(a<b and b<c)\n",
    "print(a<b and b>c)\n",
    "print(a<b and b<c and c<a)"
   ]
  },
  {
   "cell_type": "code",
   "execution_count": 13,
   "id": "96be44c4",
   "metadata": {},
   "outputs": [
    {
     "name": "stdout",
     "output_type": "stream",
     "text": [
      "True\n",
      "True\n",
      "True\n"
     ]
    }
   ],
   "source": [
    "a = 4\n",
    "b = 5\n",
    "c = 6\n",
    "print(a<b or b<c)\n",
    "print(a<b or b>c)\n",
    "print(a<b or b<c or c<a)"
   ]
  },
  {
   "cell_type": "code",
   "execution_count": 12,
   "id": "d1df9f85",
   "metadata": {},
   "outputs": [
    {
     "name": "stdout",
     "output_type": "stream",
     "text": [
      "False\n",
      "False\n",
      "False\n"
     ]
    }
   ],
   "source": [
    "a = 4\n",
    "b = 5\n",
    "c = 6\n",
    "print(not(a<b or b<c))\n",
    "print(not(a<b or b>c))\n",
    "print(not(a<b or b<c or c<a))"
   ]
  },
  {
   "cell_type": "code",
   "execution_count": 1,
   "id": "334a247d",
   "metadata": {},
   "outputs": [
    {
     "name": "stdout",
     "output_type": "stream",
     "text": [
      "False\n",
      "True\n",
      "True\n"
     ]
    }
   ],
   "source": [
    "a = 4\n",
    "b = 5\n",
    "c = 6\n",
    "print(not(a<b and b<c))\n",
    "print(not(a<b and b>c))\n",
    "print(not(a<b and b<c and c<a))"
   ]
  },
  {
   "cell_type": "code",
   "execution_count": 2,
   "id": "d2a1c874",
   "metadata": {},
   "outputs": [
    {
     "name": "stdout",
     "output_type": "stream",
     "text": [
      "True\n",
      "True\n",
      "True\n"
     ]
    }
   ],
   "source": [
    "a = 4\n",
    "b = 5\n",
    "c = 6\n",
    "print(not(not(a<b or b<c)))\n",
    "print(not(not(a<b or b>c)))\n",
    "print(not(not(a<b or b<c or c<a)))"
   ]
  },
  {
   "cell_type": "code",
   "execution_count": 6,
   "id": "70aa99f4",
   "metadata": {},
   "outputs": [
    {
     "data": {
      "text/plain": [
       "1614833975824"
      ]
     },
     "execution_count": 6,
     "metadata": {},
     "output_type": "execute_result"
    }
   ],
   "source": [
    "a = 10\n",
    "id(a)"
   ]
  },
  {
   "cell_type": "code",
   "execution_count": 7,
   "id": "49ecf8ed",
   "metadata": {},
   "outputs": [
    {
     "data": {
      "text/plain": [
       "1614833975824"
      ]
     },
     "execution_count": 7,
     "metadata": {},
     "output_type": "execute_result"
    }
   ],
   "source": [
    "b = 10\n",
    "id(b)"
   ]
  },
  {
   "cell_type": "code",
   "execution_count": 8,
   "id": "ab042655",
   "metadata": {},
   "outputs": [
    {
     "name": "stdout",
     "output_type": "stream",
     "text": [
      "True\n"
     ]
    }
   ],
   "source": [
    "print(a is b)"
   ]
  },
  {
   "cell_type": "code",
   "execution_count": 9,
   "id": "d6233ccd",
   "metadata": {},
   "outputs": [
    {
     "name": "stdout",
     "output_type": "stream",
     "text": [
      "False\n"
     ]
    }
   ],
   "source": [
    "print(a is not b)"
   ]
  },
  {
   "cell_type": "code",
   "execution_count": 10,
   "id": "1e7efc6d",
   "metadata": {},
   "outputs": [
    {
     "name": "stdout",
     "output_type": "stream",
     "text": [
      "True\n"
     ]
    }
   ],
   "source": [
    "name = \"Raghav Goel\"\n",
    "print(\"R\" in name)"
   ]
  },
  {
   "cell_type": "code",
   "execution_count": 11,
   "id": "84619a1f",
   "metadata": {},
   "outputs": [
    {
     "name": "stdout",
     "output_type": "stream",
     "text": [
      "False\n"
     ]
    }
   ],
   "source": [
    "name = \"Raghav Goel\"\n",
    "print(\"*\" in name)"
   ]
  },
  {
   "cell_type": "code",
   "execution_count": 12,
   "id": "3d1dfdfb",
   "metadata": {},
   "outputs": [
    {
     "name": "stdout",
     "output_type": "stream",
     "text": [
      "True\n"
     ]
    }
   ],
   "source": [
    "name = \"Raghav Goel\"\n",
    "print(\"oel\" in name)"
   ]
  },
  {
   "cell_type": "code",
   "execution_count": null,
   "id": "ee843b89",
   "metadata": {},
   "outputs": [],
   "source": []
  }
 ],
 "metadata": {
  "kernelspec": {
   "display_name": "Python 3 (ipykernel)",
   "language": "python",
   "name": "python3"
  },
  "language_info": {
   "codemirror_mode": {
    "name": "ipython",
    "version": 3
   },
   "file_extension": ".py",
   "mimetype": "text/x-python",
   "name": "python",
   "nbconvert_exporter": "python",
   "pygments_lexer": "ipython3",
   "version": "3.10.0"
  }
 },
 "nbformat": 4,
 "nbformat_minor": 5
}
