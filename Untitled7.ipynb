{
 "cells": [
  {
   "cell_type": "code",
   "execution_count": 1,
   "id": "c4020e0b",
   "metadata": {},
   "outputs": [
    {
     "data": {
      "text/plain": [
       "'hellohellohello'"
      ]
     },
     "execution_count": 1,
     "metadata": {},
     "output_type": "execute_result"
    }
   ],
   "source": [
    "f = 'hello'\n",
    "f*3"
   ]
  },
  {
   "cell_type": "code",
   "execution_count": 5,
   "id": "86d06b1e",
   "metadata": {},
   "outputs": [
    {
     "name": "stdout",
     "output_type": "stream",
     "text": [
      "My\tName\tis\tRaghav\tGoel\n"
     ]
    }
   ],
   "source": [
    "r = \"My\\tName\\tis\\tRaghav\\tGoel\"\n",
    "print(r)"
   ]
  },
  {
   "cell_type": "code",
   "execution_count": 14,
   "id": "32ab2387",
   "metadata": {},
   "outputs": [
    {
     "ename": "SyntaxError",
     "evalue": "unexpected character after line continuation character (984052669.py, line 11)",
     "output_type": "error",
     "traceback": [
      "\u001b[1;36m  Cell \u001b[1;32mIn[14], line 11\u001b[1;36m\u001b[0m\n\u001b[1;33m    print(a1\\n,a2\\n,a3\\n,a4\\n,a5)\u001b[0m\n\u001b[1;37m                                ^\u001b[0m\n\u001b[1;31mSyntaxError\u001b[0m\u001b[1;31m:\u001b[0m unexpected character after line continuation character\n"
     ]
    }
   ],
   "source": [
    "a1 = \"Raghav Goel\"\n",
    "a2 = \"RAGHAV GOEL\"\n",
    "a3 = \"raghav Goel\"\n",
    "a4 = \"RagHaV Goel\"\n",
    "a5 = \"RAGHaV Goel\"\n",
    "a1 = a1.lower()\n",
    "a2 = a2.lower()\n",
    "a3 = a3.lower()\n",
    "a4 = a4.lower()\n",
    "a5 = a5.lower()\n",
    "print(a1\\n,a2\\n,a3\\n,a4\\n,a5)"
   ]
  },
  {
   "cell_type": "code",
   "execution_count": null,
   "id": "887d8615",
   "metadata": {},
   "outputs": [],
   "source": []
  }
 ],
 "metadata": {
  "kernelspec": {
   "display_name": "Python 3 (ipykernel)",
   "language": "python",
   "name": "python3"
  },
  "language_info": {
   "codemirror_mode": {
    "name": "ipython",
    "version": 3
   },
   "file_extension": ".py",
   "mimetype": "text/x-python",
   "name": "python",
   "nbconvert_exporter": "python",
   "pygments_lexer": "ipython3",
   "version": "3.10.0"
  }
 },
 "nbformat": 4,
 "nbformat_minor": 5
}
