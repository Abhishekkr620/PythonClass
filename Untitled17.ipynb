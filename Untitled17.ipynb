{
 "cells": [
  {
   "cell_type": "code",
   "execution_count": 5,
   "id": "03a0e157",
   "metadata": {},
   "outputs": [
    {
     "name": "stdout",
     "output_type": "stream",
     "text": [
      "enter temperature in celius:15\n",
      "temperature in fahrenheit: 59.0\n"
     ]
    }
   ],
   "source": [
    "#q1\n",
    "celcius = float(input(\"enter temperature in celius:\"))\n",
    "fahrenheit = (celcius*9/5)+32\n",
    "print(\"temperature in fahrenheit:\", fahrenheit)"
   ]
  },
  {
   "cell_type": "code",
   "execution_count": 13,
   "id": "4cd344b2",
   "metadata": {},
   "outputs": [
    {
     "name": "stdout",
     "output_type": "stream",
     "text": [
      "Enter principal1000\n",
      "Enter rate of interest5\n",
      "Enter time2\n",
      "100.0\n",
      "1100.0\n"
     ]
    }
   ],
   "source": [
    "#q2\n",
    "p = float(input(\"Enter principal\"))\n",
    "r = float(input(\"Enter rate of interest\"))\n",
    "t = float(input(\"Enter time\"))\n",
    "si = (p*r*t)/100\n",
    "cp = p + si\n",
    "print(si)\n",
    "print(cp)"
   ]
  },
  {
   "cell_type": "code",
   "execution_count": 15,
   "id": "a901bbc3",
   "metadata": {},
   "outputs": [
    {
     "name": "stdout",
     "output_type": "stream",
     "text": [
      "Enter principal:1000\n",
      "Enter simple interest:58\n",
      "Enter time:2\n",
      "0.1\n"
     ]
    }
   ],
   "source": [
    "#q3\n",
    "p = float(input(\"Enter principal:\"))\n",
    "si = float(input(\"Enter simple interest:\"))\n",
    "t = float(input(\"Enter time:\"))\n",
    "r = (si*100)/(p*si)\n",
    "print(r)"
   ]
  },
  {
   "cell_type": "code",
   "execution_count": 16,
   "id": "af7ba8f0",
   "metadata": {},
   "outputs": [
    {
     "name": "stdout",
     "output_type": "stream",
     "text": [
      "Enter principal:1000\n",
      "Enter rate of interest::2\n",
      "Enter simple interest:125\n",
      "6.25\n"
     ]
    }
   ],
   "source": [
    "#q5\n",
    "p = float(input(\"Enter principal:\"))\n",
    "r = float(input(\"Enter rate of interest::\"))\n",
    "si = float(input(\"Enter simple interest:\"))\n",
    "t = (si*100)/(p*r)\n",
    "print(t)"
   ]
  },
  {
   "cell_type": "code",
   "execution_count": 17,
   "id": "f945577f",
   "metadata": {},
   "outputs": [
    {
     "name": "stdout",
     "output_type": "stream",
     "text": [
      "6 5\n"
     ]
    }
   ],
   "source": [
    "#q5 a\n",
    "a = 5\n",
    "b = 6\n",
    "t = a\n",
    "a = b\n",
    "b = t\n",
    "print(a,b)\n"
   ]
  },
  {
   "cell_type": "code",
   "execution_count": 18,
   "id": "50cb7fa2",
   "metadata": {},
   "outputs": [
    {
     "name": "stdout",
     "output_type": "stream",
     "text": [
      "6 5\n"
     ]
    }
   ],
   "source": [
    "#q5 b\n",
    "a = 5\n",
    "b = 6\n",
    "a,b = b,a\n",
    "print(a,b)"
   ]
  },
  {
   "cell_type": "code",
   "execution_count": 19,
   "id": "099559cb",
   "metadata": {},
   "outputs": [
    {
     "name": "stdout",
     "output_type": "stream",
     "text": [
      "kumar abhishek\n"
     ]
    }
   ],
   "source": [
    "#q5 c\n",
    "a = \"abhishek\"\n",
    "b = \"kumar\"\n",
    "t = a\n",
    "a = b\n",
    "b = t\n",
    "print(a,b)"
   ]
  },
  {
   "cell_type": "code",
   "execution_count": 20,
   "id": "1196f43f",
   "metadata": {},
   "outputs": [
    {
     "name": "stdout",
     "output_type": "stream",
     "text": [
      "area of triangle:\n",
      " 7.5\n",
      "area of rectangle:\n",
      " 3\n",
      "area of circle:\n",
      " 153.86\n",
      "area of sphere:\n",
      " 615.44\n"
     ]
    }
   ],
   "source": [
    "#q6 \n",
    "t_b = 5\n",
    "t_h = 3\n",
    "r_a = 1\n",
    "r_b = 3\n",
    "r = 7\n",
    "pi = 3.14\n",
    "at = 1/2*t_b*t_h\n",
    "ar = r_a*r_b\n",
    "ac = pi*r*r\n",
    "a_s = 4*pi*r*r\n",
    "print(\"area of triangle:\\n\",at)\n",
    "print(\"area of rectangle:\\n\",ar)\n",
    "print(\"area of circle:\\n\",ac)\n",
    "print(\"area of sphere:\\n\",a_s)"
   ]
  },
  {
   "cell_type": "code",
   "execution_count": 33,
   "id": "8878f86b",
   "metadata": {},
   "outputs": [
    {
     "name": "stdout",
     "output_type": "stream",
     "text": [
      "ABHINDANAN MAHARANA\n",
      "abhindanan maharana\n"
     ]
    }
   ],
   "source": [
    "#Q10\n",
    "a = \"abhindanan maharana\"\n",
    "a = a.upper()\n",
    "print(a)\n",
    "b = \"ABHINDANAN MAHARANA\"\n",
    "b = b.lower()\n",
    "print(b)"
   ]
  },
  {
   "cell_type": "code",
   "execution_count": 32,
   "id": "5f157ae2",
   "metadata": {},
   "outputs": [
    {
     "name": "stdout",
     "output_type": "stream",
     "text": [
      "BHINDANAN MAHARAN\n"
     ]
    }
   ],
   "source": [
    "#q8\n",
    "name = \"ABHINDANAN MAHARANA\"\n",
    "print(name[1:18])"
   ]
  },
  {
   "cell_type": "code",
   "execution_count": null,
   "id": "ae6bd294",
   "metadata": {},
   "outputs": [],
   "source": []
  },
  {
   "cell_type": "code",
   "execution_count": null,
   "id": "11e78ede",
   "metadata": {},
   "outputs": [],
   "source": []
  },
  {
   "cell_type": "code",
   "execution_count": null,
   "id": "63578d37",
   "metadata": {},
   "outputs": [],
   "source": []
  }
 ],
 "metadata": {
  "kernelspec": {
   "display_name": "Python 3 (ipykernel)",
   "language": "python",
   "name": "python3"
  },
  "language_info": {
   "codemirror_mode": {
    "name": "ipython",
    "version": 3
   },
   "file_extension": ".py",
   "mimetype": "text/x-python",
   "name": "python",
   "nbconvert_exporter": "python",
   "pygments_lexer": "ipython3",
   "version": "3.10.0"
  }
 },
 "nbformat": 4,
 "nbformat_minor": 5
}
