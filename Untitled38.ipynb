{
 "cells": [
  {
   "cell_type": "code",
   "execution_count": null,
   "id": "45851bed",
   "metadata": {},
   "outputs": [],
   "source": [
    "a = int(input(\"Enter 1st number \"))\n",
    "b = int(input(\"Enter 2nd number \"))\n",
    "c = input(\"Enter operation\")\n",
    "if (c=='+'):\n",
    "    print(\"sum is \",a+b)\n",
    "elif (c=='-'):\n",
    "    print(\"Sub is \",a-b)\n",
    "elif (c=='*'):\n",
    "    print(\"Mul is \",a*b)\n",
    "elif (c=='/'):\n",
    "    print(\"Div is \",a/b)\n",
    "elif (c=='%'):\n",
    "    print(\"Mod is \",a%b)\n",
    "elif (c=='<<'):\n",
    "    print(\"bitwise left is \",a<<b)\n",
    "elif (c=='>>'):\n",
    "    print(\"bitwise right is \",a>>b)\n",
    "else:\n",
    "    print(\"operation is not available\")"
   ]
  },
  {
   "cell_type": "code",
   "execution_count": null,
   "id": "e9953fca",
   "metadata": {},
   "outputs": [],
   "source": [
    "a=int(input(\"Enter the amount you want to withdrawl(must be multiple of 100) : \"))\n",
    "if(a%100!=0):\n",
    "    print(\"Invalid input. Amount must be multiple of 100\")\n",
    "else:\n",
    "    note_2000 = a//2000\n",
    "    a = a % 2000\n",
    "    \n",
    "    note_500 = a // 500\n",
    "    a = a % 500\n",
    "    \n",
    "    note_200 = a // 200\n",
    "    a = a % 200\n",
    "    \n",
    "    note_100 = a // 100\n",
    "    \n",
    "if note_2000 > 0:\n",
    "    print(\"Please take \",note_2000,\" notes of 2000 Rupees\")\n",
    "if note_500 > 0:\n",
    "    print(\"Please take\",note_500,\" notes of 500 Rupees\")\n",
    "if note_200 > 0:\n",
    "    print(\"Please take\",note_200,\"notes of 200 Rupees\")\n",
    "if note_100 > 0:\n",
    "    print(\"Please take\",note_100,\"notes of 100 Rupees\")"
   ]
  },
  {
   "cell_type": "code",
   "execution_count": null,
   "id": "5d2c20b6",
   "metadata": {},
   "outputs": [],
   "source": []
  }
 ],
 "metadata": {
  "kernelspec": {
   "display_name": "Python 3 (ipykernel)",
   "language": "python",
   "name": "python3"
  },
  "language_info": {
   "codemirror_mode": {
    "name": "ipython",
    "version": 3
   },
   "file_extension": ".py",
   "mimetype": "text/x-python",
   "name": "python",
   "nbconvert_exporter": "python",
   "pygments_lexer": "ipython3",
   "version": "3.10.0"
  }
 },
 "nbformat": 4,
 "nbformat_minor": 5
}
