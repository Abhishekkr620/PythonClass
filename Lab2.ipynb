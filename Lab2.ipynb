{
 "cells": [
  {
   "cell_type": "code",
   "execution_count": 3,
   "id": "b1518b8d",
   "metadata": {},
   "outputs": [],
   "source": [
    "# write a python menu driven program for queue operations.\n",
    "# Initialize an empty queue\n",
    "queue = []\n",
    "\n",
    "def view_queue():\n",
    "    if not queue:\n",
    "        print(\"Queue is empty\")\n",
    "    else:\n",
    "        for item in queue:\n",
    "            print(item)\n",
    "\n",
    "def enqueue():\n",
    "    item = input(\"Please enter the item you wish to add to the queue: \")\n",
    "    queue.append(item)\n",
    "\n",
    "def dequeue():\n",
    "    if not queue:\n",
    "        print(\"Queue is empty\")\n",
    "    else:\n",
    "        item = queue.pop(0)\n",
    "        print(\"You just dequeued: \", item)\n",
    "\n",
    "def main():\n",
    "    while True:\n",
    "        print(\"\")\n",
    "        print(\"Python implementation of a queue\")\n",
    "        print(\"\")\n",
    "        print(\"1. View Queue\")\n",
    "        print(\"2. Enqueue\")\n",
    "        print(\"3. Dequeue\")\n",
    "        print(\"4. Exit\")\n",
    "        print(\"\")\n",
    "        \n",
    "        menu_choice = int(input(\"Please enter your menu choice: \"))\n",
    "        print(\"\")\n",
    "\n",
    "        if menu_choice == 1:\n",
    "            view_queue()\n",
    "        elif menu_choice == 2:\n",
    "            enqueue()\n",
    "        elif menu_choice == 3:\n",
    "            dequeue()\n",
    "        elif menu_choice == 4:\n",
    "            print(\"Exiting the program.\")\n",
    "            break\n",
    "        else:\n",
    "            print(\"Invalid choice, please enter a number between 1 and 4.\")\n",
    "\n"
   ]
  },
  {
   "cell_type": "code",
   "execution_count": 5,
   "id": "ba65d5ea",
   "metadata": {},
   "outputs": [
    {
     "name": "stdout",
     "output_type": "stream",
     "text": [
      "{'KB': 300}\n"
     ]
    }
   ],
   "source": [
    "\n",
    "dict= {\"KB\": 250}\n",
    "\n",
    "dict[\"KB\"] += 50\n",
    "\n",
    "print(dict)"
   ]
  },
  {
   "cell_type": "code",
   "execution_count": null,
   "id": "0ccba906",
   "metadata": {},
   "outputs": [],
   "source": []
  }
 ],
 "metadata": {
  "kernelspec": {
   "display_name": "Python 3 (ipykernel)",
   "language": "python",
   "name": "python3"
  },
  "language_info": {
   "codemirror_mode": {
    "name": "ipython",
    "version": 3
   },
   "file_extension": ".py",
   "mimetype": "text/x-python",
   "name": "python",
   "nbconvert_exporter": "python",
   "pygments_lexer": "ipython3",
   "version": "3.10.0"
  }
 },
 "nbformat": 4,
 "nbformat_minor": 5
}
