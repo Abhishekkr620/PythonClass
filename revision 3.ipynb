{
 "cells": [
  {
   "cell_type": "code",
   "execution_count": 2,
   "id": "6615998d",
   "metadata": {},
   "outputs": [
    {
     "name": "stdout",
     "output_type": "stream",
     "text": [
      "my file is given\n",
      "\n"
     ]
    }
   ],
   "source": [
    "f = open(\"myfile.txt\",'r')\n",
    "text = f.read()\n",
    "print(text)\n",
    "f.close()"
   ]
  },
  {
   "cell_type": "code",
   "execution_count": 4,
   "id": "35a18f4a",
   "metadata": {},
   "outputs": [],
   "source": [
    "f = open(\"myfile3.txt\",'w')\n",
    "f.write(\"Hello hello\")\n",
    "f.close()"
   ]
  },
  {
   "cell_type": "code",
   "execution_count": 6,
   "id": "79ce3e26",
   "metadata": {},
   "outputs": [],
   "source": [
    "f = open(\"myfile.txt\",'a')\n",
    "f.write(\"name aak\")\n",
    "f.close()"
   ]
  },
  {
   "cell_type": "code",
   "execution_count": 7,
   "id": "add1bd2b",
   "metadata": {},
   "outputs": [],
   "source": [
    "with open(\"myfile2.txt\",'a') as f:\n",
    "    f.write(\"I am not alone\")"
   ]
  },
  {
   "cell_type": "code",
   "execution_count": 8,
   "id": "6558d83f",
   "metadata": {},
   "outputs": [
    {
     "name": "stdout",
     "output_type": "stream",
     "text": [
      "['my file is given\\n', 'name aak']\n"
     ]
    }
   ],
   "source": [
    "f = open(\"myfile.txt\",'r')\n",
    "while True:\n",
    "    line = f.readlines()\n",
    "    if not line:\n",
    "        break\n",
    "    print(line)"
   ]
  },
  {
   "cell_type": "code",
   "execution_count": 13,
   "id": "43780299",
   "metadata": {},
   "outputs": [
    {
     "name": "stdout",
     "output_type": "stream",
     "text": [
      "['Hello hello']\n"
     ]
    }
   ],
   "source": [
    "f = open(\"myfile3.txt\",'r')\n",
    "while True:\n",
    "    line = f.readlines()\n",
    "    if not line:\n",
    "        break\n",
    "    print(line)"
   ]
  },
  {
   "cell_type": "code",
   "execution_count": null,
   "id": "df6b482a",
   "metadata": {},
   "outputs": [],
   "source": []
  }
 ],
 "metadata": {
  "kernelspec": {
   "display_name": "Python 3 (ipykernel)",
   "language": "python",
   "name": "python3"
  },
  "language_info": {
   "codemirror_mode": {
    "name": "ipython",
    "version": 3
   },
   "file_extension": ".py",
   "mimetype": "text/x-python",
   "name": "python",
   "nbconvert_exporter": "python",
   "pygments_lexer": "ipython3",
   "version": "3.10.0"
  }
 },
 "nbformat": 4,
 "nbformat_minor": 5
}
