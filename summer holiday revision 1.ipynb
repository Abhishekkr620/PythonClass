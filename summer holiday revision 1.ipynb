{
 "cells": [
  {
   "cell_type": "code",
   "execution_count": 7,
   "id": "b933c799",
   "metadata": {},
   "outputs": [
    {
     "name": "stdout",
     "output_type": "stream",
     "text": [
      "Enter name of fruit 1 apple\n",
      "Enter name of fruit 2 banana\n",
      "Enter name of fruit 3 orange\n",
      "Enter name of fruit 4 guava\n",
      "Enter name of fruit 5 mango\n",
      "Enter name of fruit 6 pineapple\n",
      "Enter name of fruit 7 lichi\n",
      "['apple', 'banana', 'orange', 'guava', 'mango', 'pineapple', 'lichi']\n"
     ]
    }
   ],
   "source": [
    "#Q1)\n",
    "f1 = input(\"Enter name of fruit 1 \")\n",
    "f2 = input(\"Enter name of fruit 2 \")\n",
    "f3 = input(\"Enter name of fruit 3 \")\n",
    "f4 = input(\"Enter name of fruit 4 \")\n",
    "f5 = input(\"Enter name of fruit 5 \")\n",
    "f6 = input(\"Enter name of fruit 6 \")\n",
    "f7 = input(\"Enter name of fruit 7 \")\n",
    "fruitlist = [f1,f2,f3,f4,f5,f6,f7]\n",
    "print(fruitlist)"
   ]
  },
  {
   "cell_type": "code",
   "execution_count": 8,
   "id": "c44c544f",
   "metadata": {},
   "outputs": [
    {
     "name": "stdout",
     "output_type": "stream",
     "text": [
      "enter marks of student 1 10\n",
      "enter marks of student 2 8\n",
      "enter marks of student 3 7\n",
      "enter marks of student 4 5\n",
      "enter marks of student 5 8\n",
      "enter marks of student 6 9\n",
      "[5, 7, 8, 8, 9, 10]\n"
     ]
    }
   ],
   "source": [
    "#Q2)\n",
    "m1 = int(input(\"enter marks of student 1 \"))\n",
    "m2 = int(input(\"enter marks of student 2 \"))\n",
    "m3 = int(input(\"enter marks of student 3 \"))\n",
    "m4 = int(input(\"enter marks of student 4 \"))\n",
    "m5 = int(input(\"enter marks of student 5 \"))\n",
    "m6 = int(input(\"enter marks of student 6 \"))\n",
    "marks = [m1,m2,m3,m4,m5,m6]\n",
    "marks.sort()\n",
    "print(marks)\n"
   ]
  },
  {
   "cell_type": "code",
   "execution_count": 9,
   "id": "ac91ab4c",
   "metadata": {},
   "outputs": [
    {
     "ename": "TypeError",
     "evalue": "'tuple' object does not support item assignment",
     "output_type": "error",
     "traceback": [
      "\u001b[1;31m---------------------------------------------------------------------------\u001b[0m",
      "\u001b[1;31mTypeError\u001b[0m                                 Traceback (most recent call last)",
      "Cell \u001b[1;32mIn[9], line 2\u001b[0m\n\u001b[0;32m      1\u001b[0m tup \u001b[38;5;241m=\u001b[39m (\u001b[38;5;241m1\u001b[39m,\u001b[38;5;241m2\u001b[39m,\u001b[38;5;241m3\u001b[39m)\n\u001b[1;32m----> 2\u001b[0m \u001b[43mtup\u001b[49m\u001b[43m[\u001b[49m\u001b[38;5;241;43m0\u001b[39;49m\u001b[43m]\u001b[49m\u001b[38;5;241m=\u001b[39m\u001b[38;5;241m2\u001b[39m\n\u001b[0;32m      3\u001b[0m \u001b[38;5;28mprint\u001b[39m(tup)\n",
      "\u001b[1;31mTypeError\u001b[0m: 'tuple' object does not support item assignment"
     ]
    }
   ],
   "source": [
    "#Q3)\n",
    "tup = (1,2,3)\n",
    "tup[0]=2\n",
    "print(tup)"
   ]
  },
  {
   "cell_type": "code",
   "execution_count": 12,
   "id": "b165fcf2",
   "metadata": {},
   "outputs": [
    {
     "name": "stdout",
     "output_type": "stream",
     "text": [
      "enter marks of student 1 10\n",
      "enter marks of student 2 20\n",
      "enter marks of student 3 22\n",
      "enter marks of student 4 25\n",
      "[10, 20, 22, 25]\n",
      "Sum is 77\n"
     ]
    }
   ],
   "source": [
    "#Q4\n",
    "m1 = int(input(\"enter marks of student 1 \"))\n",
    "m2 = int(input(\"enter marks of student 2 \"))\n",
    "m3 = int(input(\"enter marks of student 3 \"))\n",
    "m4 = int(input(\"enter marks of student 4 \"))\n",
    "list = [m1,m2,m3,m4]\n",
    "print(list)\n",
    "sum = list[0]+list[1]+list[2]+list[3]\n",
    "print(\"Sum is\",sum)"
   ]
  },
  {
   "cell_type": "code",
   "execution_count": 11,
   "id": "ee93d892",
   "metadata": {},
   "outputs": [
    {
     "data": {
      "text/plain": [
       "3"
      ]
     },
     "execution_count": 11,
     "metadata": {},
     "output_type": "execute_result"
    }
   ],
   "source": [
    "#Q5)\n",
    "tup = (0,8,0,0,9)\n",
    "tup.count(0)"
   ]
  },
  {
   "cell_type": "code",
   "execution_count": null,
   "id": "5eee2e95",
   "metadata": {},
   "outputs": [],
   "source": []
  },
  {
   "cell_type": "code",
   "execution_count": null,
   "id": "80c18abc",
   "metadata": {},
   "outputs": [],
   "source": []
  }
 ],
 "metadata": {
  "kernelspec": {
   "display_name": "Python 3 (ipykernel)",
   "language": "python",
   "name": "python3"
  },
  "language_info": {
   "codemirror_mode": {
    "name": "ipython",
    "version": 3
   },
   "file_extension": ".py",
   "mimetype": "text/x-python",
   "name": "python",
   "nbconvert_exporter": "python",
   "pygments_lexer": "ipython3",
   "version": "3.10.0"
  }
 },
 "nbformat": 4,
 "nbformat_minor": 5
}
