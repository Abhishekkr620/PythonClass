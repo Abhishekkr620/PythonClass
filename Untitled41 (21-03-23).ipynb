{
 "cells": [
  {
   "cell_type": "code",
   "execution_count": 13,
   "id": "678516f9",
   "metadata": {},
   "outputs": [
    {
     "name": "stdout",
     "output_type": "stream",
     "text": [
      "Square of  1 is 1\n",
      "Square of  2 is 4\n",
      "Square of  3 is 9\n",
      "Square of  4 is 16\n",
      "Square of  5 is 25\n",
      "Square of  6 is 36\n",
      "Square of  7 is 49\n",
      "Square of  8 is 64\n",
      "Square of  9 is 81\n",
      "Square of  10 is 100\n",
      "Square of  11 is 121\n",
      "Square of  12 is 144\n",
      "Square of  13 is 169\n",
      "Square of  14 is 196\n",
      "Square of  15 is 225\n"
     ]
    }
   ],
   "source": [
    "i = 1\n",
    "while i<=15:\n",
    "    square = i*i\n",
    "    print(\"Square of \",i,\"is\",square)\n",
    "    i = i+1"
   ]
  },
  {
   "cell_type": "code",
   "execution_count": 14,
   "id": "e1af68a6",
   "metadata": {},
   "outputs": [
    {
     "name": "stdout",
     "output_type": "stream",
     "text": [
      "Square of  1 is 1\n",
      "Square of  2 is 4\n",
      "Square of  3 is 9\n",
      "Square of  4 is 16\n",
      "Square of  5 is 25\n",
      "Square of  6 is 36\n",
      "Square of  7 is 49\n",
      "Square of  8 is 64\n",
      "Square of  9 is 81\n",
      "Square of  10 is 100\n",
      "Square of  11 is 121\n",
      "Square of  12 is 144\n",
      "Square of  13 is 169\n",
      "Square of  14 is 196\n",
      "Square of  15 is 225\n"
     ]
    }
   ],
   "source": [
    "i = 1\n",
    "while i<=15:\n",
    "    print(\"Square of \",i,\"is\",i*i)\n",
    "    i = i+1"
   ]
  },
  {
   "cell_type": "code",
   "execution_count": 20,
   "id": "ed3900fa",
   "metadata": {},
   "outputs": [
    {
     "ename": "SyntaxError",
     "evalue": "invalid syntax (461222967.py, line 7)",
     "output_type": "error",
     "traceback": [
      "\u001b[1;36m  Cell \u001b[1;32mIn[20], line 7\u001b[1;36m\u001b[0m\n\u001b[1;33m    i = i +\u001b[0m\n\u001b[1;37m            ^\u001b[0m\n\u001b[1;31mSyntaxError\u001b[0m\u001b[1;31m:\u001b[0m invalid syntax\n"
     ]
    }
   ],
   "source": [
    "n = int(input(\"enter the number: \"))\n",
    "\n",
    "sum = 0\n",
    "i = 0\n",
    "while i <= n:\n",
    "    sum = sum + i\n",
    "    i = i + \n",
    "print(\"The sum of the numbers is\",sum)"
   ]
  },
  {
   "cell_type": "code",
   "execution_count": 21,
   "id": "62488000",
   "metadata": {},
   "outputs": [
    {
     "name": "stdout",
     "output_type": "stream",
     "text": [
      "Enter the number: 5\n",
      "The  factorial of the number is:  120\n"
     ]
    }
   ],
   "source": [
    "n = int(input(\"Enter the number: \"))\n",
    "fact = 1\n",
    "i = 1\n",
    "while i <= n:\n",
    "    fact = fact * i\n",
    "    i = i + 1\n",
    "print(\"The  factorial of the number is: \",fact)"
   ]
  },
  {
   "cell_type": "code",
   "execution_count": 15,
   "id": "d4aaac0e",
   "metadata": {},
   "outputs": [
    {
     "name": "stdout",
     "output_type": "stream",
     "text": [
      "Enter the number21\n"
     ]
    },
    {
     "ename": "TypeError",
     "evalue": "'<=' not supported between instances of 'int' and 'str'",
     "output_type": "error",
     "traceback": [
      "\u001b[1;31m---------------------------------------------------------------------------\u001b[0m",
      "\u001b[1;31mTypeError\u001b[0m                                 Traceback (most recent call last)",
      "Cell \u001b[1;32mIn[15], line 3\u001b[0m\n\u001b[0;32m      1\u001b[0m n \u001b[38;5;241m=\u001b[39m \u001b[38;5;28minput\u001b[39m(\u001b[38;5;124m\"\u001b[39m\u001b[38;5;124mEnter the number\u001b[39m\u001b[38;5;124m\"\u001b[39m)\n\u001b[0;32m      2\u001b[0m n \u001b[38;5;241m=\u001b[39m \u001b[38;5;28mstr\u001b[39m(n)\n\u001b[1;32m----> 3\u001b[0m \u001b[38;5;28;01mwhile\u001b[39;00m \u001b[43mi\u001b[49m\u001b[38;5;241;43m<\u001b[39;49m\u001b[38;5;241;43m=\u001b[39;49m\u001b[43mn\u001b[49m:\n\u001b[0;32m      4\u001b[0m     \u001b[38;5;28msum\u001b[39m \u001b[38;5;241m=\u001b[39m \u001b[38;5;241m0\u001b[39m\n\u001b[0;32m      5\u001b[0m     i \u001b[38;5;241m=\u001b[39m i\u001b[38;5;241m+\u001b[39m\u001b[38;5;28mint\u001b[39m(n)\n",
      "\u001b[1;31mTypeError\u001b[0m: '<=' not supported between instances of 'int' and 'str'"
     ]
    }
   ],
   "source": [
    "n = int(input(\"Enter the number\"))\n"
   ]
  },
  {
   "cell_type": "code",
   "execution_count": 23,
   "id": "d84eb14f",
   "metadata": {},
   "outputs": [
    {
     "name": "stdout",
     "output_type": "stream",
     "text": [
      "Enter the number: 67\n",
      "The sum of the digits will be 13\n"
     ]
    }
   ],
   "source": [
    "n = int(input(\"Enter the number: \"))#456\n",
    "s = 0\n",
    "while n!=0:\n",
    "    mod = n%10 #456%10 = 6\n",
    "    s = s + mod #floor value of division 456//10 = 45\n",
    "    n = n//10\n",
    "print(\"The sum of the digits will be\",s)"
   ]
  },
  {
   "cell_type": "code",
   "execution_count": null,
   "id": "8944c7ff",
   "metadata": {},
   "outputs": [],
   "source": []
  }
 ],
 "metadata": {
  "kernelspec": {
   "display_name": "Python 3 (ipykernel)",
   "language": "python",
   "name": "python3"
  },
  "language_info": {
   "codemirror_mode": {
    "name": "ipython",
    "version": 3
   },
   "file_extension": ".py",
   "mimetype": "text/x-python",
   "name": "python",
   "nbconvert_exporter": "python",
   "pygments_lexer": "ipython3",
   "version": "3.10.0"
  }
 },
 "nbformat": 4,
 "nbformat_minor": 5
}
