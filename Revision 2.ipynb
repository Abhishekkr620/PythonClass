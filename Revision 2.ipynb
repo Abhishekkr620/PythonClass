{
 "cells": [
  {
   "cell_type": "code",
   "execution_count": 3,
   "id": "246f4089",
   "metadata": {},
   "outputs": [
    {
     "name": "stdout",
     "output_type": "stream",
     "text": [
      "1\n",
      "3\n",
      "5\n",
      "7\n",
      "9\n",
      "11\n",
      "13\n",
      "15\n",
      "17\n",
      "19\n",
      "21\n",
      "23\n",
      "25\n",
      "27\n",
      "29\n",
      "31\n",
      "33\n",
      "35\n",
      "37\n",
      "39\n",
      "41\n",
      "43\n",
      "45\n",
      "47\n",
      "49\n"
     ]
    }
   ],
   "source": [
    "for i in range (0,51):\n",
    "    if i%2!=0:\n",
    "        print(i)"
   ]
  },
  {
   "cell_type": "code",
   "execution_count": 4,
   "id": "954dac80",
   "metadata": {},
   "outputs": [
    {
     "data": {
      "text/plain": [
       "'hello worldhello world'"
      ]
     },
     "execution_count": 4,
     "metadata": {},
     "output_type": "execute_result"
    }
   ],
   "source": [
    "str = 'hello world'\n",
    "str*2\n"
   ]
  },
  {
   "cell_type": "code",
   "execution_count": 5,
   "id": "81e2c3f6",
   "metadata": {},
   "outputs": [
    {
     "data": {
      "text/plain": [
       "[1, 2, 3, 4, 5, 6]"
      ]
     },
     "execution_count": 5,
     "metadata": {},
     "output_type": "execute_result"
    }
   ],
   "source": [
    "[1,2,3]+[4,5,6]"
   ]
  },
  {
   "cell_type": "code",
   "execution_count": 6,
   "id": "facdfc9e",
   "metadata": {},
   "outputs": [
    {
     "name": "stdout",
     "output_type": "stream",
     "text": [
      "Enter radius of circle5\n",
      "circumference is  31.400000000000002\n",
      "Area is  78.5\n"
     ]
    }
   ],
   "source": [
    "r = int(input(\"Enter radius of circle\"))\n",
    "cir = 2*3.14*r\n",
    "A = 3.14*r*r\n",
    "print(\"circumference is \",cir)\n",
    "print(\"Area is \",A)"
   ]
  },
  {
   "cell_type": "code",
   "execution_count": 8,
   "id": "7bfd0dcc",
   "metadata": {},
   "outputs": [
    {
     "name": "stdout",
     "output_type": "stream",
     "text": [
      "Enter number1\n",
      "Enter number1\n",
      "Enter number2\n",
      "Sum is  0\n"
     ]
    }
   ],
   "source": [
    "a = int(input(\"Enter number\"))\n",
    "b = int(input(\"Enter number\"))\n",
    "c = int(input(\"Enter number\"))\n",
    "if (a==b)or(a==c)or(b==c):\n",
    "    print(\"Sum is \",0)\n",
    "else:\n",
    "    print(\"sum is \",a+b+c)"
   ]
  },
  {
   "cell_type": "code",
   "execution_count": 9,
   "id": "1931aa3d",
   "metadata": {},
   "outputs": [
    {
     "name": "stdout",
     "output_type": "stream",
     "text": [
      "enter the celcius0\n",
      "32.0\n"
     ]
    }
   ],
   "source": [
    "c = float(input(\"enter the celcius\"))\n",
    "f = 9/5*c + 32\n",
    "print(f)"
   ]
  },
  {
   "cell_type": "code",
   "execution_count": 11,
   "id": "70ee2cbf",
   "metadata": {},
   "outputs": [
    {
     "name": "stdout",
     "output_type": "stream",
     "text": [
      "1\n",
      "2\n",
      "3\n",
      "4\n",
      "YAY\n",
      "6\n",
      "NAY\n",
      "8\n",
      "9\n",
      "YAY\n",
      "11\n",
      "12\n",
      "13\n",
      "NAY\n",
      "GOOD\n",
      "16\n",
      "17\n",
      "18\n",
      "19\n",
      "YAY\n",
      "NAY\n",
      "22\n",
      "23\n",
      "24\n",
      "YAY\n",
      "26\n",
      "27\n",
      "NAY\n",
      "29\n",
      "GOOD\n",
      "31\n",
      "32\n",
      "33\n",
      "34\n",
      "YAY\n",
      "36\n",
      "37\n",
      "38\n",
      "39\n",
      "YAY\n",
      "41\n",
      "NAY\n",
      "43\n",
      "44\n",
      "GOOD\n",
      "46\n",
      "47\n",
      "48\n",
      "NAY\n",
      "YAY\n"
     ]
    }
   ],
   "source": [
    "for i in range(1,51):\n",
    "    if (i%3==0)and(i%5==0):\n",
    "        print(\"GOOD\")\n",
    "    elif (i%5==0):\n",
    "        print(\"YAY\")\n",
    "    elif (i%7==0):\n",
    "        print(\"NAY\")\n",
    "    else:\n",
    "        print(i)"
   ]
  },
  {
   "cell_type": "code",
   "execution_count": 16,
   "id": "ea8d679f",
   "metadata": {},
   "outputs": [
    {
     "name": "stdout",
     "output_type": "stream",
     "text": [
      "enter name of month feb\n",
      "no of days 28/29\n"
     ]
    }
   ],
   "source": [
    "list= ['jan','feb','march','apr']\n",
    "n = input(\"enter name of month \")\n",
    "if n==list[0]:\n",
    "    print(\"no. of days is 31\")\n",
    "elif n==list[1]:\n",
    "    print(\"no of days 28/29\")\n",
    "elif n ==list[2]:\n",
    "    print(\"no of days is 31\")\n",
    "else:\n",
    "    print(\"not exist\")\n"
   ]
  },
  {
   "cell_type": "code",
   "execution_count": 19,
   "id": "2b310a10",
   "metadata": {},
   "outputs": [
    {
     "name": "stdout",
     "output_type": "stream",
     "text": [
      "24\n"
     ]
    }
   ],
   "source": [
    "list = (4,3,2,2,-1,18)\n",
    "n = int(list[0])*(list[1])*(list[2])\n",
    "print(n)\n"
   ]
  },
  {
   "cell_type": "code",
   "execution_count": 31,
   "id": "4bbf161e",
   "metadata": {},
   "outputs": [
    {
     "name": "stdout",
     "output_type": "stream",
     "text": [
      "pyhello\n"
     ]
    }
   ],
   "source": [
    "str = 'hello py'\n",
    "rev = (str)[6:8]+(str)[0:5]\n",
    "print(rev)"
   ]
  },
  {
   "cell_type": "code",
   "execution_count": 35,
   "id": "51c9dcbc",
   "metadata": {},
   "outputs": [
    {
     "name": "stdout",
     "output_type": "stream",
     "text": [
      "Enter side of triangle1\n",
      "Enter side of triangle2\n",
      "Enter side of triangle3\n",
      "scalene\n"
     ]
    }
   ],
   "source": [
    "a = int(input(\"Enter side of triangle\"))\n",
    "b = int(input(\"Enter side of triangle\"))\n",
    "c = int(input(\"Enter side of triangle\"))\n",
    "if (a==b)and(a==c)and(b==c):\n",
    "    print(\"Equilateral\")\n",
    "elif (a==b)or(b==c)or(c==a):\n",
    "    print(\"isoceles\")\n",
    "else:\n",
    "    print(\"scalene\")"
   ]
  },
  {
   "cell_type": "code",
   "execution_count": null,
   "id": "8db8cec5",
   "metadata": {},
   "outputs": [],
   "source": []
  },
  {
   "cell_type": "code",
   "execution_count": 38,
   "id": "98b3698d",
   "metadata": {},
   "outputs": [
    {
     "name": "stdout",
     "output_type": "stream",
     "text": [
      "enter celcius0\n",
      "32.0\n"
     ]
    }
   ],
   "source": [
    "c = int(input(\"enter celcius\"))\n",
    "f = 9/5*c+32\n",
    "print(f)"
   ]
  },
  {
   "cell_type": "code",
   "execution_count": 39,
   "id": "4533a969",
   "metadata": {},
   "outputs": [
    {
     "name": "stdout",
     "output_type": "stream",
     "text": [
      "enter p100\n",
      "enter r20\n",
      "enter t5\n",
      "100.0\n",
      "200.0\n"
     ]
    }
   ],
   "source": [
    "p = int(input(\"enter p\"))\n",
    "r = int(input(\"enter r\"))\n",
    "t = int(input(\"enter t\"))\n",
    "si =(p*r*t)/100\n",
    "ca = p+si\n",
    "print(si)\n",
    "print(ca)"
   ]
  },
  {
   "cell_type": "code",
   "execution_count": 40,
   "id": "fb057905",
   "metadata": {},
   "outputs": [
    {
     "name": "stdout",
     "output_type": "stream",
     "text": [
      "2 6\n"
     ]
    }
   ],
   "source": [
    "a = 6\n",
    "b =2\n",
    "t = a\n",
    "a = b\n",
    "b = t\n",
    "print(a,b)"
   ]
  },
  {
   "cell_type": "code",
   "execution_count": 41,
   "id": "ec45f32d",
   "metadata": {},
   "outputs": [
    {
     "name": "stdout",
     "output_type": "stream",
     "text": [
      "2 6\n"
     ]
    }
   ],
   "source": [
    "a = 6\n",
    "b =2\n",
    "a,b = b,a\n",
    "print(a,b)"
   ]
  },
  {
   "cell_type": "code",
   "execution_count": 46,
   "id": "8fac0a8a",
   "metadata": {},
   "outputs": [
    {
     "name": "stdout",
     "output_type": "stream",
     "text": [
      "Enter 6 digit number254564\n"
     ]
    },
    {
     "ename": "TypeError",
     "evalue": "'str' object is not callable",
     "output_type": "error",
     "traceback": [
      "\u001b[1;31m---------------------------------------------------------------------------\u001b[0m",
      "\u001b[1;31mTypeError\u001b[0m                                 Traceback (most recent call last)",
      "Cell \u001b[1;32mIn[46], line 2\u001b[0m\n\u001b[0;32m      1\u001b[0m n \u001b[38;5;241m=\u001b[39m \u001b[38;5;28minput\u001b[39m(\u001b[38;5;124m\"\u001b[39m\u001b[38;5;124mEnter 6 digit number\u001b[39m\u001b[38;5;124m\"\u001b[39m)\u001b[38;5;66;03m#786531\u001b[39;00m\n\u001b[1;32m----> 2\u001b[0m k \u001b[38;5;241m=\u001b[39m \u001b[38;5;28;43mstr\u001b[39;49m\u001b[43m(\u001b[49m\u001b[43mn\u001b[49m\u001b[43m)\u001b[49m\n\u001b[0;32m      3\u001b[0m a \u001b[38;5;241m=\u001b[39m \u001b[38;5;28mint\u001b[39m(\u001b[38;5;28mstr\u001b[39m[\u001b[38;5;241m0\u001b[39m])\n\u001b[0;32m      4\u001b[0m b \u001b[38;5;241m=\u001b[39m \u001b[38;5;28mint\u001b[39m(\u001b[38;5;28mstr\u001b[39m[\u001b[38;5;241m1\u001b[39m])\n",
      "\u001b[1;31mTypeError\u001b[0m: 'str' object is not callable"
     ]
    }
   ],
   "source": [
    "n = input(\"Enter 6 digit number\")#786531\n",
    "k = str(n)\n",
    "a = int(str[0])\n",
    "b = int(str[1])\n",
    "c = (str[2])\n",
    "d = (str[3])\n",
    "e = (str[4])\n",
    "f = (str[5])\n",
    "g = a**1+b**2+c**3+d**4+e**5+f**6\n",
    "print(g)\n"
   ]
  },
  {
   "cell_type": "code",
   "execution_count": 50,
   "id": "5b88c37c",
   "metadata": {},
   "outputs": [
    {
     "name": "stdout",
     "output_type": "stream",
     "text": [
      "ayituhclawajju\n"
     ]
    }
   ],
   "source": [
    "n = \"ujjawalchutiya\"\n",
    "rev = n[::-1]\n",
    "print(rev)"
   ]
  },
  {
   "cell_type": "code",
   "execution_count": 52,
   "id": "32b1fdfd",
   "metadata": {},
   "outputs": [
    {
     "name": "stdout",
     "output_type": "stream",
     "text": [
      "chutiya\n"
     ]
    }
   ],
   "source": [
    "n = \"ujjawalchutiya\"\n",
    "rev = n[-7:]\n",
    "print(rev)"
   ]
  },
  {
   "cell_type": "code",
   "execution_count": 53,
   "id": "a5f52da8",
   "metadata": {},
   "outputs": [
    {
     "name": "stdout",
     "output_type": "stream",
     "text": [
      "kpeaslhlaavv\n"
     ]
    }
   ],
   "source": [
    "m = \"keshav\"\n",
    "n = \"pallavi\"\n",
    "p = m[0]+n[0]+m[1]+n[1]+m[2]+n[2]+m[3]+n[3]+m[4]+n[4]+m[5]+n[5]\n",
    "print(p)"
   ]
  },
  {
   "cell_type": "code",
   "execution_count": null,
   "id": "2967b8b7",
   "metadata": {},
   "outputs": [],
   "source": []
  }
 ],
 "metadata": {
  "kernelspec": {
   "display_name": "Python 3 (ipykernel)",
   "language": "python",
   "name": "python3"
  },
  "language_info": {
   "codemirror_mode": {
    "name": "ipython",
    "version": 3
   },
   "file_extension": ".py",
   "mimetype": "text/x-python",
   "name": "python",
   "nbconvert_exporter": "python",
   "pygments_lexer": "ipython3",
   "version": "3.10.0"
  }
 },
 "nbformat": 4,
 "nbformat_minor": 5
}
